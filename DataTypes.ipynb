{
 "cells": [
  {
   "cell_type": "code",
   "execution_count": 1,
   "id": "911847b0-1843-4711-a682-dfd81080e7c0",
   "metadata": {},
   "outputs": [],
   "source": [
    "#data type"
   ]
  },
  {
   "cell_type": "code",
   "execution_count": 4,
   "id": "7f2c2a73-f3a6-4aa8-8a18-d57a7a348469",
   "metadata": {},
   "outputs": [
    {
     "data": {
      "text/plain": [
       "int"
      ]
     },
     "execution_count": 4,
     "metadata": {},
     "output_type": "execute_result"
    }
   ],
   "source": [
    "type(10) #bu ifade girilen değişkenin veri tipini verir"
   ]
  },
  {
   "cell_type": "code",
   "execution_count": null,
   "id": "c0d48d5f-56a8-4df2-bf32-94872bfaedd4",
   "metadata": {},
   "outputs": [],
   "source": []
  }
 ],
 "metadata": {
  "kernelspec": {
   "display_name": "Python 3 (ipykernel)",
   "language": "python",
   "name": "python3"
  },
  "language_info": {
   "codemirror_mode": {
    "name": "ipython",
    "version": 3
   },
   "file_extension": ".py",
   "mimetype": "text/x-python",
   "name": "python",
   "nbconvert_exporter": "python",
   "pygments_lexer": "ipython3",
   "version": "3.11.7"
  }
 },
 "nbformat": 4,
 "nbformat_minor": 5
}
