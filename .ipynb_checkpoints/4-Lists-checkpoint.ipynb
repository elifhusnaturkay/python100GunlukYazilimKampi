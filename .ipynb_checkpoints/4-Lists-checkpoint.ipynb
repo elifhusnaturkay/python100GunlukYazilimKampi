{
 "cells": [
  {
   "cell_type": "code",
   "execution_count": 1,
   "id": "421cf8d7-0e0f-45ec-af7b-2a8de839cfda",
   "metadata": {},
   "outputs": [],
   "source": [
    "#LIST"
   ]
  },
  {
   "cell_type": "code",
   "execution_count": 2,
   "id": "f6814d6a-f85c-4151-bf2d-8f0b9bc2ad18",
   "metadata": {},
   "outputs": [],
   "source": [
    "myList = [10,20,30]"
   ]
  },
  {
   "cell_type": "code",
   "execution_count": 3,
   "id": "8f3a4380-5533-4943-9680-bca387e19ef9",
   "metadata": {},
   "outputs": [
    {
     "data": {
      "text/plain": [
       "[10, 20, 30]"
      ]
     },
     "execution_count": 3,
     "metadata": {},
     "output_type": "execute_result"
    }
   ],
   "source": [
    "myList"
   ]
  },
  {
   "cell_type": "code",
   "execution_count": 4,
   "id": "bb96051e-9b9b-467e-96c1-fe71185603cb",
   "metadata": {},
   "outputs": [],
   "source": [
    "x = 10\n",
    "y = 20"
   ]
  },
  {
   "cell_type": "code",
   "execution_count": 5,
   "id": "92f7fc6f-381e-4554-8f9e-101603ff3795",
   "metadata": {},
   "outputs": [],
   "source": [
    "myList = [x,y]"
   ]
  },
  {
   "cell_type": "code",
   "execution_count": 6,
   "id": "3e404ffc-f0eb-47b8-92cd-ace244805cc8",
   "metadata": {},
   "outputs": [
    {
     "data": {
      "text/plain": [
       "[10, 20]"
      ]
     },
     "execution_count": 6,
     "metadata": {},
     "output_type": "execute_result"
    }
   ],
   "source": [
    "myList"
   ]
  },
  {
   "cell_type": "code",
   "execution_count": 7,
   "id": "5b97408b-7d2b-42a9-b700-f799b17895d0",
   "metadata": {},
   "outputs": [
    {
     "data": {
      "text/plain": [
       "10"
      ]
     },
     "execution_count": 7,
     "metadata": {},
     "output_type": "execute_result"
    }
   ],
   "source": [
    "myList[0]"
   ]
  },
  {
   "cell_type": "code",
   "execution_count": 8,
   "id": "ca6af24b-1913-481e-a625-bab5274aed5f",
   "metadata": {},
   "outputs": [
    {
     "data": {
      "text/plain": [
       "int"
      ]
     },
     "execution_count": 8,
     "metadata": {},
     "output_type": "execute_result"
    }
   ],
   "source": [
    "type(myList[0])"
   ]
  },
  {
   "cell_type": "code",
   "execution_count": 9,
   "id": "68880e26-f85c-4f83-8e13-61d80562b6f8",
   "metadata": {},
   "outputs": [
    {
     "data": {
      "text/plain": [
       "2"
      ]
     },
     "execution_count": 9,
     "metadata": {},
     "output_type": "execute_result"
    }
   ],
   "source": [
    "len(myList)"
   ]
  },
  {
   "cell_type": "code",
   "execution_count": 12,
   "id": "cd64d7cf-a097-44b1-adfc-c19e11224f8e",
   "metadata": {},
   "outputs": [
    {
     "data": {
      "text/plain": [
       "20"
      ]
     },
     "execution_count": 12,
     "metadata": {},
     "output_type": "execute_result"
    }
   ],
   "source": [
    "myList[len(myList)-1] #son eleman için"
   ]
  },
  {
   "cell_type": "code",
   "execution_count": 13,
   "id": "426118a6-7e81-46a2-8000-9531225a74ae",
   "metadata": {},
   "outputs": [
    {
     "data": {
      "text/plain": [
       "20"
      ]
     },
     "execution_count": 13,
     "metadata": {},
     "output_type": "execute_result"
    }
   ],
   "source": [
    "myList[-1]"
   ]
  },
  {
   "cell_type": "code",
   "execution_count": 14,
   "id": "3eae5dc9-dd72-4d52-85ca-709147827946",
   "metadata": {},
   "outputs": [],
   "source": [
    "myList.append(x)"
   ]
  },
  {
   "cell_type": "code",
   "execution_count": 15,
   "id": "2962a586-ef55-46a1-8bb2-8372560af57a",
   "metadata": {},
   "outputs": [
    {
     "data": {
      "text/plain": [
       "[10, 20, 10]"
      ]
     },
     "execution_count": 15,
     "metadata": {},
     "output_type": "execute_result"
    }
   ],
   "source": [
    "myList"
   ]
  },
  {
   "cell_type": "code",
   "execution_count": 16,
   "id": "54bb3ad5-1c10-4686-90a5-57ec55608757",
   "metadata": {},
   "outputs": [],
   "source": [
    "myList.append(\"a\")"
   ]
  },
  {
   "cell_type": "code",
   "execution_count": 17,
   "id": "3a9dda4a-d7e3-45c8-a073-6c0cefebbcab",
   "metadata": {},
   "outputs": [
    {
     "data": {
      "text/plain": [
       "[10, 20, 10, 'a']"
      ]
     },
     "execution_count": 17,
     "metadata": {},
     "output_type": "execute_result"
    }
   ],
   "source": [
    "myList"
   ]
  },
  {
   "cell_type": "code",
   "execution_count": 19,
   "id": "d5f6f33c-c8a3-49f0-b425-11b75cc54c29",
   "metadata": {},
   "outputs": [],
   "source": [
    " myList.append(20) #listeye ekleme yapar fakat en sona ekler"
   ]
  },
  {
   "cell_type": "code",
   "execution_count": 20,
   "id": "1fb1aa94-6c8a-4359-a979-caa774ebfae4",
   "metadata": {},
   "outputs": [
    {
     "data": {
      "text/plain": [
       "3"
      ]
     },
     "execution_count": 20,
     "metadata": {},
     "output_type": "execute_result"
    }
   ],
   "source": [
    "myList.count(20) #20den kaç tane olduğunu söyler"
   ]
  },
  {
   "cell_type": "code",
   "execution_count": 21,
   "id": "e5ee3f7d-eda8-4f54-a07c-7843f05df117",
   "metadata": {},
   "outputs": [
    {
     "data": {
      "text/plain": [
       "[10, 20, 10, 'a', 20, 20]"
      ]
     },
     "execution_count": 21,
     "metadata": {},
     "output_type": "execute_result"
    }
   ],
   "source": [
    "myList"
   ]
  },
  {
   "cell_type": "code",
   "execution_count": 28,
   "id": "82d0e563-d81c-4119-85cf-a499ac5c05c0",
   "metadata": {},
   "outputs": [
    {
     "data": {
      "text/plain": [
       "1"
      ]
     },
     "execution_count": 28,
     "metadata": {},
     "output_type": "execute_result"
    }
   ],
   "source": [
    "myList.index(20) #20 değerinin kaçıncı indexte oldğunu söyler"
   ]
  },
  {
   "cell_type": "code",
   "execution_count": 27,
   "id": "d1dadf0c-646f-4b84-a2f7-4afd3888a99d",
   "metadata": {},
   "outputs": [],
   "source": [
    "myList.insert(3,30) #myList.insert(şu sıraya, şu elemanı ekle) "
   ]
  },
  {
   "cell_type": "code",
   "execution_count": 24,
   "id": "a2c45162-2cd8-48f2-b1b3-4b9af7994e49",
   "metadata": {},
   "outputs": [
    {
     "data": {
      "text/plain": [
       "[10, 20, 10, 30, 'a', 20, 20]"
      ]
     },
     "execution_count": 24,
     "metadata": {},
     "output_type": "execute_result"
    }
   ],
   "source": [
    "myList"
   ]
  },
  {
   "cell_type": "code",
   "execution_count": 29,
   "id": "6d79d77d-2131-41ec-96e8-4731ea24e69b",
   "metadata": {},
   "outputs": [
    {
     "data": {
      "text/plain": [
       "20"
      ]
     },
     "execution_count": 29,
     "metadata": {},
     "output_type": "execute_result"
    }
   ],
   "source": [
    "myList.pop() #son elemanı çıkarır, bir de çıkardığı elemenaı gösterir"
   ]
  },
  {
   "cell_type": "code",
   "execution_count": 26,
   "id": "70038bec-bf2a-4469-b255-37862caea492",
   "metadata": {},
   "outputs": [
    {
     "data": {
      "text/plain": [
       "[10, 20, 10, 30, 'a', 20]"
      ]
     },
     "execution_count": 26,
     "metadata": {},
     "output_type": "execute_result"
    }
   ],
   "source": [
    "myList"
   ]
  },
  {
   "cell_type": "code",
   "execution_count": 33,
   "id": "3d7f8364-460f-4cbd-8303-ec86242b3d1d",
   "metadata": {},
   "outputs": [
    {
     "data": {
      "text/plain": [
       "<function list.sort(*, key=None, reverse=False)>"
      ]
     },
     "execution_count": 33,
     "metadata": {},
     "output_type": "execute_result"
    }
   ],
   "source": [
    "myList.sort #sıralar"
   ]
  },
  {
   "cell_type": "code",
   "execution_count": 32,
   "id": "b881cd11-bdf7-4977-b27d-95a2736900b0",
   "metadata": {},
   "outputs": [
    {
     "data": {
      "text/plain": [
       "[10, 10, 20, 30, 30, 'a']"
      ]
     },
     "execution_count": 32,
     "metadata": {},
     "output_type": "execute_result"
    }
   ],
   "source": [
    "myList"
   ]
  },
  {
   "cell_type": "code",
   "execution_count": 34,
   "id": "d1bb64a6-c62d-4abe-850c-e47c7fa18914",
   "metadata": {},
   "outputs": [
    {
     "name": "stdout",
     "output_type": "stream",
     "text": [
      "Help on built-in function sort:\n",
      "\n",
      "sort(*, key=None, reverse=False) method of builtins.list instance\n",
      "    Sort the list in ascending order and return None.\n",
      "    \n",
      "    The sort is in-place (i.e. the list itself is modified) and stable (i.e. the\n",
      "    order of two equal elements is maintained).\n",
      "    \n",
      "    If a key function is given, apply it once to each list item and sort them,\n",
      "    ascending or descending, according to their function values.\n",
      "    \n",
      "    The reverse flag can be set to sort in descending order.\n",
      "\n"
     ]
    }
   ],
   "source": [
    "help(myList.sort)"
   ]
  },
  {
   "cell_type": "code",
   "execution_count": 37,
   "id": "7869c15a-fdb8-46df-95a3-489cc5748054",
   "metadata": {},
   "outputs": [],
   "source": [
    "strList = ['ffffffa', 'b', 'abc', 'dshkjdjfjslıf']"
   ]
  },
  {
   "cell_type": "code",
   "execution_count": 38,
   "id": "7d934b09-1ffe-4c87-8629-01a0fabea569",
   "metadata": {},
   "outputs": [],
   "source": [
    "#bir liste içindeki stringlerin uzunluklarına göre sıralamak istiyorsanız, key=len \n",
    "strList.sort(key=len) "
   ]
  },
  {
   "cell_type": "code",
   "execution_count": 39,
   "id": "2478718d-41cb-4094-9a9b-54d0b9187577",
   "metadata": {},
   "outputs": [
    {
     "data": {
      "text/plain": [
       "['b', 'abc', 'ffffffa', 'dshkjdjfjslıf']"
      ]
     },
     "execution_count": 39,
     "metadata": {},
     "output_type": "execute_result"
    }
   ],
   "source": [
    "strList"
   ]
  },
  {
   "cell_type": "code",
   "execution_count": 44,
   "id": "a589e42a-8f0e-4cee-8bd8-526a23d01e40",
   "metadata": {},
   "outputs": [
    {
     "data": {
      "text/plain": [
       "[10, 10, 20, 30, 30, 'a']"
      ]
     },
     "execution_count": 44,
     "metadata": {},
     "output_type": "execute_result"
    }
   ],
   "source": [
    "myList"
   ]
  },
  {
   "cell_type": "code",
   "execution_count": 45,
   "id": "7a4ff0f9-57c6-45f1-b61b-51f7c342091d",
   "metadata": {},
   "outputs": [
    {
     "data": {
      "text/plain": [
       "'a'"
      ]
     },
     "execution_count": 45,
     "metadata": {},
     "output_type": "execute_result"
    }
   ],
   "source": [
    "myList.pop()"
   ]
  },
  {
   "cell_type": "code",
   "execution_count": 46,
   "id": "46935507-02c2-4b9f-802d-2661b879df3b",
   "metadata": {},
   "outputs": [],
   "source": [
    "#reverse sıralamanın tersine çevrilip çevrilmeyeceğini belirler. \n",
    "#True olarak ayarlandığında, listeyi azalan sırada sıralar.\n",
    "myList.sort(reverse=True)"
   ]
  },
  {
   "cell_type": "code",
   "execution_count": 47,
   "id": "4ef07ccb-4ec0-4d11-9188-dbcb24df7ee5",
   "metadata": {},
   "outputs": [
    {
     "data": {
      "text/plain": [
       "[30, 30, 20, 10, 10]"
      ]
     },
     "execution_count": 47,
     "metadata": {},
     "output_type": "execute_result"
    }
   ],
   "source": [
    "myList"
   ]
  },
  {
   "cell_type": "code",
   "execution_count": 48,
   "id": "172aa15d-b919-4153-b3f5-9c114413e3ac",
   "metadata": {},
   "outputs": [
    {
     "name": "stdin",
     "output_type": "stream",
     "text": [
      "enter x 10\n"
     ]
    }
   ],
   "source": [
    "x = input(\"enter x\")"
   ]
  },
  {
   "cell_type": "code",
   "execution_count": null,
   "id": "b5ce1565-cef7-4f5f-b954-ff190ac6f80d",
   "metadata": {},
   "outputs": [],
   "source": []
  },
  {
   "cell_type": "code",
   "execution_count": null,
   "id": "3b696fb6-02ff-4477-87a9-0abdbb6ef8f2",
   "metadata": {},
   "outputs": [],
   "source": []
  }
 ],
 "metadata": {
  "kernelspec": {
   "display_name": "Python 3 (ipykernel)",
   "language": "python",
   "name": "python3"
  },
  "language_info": {
   "codemirror_mode": {
    "name": "ipython",
    "version": 3
   },
   "file_extension": ".py",
   "mimetype": "text/x-python",
   "name": "python",
   "nbconvert_exporter": "python",
   "pygments_lexer": "ipython3",
   "version": "3.11.7"
  }
 },
 "nbformat": 4,
 "nbformat_minor": 5
}
