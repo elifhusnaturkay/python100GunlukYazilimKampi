{
 "cells": [
  {
   "cell_type": "markdown",
   "id": "1a308f88-c098-4891-ad20-864d1a7e0d44",
   "metadata": {},
   "source": [
    "#encapsualtion (kapsülleme)"
   ]
  },
  {
   "cell_type": "code",
   "execution_count": 1,
   "id": "01b128e6-308c-420f-9cee-0dfcb8b87f4d",
   "metadata": {},
   "outputs": [
    {
     "data": {
      "text/plain": [
       "'\\nPROTECTED MEMBERS (_)\\n\\nclass ClassName:\\n    def __init__(self, protected_var):\\n        self._protected_var = protected_var\\n\\n    def _protected_method(self):\\n        return self._protected_var\\n'"
      ]
     },
     "execution_count": 1,
     "metadata": {},
     "output_type": "execute_result"
    }
   ],
   "source": [
    "#nesnelerin iç durumlarının dışaırdan doğrudan erişime kapatılması \n",
    "#ve yalnızca belirli metotlar aracılığyla erişim sağlanması\n",
    "#veri bütünlüğü korunur kodun bakımı kolaylaşır.\n",
    "\n",
    "'''\n",
    "PUBLIC MEMBERS\n",
    "\n",
    "class ClassName:\n",
    "    def __init__(self, public_var):\n",
    "        self.public_var = public_var\n",
    "\n",
    "    def public_method(self):\n",
    "        return self.public_var\n",
    "'''\n",
    "\n",
    "\n",
    "'''\n",
    "PRIVATE MEMBERS (__)\n",
    "\n",
    "class ClassName:\n",
    "    def __init__(self, private_var):\n",
    "        self.__private_var = private_var\n",
    "\n",
    "    def __private_method(self):\n",
    "        return self.__private_var\n",
    "'''\n",
    "\n",
    "'''\n",
    "PROTECTED MEMBERS (_)\n",
    "\n",
    "class ClassName:\n",
    "    def __init__(self, protected_var):\n",
    "        self._protected_var = protected_var\n",
    "\n",
    "    def _protected_method(self):\n",
    "        return self._protected_var\n",
    "'''"
   ]
  },
  {
   "cell_type": "code",
   "execution_count": null,
   "id": "49a08440-c0c0-4d9d-ab1c-ecc9c9525ccd",
   "metadata": {},
   "outputs": [],
   "source": []
  }
 ],
 "metadata": {
  "kernelspec": {
   "display_name": "Python 3 (ipykernel)",
   "language": "python",
   "name": "python3"
  },
  "language_info": {
   "codemirror_mode": {
    "name": "ipython",
    "version": 3
   },
   "file_extension": ".py",
   "mimetype": "text/x-python",
   "name": "python",
   "nbconvert_exporter": "python",
   "pygments_lexer": "ipython3",
   "version": "3.11.7"
  }
 },
 "nbformat": 4,
 "nbformat_minor": 5
}
