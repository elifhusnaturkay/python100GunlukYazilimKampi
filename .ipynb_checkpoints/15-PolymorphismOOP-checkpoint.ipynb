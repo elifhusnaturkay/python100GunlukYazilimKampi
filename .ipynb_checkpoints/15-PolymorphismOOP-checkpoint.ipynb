{
 "cells": [
  {
   "cell_type": "markdown",
   "id": "9d2449ce-b9dd-49ab-9d4d-bb5ebc2ce10c",
   "metadata": {},
   "source": [
    "#polymorphism (çok biçimlilik)"
   ]
  },
  {
   "cell_type": "code",
   "execution_count": 1,
   "id": "7189ed77-5fa6-41dc-a108-b790afd0d676",
   "metadata": {},
   "outputs": [],
   "source": [
    "#methodları ve türetilmiş classları yendiden tanımlama yeteneğidir\n",
    "#aynı isimle farklı işlemi yapmak"
   ]
  },
  {
   "cell_type": "code",
   "execution_count": 5,
   "id": "f07ad0d6-826a-4156-a10e-b9b3f660d33b",
   "metadata": {},
   "outputs": [],
   "source": [
    "class Meyveler:\n",
    "    def __init__(self,name,calori):\n",
    "        self.name = name\n",
    "        self.calori = calori\n",
    "\n",
    "    def info(self):\n",
    "        return f\"{self.name} meyvesi {self.calori} kaloridir.\"\n",
    "\n",
    "\n",
    "class Sebzeler:\n",
    "    def __init__(self,name,calori):\n",
    "        self.name = name\n",
    "        self.calori = calori\n",
    "\n",
    "    def info(self):\n",
    "        return f\"{self.name} sebzesi {self.calori} kaloridir.\""
   ]
  },
  {
   "cell_type": "code",
   "execution_count": 6,
   "id": "9c973d79-22b1-4f62-b969-c2383baa3417",
   "metadata": {},
   "outputs": [],
   "source": [
    "cilek = Meyveler(\"çilek\", 100)\n",
    "limon = Sebzeler(\"limon\", 50)"
   ]
  },
  {
   "cell_type": "code",
   "execution_count": 8,
   "id": "f5185855-028a-4daa-865f-e59b42c38a89",
   "metadata": {},
   "outputs": [
    {
     "name": "stdout",
     "output_type": "stream",
     "text": [
      "çilek meyvesi 100 kaloridir.\n",
      "limon sebzesi 50 kaloridir.\n"
     ]
    }
   ],
   "source": [
    "print(cilek.info())\n",
    "print(limon.info())\n",
    "#aynı fonksiyon adı kullanıldı farklı işlevler gördü"
   ]
  },
  {
   "cell_type": "code",
   "execution_count": 9,
   "id": "6026f851-a9b0-4351-a494-d277d02938fb",
   "metadata": {},
   "outputs": [],
   "source": [
    "alısveris_sepeti = [cilek,limon]"
   ]
  },
  {
   "cell_type": "code",
   "execution_count": 12,
   "id": "44de290e-01a6-4bf1-ae1e-00fb3a2baf5e",
   "metadata": {},
   "outputs": [
    {
     "name": "stdout",
     "output_type": "stream",
     "text": [
      "çilek meyvesi 100 kaloridir.\n",
      "limon sebzesi 50 kaloridir.\n"
     ]
    }
   ],
   "source": [
    "for x in alısveris_sepeti:\n",
    "    print(x.info())"
   ]
  },
  {
   "cell_type": "code",
   "execution_count": null,
   "id": "d26ff541-92d1-40bc-bb8b-70b247261774",
   "metadata": {},
   "outputs": [],
   "source": []
  }
 ],
 "metadata": {
  "kernelspec": {
   "display_name": "Python 3 (ipykernel)",
   "language": "python",
   "name": "python3"
  },
  "language_info": {
   "codemirror_mode": {
    "name": "ipython",
    "version": 3
   },
   "file_extension": ".py",
   "mimetype": "text/x-python",
   "name": "python",
   "nbconvert_exporter": "python",
   "pygments_lexer": "ipython3",
   "version": "3.11.7"
  }
 },
 "nbformat": 4,
 "nbformat_minor": 5
}
