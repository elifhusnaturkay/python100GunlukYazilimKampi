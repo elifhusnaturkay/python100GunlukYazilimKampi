{
 "cells": [
  {
   "cell_type": "code",
   "execution_count": 1,
   "id": "e861e1ff-5245-4faf-bfed-3f23c53bdcca",
   "metadata": {},
   "outputs": [],
   "source": [
    "#Sözlük (Dictionary) Oluşturma: key-value çiftleriyle \n",
    "#eşleştirilmiş elemanlar içeren bir sözlük oluşturmak için kullanılır.\n",
    "my_dict = {'name': 'John', 'age': 30, 'city': 'New York'}"
   ]
  },
  {
   "cell_type": "code",
   "execution_count": 8,
   "id": "e40c8eba-cdbc-473e-8f63-47d6407c8660",
   "metadata": {},
   "outputs": [],
   "source": [
    "fitness_dictionary = {\"banana\" :100, \"apple\" :150} #dictionary{\"key\" : value}"
   ]
  },
  {
   "cell_type": "code",
   "execution_count": 7,
   "id": "b1573922-4563-4164-9e4b-903f587f0dfe",
   "metadata": {},
   "outputs": [
    {
     "data": {
      "text/plain": [
       "dict"
      ]
     },
     "execution_count": 7,
     "metadata": {},
     "output_type": "execute_result"
    }
   ],
   "source": [
    "type(fitness_dictionary) #dict yapısı javada map yaısına benziyormuş"
   ]
  },
  {
   "cell_type": "code",
   "execution_count": 11,
   "id": "ab2aaaf0-e473-40ca-bbb6-0a69ab943a71",
   "metadata": {},
   "outputs": [
    {
     "data": {
      "text/plain": [
       "100"
      ]
     },
     "execution_count": 11,
     "metadata": {},
     "output_type": "execute_result"
    }
   ],
   "source": [
    "fitness_dictionary[\"banana\"] #sadece anahtar çağırabilirim"
   ]
  },
  {
   "cell_type": "code",
   "execution_count": 12,
   "id": "5cf48a16-d998-443f-90f8-e5b012f94769",
   "metadata": {},
   "outputs": [
    {
     "data": {
      "text/plain": [
       "dict_keys(['banana', 'apple'])"
      ]
     },
     "execution_count": 12,
     "metadata": {},
     "output_type": "execute_result"
    }
   ],
   "source": [
    "fitness_dictionary.keys()  #dict içindkei keyleri çağırmak için kullanılır"
   ]
  },
  {
   "cell_type": "code",
   "execution_count": 13,
   "id": "f0056ef0-ce6e-451b-abdb-f183f171938d",
   "metadata": {},
   "outputs": [
    {
     "data": {
      "text/plain": [
       "dict_values([100, 150])"
      ]
     },
     "execution_count": 13,
     "metadata": {},
     "output_type": "execute_result"
    }
   ],
   "source": [
    "fitness_dictionary.values() #keylerin valuelerini(sadece) verir"
   ]
  },
  {
   "cell_type": "code",
   "execution_count": 14,
   "id": "507a14ff-cdcd-4f9a-914e-2d5404a14467",
   "metadata": {},
   "outputs": [
    {
     "data": {
      "text/plain": [
       "dict_values"
      ]
     },
     "execution_count": 14,
     "metadata": {},
     "output_type": "execute_result"
    }
   ],
   "source": [
    "type(fitness_dictionary.values()) #şahsına münhasır bir type oluşturur"
   ]
  },
  {
   "cell_type": "code",
   "execution_count": 15,
   "id": "ad028537-fb08-40c3-9c05-47c471b2302f",
   "metadata": {},
   "outputs": [
    {
     "data": {
      "text/plain": [
       "[100, 150]"
      ]
     },
     "execution_count": 15,
     "metadata": {},
     "output_type": "execute_result"
    }
   ],
   "source": [
    "list(fitness_dictionary.values())"
   ]
  },
  {
   "cell_type": "code",
   "execution_count": 18,
   "id": "4240d3ac-66dc-4ece-bc73-3d74bccc1f60",
   "metadata": {},
   "outputs": [],
   "source": [
    "toplam = sum(list(fitness_dictionary.values()))"
   ]
  },
  {
   "cell_type": "code",
   "execution_count": 19,
   "id": "824a6374-4c02-4ca6-af9e-6f51d5895267",
   "metadata": {},
   "outputs": [],
   "source": [
    "ort = toplam / len(list(fitness_dictionary.values()))"
   ]
  },
  {
   "cell_type": "code",
   "execution_count": 20,
   "id": "d649063b-f2d6-4b39-bcc4-b66b3590d638",
   "metadata": {},
   "outputs": [
    {
     "data": {
      "text/plain": [
       "125.0"
      ]
     },
     "execution_count": 20,
     "metadata": {},
     "output_type": "execute_result"
    }
   ],
   "source": [
    "ort"
   ]
  },
  {
   "cell_type": "code",
   "execution_count": 21,
   "id": "87bc0c12-e713-4eb1-8013-f13b3153a4f3",
   "metadata": {},
   "outputs": [],
   "source": [
    "fitness_dictionary[\"banana\"] = 200 #değer değiştirme"
   ]
  },
  {
   "cell_type": "code",
   "execution_count": 22,
   "id": "4e8c0a5e-5c30-4e3e-b9b8-e18d1e444ee5",
   "metadata": {},
   "outputs": [
    {
     "data": {
      "text/plain": [
       "{'banana': 200, 'apple': 150}"
      ]
     },
     "execution_count": 22,
     "metadata": {},
     "output_type": "execute_result"
    }
   ],
   "source": [
    "fitness_dictionary"
   ]
  },
  {
   "cell_type": "code",
   "execution_count": 23,
   "id": "1a0d2af5-ff1a-4e78-a582-1d7ec6405d8e",
   "metadata": {},
   "outputs": [],
   "source": [
    "fitness_dictionary[\"cherry\"] = 50 #yeni değer ekleme"
   ]
  },
  {
   "cell_type": "code",
   "execution_count": 24,
   "id": "7cd1bc4e-6ab1-44a9-89f5-05869fa7b242",
   "metadata": {},
   "outputs": [
    {
     "data": {
      "text/plain": [
       "{'banana': 200, 'apple': 150, 'cherry': 50}"
      ]
     },
     "execution_count": 24,
     "metadata": {},
     "output_type": "execute_result"
    }
   ],
   "source": [
    "fitness_dictionary"
   ]
  },
  {
   "cell_type": "code",
   "execution_count": 25,
   "id": "2d6f788e-602f-4cd4-9ba8-2bd5e3e8a06b",
   "metadata": {},
   "outputs": [
    {
     "data": {
      "text/plain": [
       "0"
      ]
     },
     "execution_count": 25,
     "metadata": {},
     "output_type": "execute_result"
    }
   ],
   "source": [
    "fitness_dictionary.get(\"appl\",0) \n",
    "#dict.get(key, default) eğer bu key yoksa default döndürür"
   ]
  },
  {
   "cell_type": "code",
   "execution_count": 26,
   "id": "af7bbf05-2e4d-4794-bbe9-38795c7602ef",
   "metadata": {},
   "outputs": [
    {
     "data": {
      "text/plain": [
       "'a'"
      ]
     },
     "execution_count": 26,
     "metadata": {},
     "output_type": "execute_result"
    }
   ],
   "source": [
    "fitness_dictionary.get(\"appl\",'a') "
   ]
  },
  {
   "cell_type": "code",
   "execution_count": 27,
   "id": "a0e7a462-d48a-4dcf-890c-266eb2f27ff9",
   "metadata": {},
   "outputs": [
    {
     "data": {
      "text/plain": [
       "150"
      ]
     },
     "execution_count": 27,
     "metadata": {},
     "output_type": "execute_result"
    }
   ],
   "source": [
    "fitness_dictionary.get(\"apple\",0)  #eğer key varsa value döndürür"
   ]
  },
  {
   "cell_type": "code",
   "execution_count": 29,
   "id": "7c94bc6e-631b-4452-a4af-14b30c5fa3c5",
   "metadata": {},
   "outputs": [
    {
     "data": {
      "text/plain": [
       "dict_items([('banana', 200), ('apple', 150), ('cherry', 50)])"
      ]
     },
     "execution_count": 29,
     "metadata": {},
     "output_type": "execute_result"
    }
   ],
   "source": [
    "fitness_dictionary.items() #tüm dataları çağırı"
   ]
  },
  {
   "cell_type": "code",
   "execution_count": 30,
   "id": "0f8cdc24-9cf1-4ac7-a490-a9c829f91876",
   "metadata": {},
   "outputs": [],
   "source": [
    "mixted_dict = {'key1':100, 'key2': 99.9,'key3': [1,2,3,4]} #value type farklı olablir"
   ]
  },
  {
   "cell_type": "code",
   "execution_count": 31,
   "id": "3732c561-2df3-4e4a-a8ab-8753fd5acb30",
   "metadata": {},
   "outputs": [
    {
     "data": {
      "text/plain": [
       "[1, 2, 3, 4]"
      ]
     },
     "execution_count": 31,
     "metadata": {},
     "output_type": "execute_result"
    }
   ],
   "source": [
    "mixted_dict['key3'] "
   ]
  },
  {
   "cell_type": "code",
   "execution_count": 32,
   "id": "3833e125-6d34-4ed5-b8e1-88594b0d6ac3",
   "metadata": {},
   "outputs": [
    {
     "data": {
      "text/plain": [
       "3"
      ]
     },
     "execution_count": 32,
     "metadata": {},
     "output_type": "execute_result"
    }
   ],
   "source": [
    "mixted_dict['key3'][2]"
   ]
  },
  {
   "cell_type": "code",
   "execution_count": 33,
   "id": "44634766-3408-45c4-88d3-4602b1ffe014",
   "metadata": {},
   "outputs": [],
   "source": [
    "quiz_dict = {\"k1\":[1,2,3,4], \"k2\":'str', \"k3\":{\"a\":100, \"b\":200}}"
   ]
  },
  {
   "cell_type": "code",
   "execution_count": 34,
   "id": "ac380308-0ba9-4f41-b8d4-ab79393d803a",
   "metadata": {},
   "outputs": [
    {
     "data": {
      "text/plain": [
       "200"
      ]
     },
     "execution_count": 34,
     "metadata": {},
     "output_type": "execute_result"
    }
   ],
   "source": [
    "quiz_dict[\"k3\"][\"b\"]"
   ]
  },
  {
   "cell_type": "code",
   "execution_count": null,
   "id": "6feb6d68-5be2-484f-9ca4-9a5584f451d1",
   "metadata": {},
   "outputs": [],
   "source": []
  }
 ],
 "metadata": {
  "kernelspec": {
   "display_name": "Python 3 (ipykernel)",
   "language": "python",
   "name": "python3"
  },
  "language_info": {
   "codemirror_mode": {
    "name": "ipython",
    "version": 3
   },
   "file_extension": ".py",
   "mimetype": "text/x-python",
   "name": "python",
   "nbconvert_exporter": "python",
   "pygments_lexer": "ipython3",
   "version": "3.11.7"
  }
 },
 "nbformat": 4,
 "nbformat_minor": 5
}
