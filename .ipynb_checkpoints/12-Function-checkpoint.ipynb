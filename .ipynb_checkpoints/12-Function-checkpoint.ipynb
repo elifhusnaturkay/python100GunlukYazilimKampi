{
 "cells": [
  {
   "cell_type": "code",
   "execution_count": 1,
   "id": "949cd7bf-be24-467c-83f8-7c45f1272175",
   "metadata": {},
   "outputs": [],
   "source": [
    "my_name = \"elif\""
   ]
  },
  {
   "cell_type": "code",
   "execution_count": 2,
   "id": "f14a3cf5-00c9-4aa8-a101-79d6751ae624",
   "metadata": {},
   "outputs": [
    {
     "name": "stdout",
     "output_type": "stream",
     "text": [
      "The \"if\" statement\n",
      "******************\n",
      "\n",
      "The \"if\" statement is used for conditional execution:\n",
      "\n",
      "   if_stmt ::= \"if\" assignment_expression \":\" suite\n",
      "               (\"elif\" assignment_expression \":\" suite)*\n",
      "               [\"else\" \":\" suite]\n",
      "\n",
      "It selects exactly one of the suites by evaluating the expressions one\n",
      "by one until one is found to be true (see section Boolean operations\n",
      "for the definition of true and false); then that suite is executed\n",
      "(and no other part of the \"if\" statement is executed or evaluated).\n",
      "If all expressions are false, the suite of the \"else\" clause, if\n",
      "present, is executed.\n",
      "\n",
      "Related help topics: TRUTHVALUE\n",
      "\n"
     ]
    }
   ],
   "source": [
    "help(my_name)"
   ]
  },
  {
   "cell_type": "code",
   "execution_count": 3,
   "id": "ba48e2ca-c6b9-415d-a47e-cd2a5f55b48c",
   "metadata": {},
   "outputs": [
    {
     "data": {
      "text/plain": [
       "'ELIF'"
      ]
     },
     "execution_count": 3,
     "metadata": {},
     "output_type": "execute_result"
    }
   ],
   "source": [
    "my_name.upper()"
   ]
  },
  {
   "cell_type": "code",
   "execution_count": 5,
   "id": "381d9932-0fd6-41fd-9dd5-a010b79ff5a9",
   "metadata": {},
   "outputs": [
    {
     "name": "stdout",
     "output_type": "stream",
     "text": [
      "Help on built-in function upper:\n",
      "\n",
      "upper() method of builtins.str instance\n",
      "    Return a copy of the string converted to uppercase.\n",
      "\n"
     ]
    }
   ],
   "source": [
    "help(my_name.upper) #upper pythonun kendi sağladığı fonksiyondur"
   ]
  },
  {
   "cell_type": "markdown",
   "id": "4340adc9-3624-4d00-8097-a98d65d5ccd2",
   "metadata": {},
   "source": [
    "#fonksiyonlar"
   ]
  },
  {
   "cell_type": "code",
   "execution_count": 7,
   "id": "6b74a589-3d49-4143-9078-c0cb24b0e7e1",
   "metadata": {},
   "outputs": [],
   "source": [
    "def name_upper(name_entry):\n",
    "    print(name_entry.upper())\n",
    "    print(name_entry)"
   ]
  },
  {
   "cell_type": "code",
   "execution_count": 8,
   "id": "c3dc11cd-f3d2-429f-864f-19a46393d11e",
   "metadata": {},
   "outputs": [
    {
     "name": "stdout",
     "output_type": "stream",
     "text": [
      "ELIF\n",
      "elif\n"
     ]
    }
   ],
   "source": [
    "name_upper(\"elif\")"
   ]
  },
  {
   "cell_type": "code",
   "execution_count": 10,
   "id": "66995446-1ab1-4a6d-94c1-98355bf7b341",
   "metadata": {},
   "outputs": [],
   "source": [
    "#def fonksiyon_adi(parametreler):\n",
    "    # Fonksiyon gövdesi\n",
    "    # return sonuc "
   ]
  },
  {
   "cell_type": "code",
   "execution_count": 11,
   "id": "1ff18edc-73fb-4e7b-b1d5-8070938cab12",
   "metadata": {},
   "outputs": [],
   "source": [
    "def sumFunc(num1, num2):\n",
    "    print(num1+num2)"
   ]
  },
  {
   "cell_type": "code",
   "execution_count": 12,
   "id": "9a263792-93ad-4bed-ac68-be057284855c",
   "metadata": {},
   "outputs": [
    {
     "name": "stdout",
     "output_type": "stream",
     "text": [
      "10\n"
     ]
    }
   ],
   "source": [
    "sumFunc(4,6)"
   ]
  },
  {
   "cell_type": "code",
   "execution_count": 15,
   "id": "df0cb1a7-fd42-42dd-bb13-d1a7c7812e8f",
   "metadata": {},
   "outputs": [
    {
     "ename": "TypeError",
     "evalue": "sumFunc() missing 2 required positional arguments: 'num1' and 'num2'",
     "output_type": "error",
     "traceback": [
      "\u001b[0;31m---------------------------------------------------------------------------\u001b[0m",
      "\u001b[0;31mTypeError\u001b[0m                                 Traceback (most recent call last)",
      "Cell \u001b[0;32mIn[15], line 1\u001b[0m\n\u001b[0;32m----> 1\u001b[0m sumFunc()\n",
      "\u001b[0;31mTypeError\u001b[0m: sumFunc() missing 2 required positional arguments: 'num1' and 'num2'"
     ]
    }
   ],
   "source": [
    "sumFunc() #bu durumda illa parametre ister, parametre yerine hazır \n",
    "#taslak bırakmak hata mesajını engeller\n"
   ]
  },
  {
   "cell_type": "code",
   "execution_count": 21,
   "id": "653abc24-e624-4ccf-9c48-88b536b58144",
   "metadata": {},
   "outputs": [],
   "source": [
    "def name_upper2(name_entry = \"none\"):\n",
    "    name_output = name_entry.upper()\n",
    "    print(name_output)"
   ]
  },
  {
   "cell_type": "code",
   "execution_count": 22,
   "id": "72388a41-5173-4ba8-93c3-170b01553496",
   "metadata": {},
   "outputs": [
    {
     "name": "stdout",
     "output_type": "stream",
     "text": [
      "ELIF\n"
     ]
    }
   ],
   "source": [
    "name_upper2(\"elif\")"
   ]
  },
  {
   "cell_type": "code",
   "execution_count": 23,
   "id": "4f358925-f0b9-40ad-ab62-0cf431789f83",
   "metadata": {},
   "outputs": [
    {
     "name": "stdout",
     "output_type": "stream",
     "text": [
      "NONE\n"
     ]
    }
   ],
   "source": [
    "name_upper2()"
   ]
  },
  {
   "cell_type": "markdown",
   "id": "f1612705-5595-4d85-a1d9-1af7f8e50247",
   "metadata": {},
   "source": [
    "#return"
   ]
  },
  {
   "cell_type": "code",
   "execution_count": 2,
   "id": "b611826c-d355-4d20-a6be-00316182b9ca",
   "metadata": {},
   "outputs": [],
   "source": [
    "def sumFunc2 (num1, num2):\n",
    "    print(num1+num2)"
   ]
  },
  {
   "cell_type": "code",
   "execution_count": 12,
   "id": "dbba11f2-337a-4668-9885-39ed4297ab0c",
   "metadata": {},
   "outputs": [
    {
     "name": "stdout",
     "output_type": "stream",
     "text": [
      "20\n"
     ]
    }
   ],
   "source": [
    "x = sumFunc2(10,10)"
   ]
  },
  {
   "cell_type": "code",
   "execution_count": 7,
   "id": "1a7b8652-d9ce-4130-bee7-62e379f2c459",
   "metadata": {},
   "outputs": [
    {
     "data": {
      "text/plain": [
       "NoneType"
      ]
     },
     "execution_count": 7,
     "metadata": {},
     "output_type": "execute_result"
    }
   ],
   "source": [
    "type(x) #none type bir hata ve bunu yaşamamak gerek"
   ]
  },
  {
   "cell_type": "code",
   "execution_count": 8,
   "id": "d360d1c6-f401-4d4f-9e97-96aeed124042",
   "metadata": {},
   "outputs": [],
   "source": [
    "def sumFunc3 (num1, num2):\n",
    "    return num1+num2"
   ]
  },
  {
   "cell_type": "code",
   "execution_count": 11,
   "id": "a218baae-9d33-40dd-9090-2c5531e7ab38",
   "metadata": {},
   "outputs": [],
   "source": [
    "y = sumFunc3(10,10)"
   ]
  },
  {
   "cell_type": "code",
   "execution_count": 13,
   "id": "7330065d-4ff4-4bc7-b66d-cc017f48d505",
   "metadata": {},
   "outputs": [
    {
     "data": {
      "text/plain": [
       "int"
      ]
     },
     "execution_count": 13,
     "metadata": {},
     "output_type": "execute_result"
    }
   ],
   "source": [
    "type(y)"
   ]
  },
  {
   "cell_type": "code",
   "execution_count": 15,
   "id": "56b2138a-af7f-456a-b0b7-3a0cb1917e4a",
   "metadata": {},
   "outputs": [],
   "source": [
    "#bir fonksiyonda return yazdığın an fonk. işini bitirir \n",
    "def sumFunc4 (num1, num2):\n",
    "    result = num1 + num2\n",
    "    return result\n",
    "    print(result)"
   ]
  },
  {
   "cell_type": "code",
   "execution_count": 17,
   "id": "725c85e9-7384-4cbf-b010-117928a90a38",
   "metadata": {},
   "outputs": [],
   "source": [
    "z = sumFunc4(10,10)"
   ]
  },
  {
   "cell_type": "code",
   "execution_count": 18,
   "id": "782b8b73-054a-4486-b8ba-4a1170d87ed7",
   "metadata": {},
   "outputs": [
    {
     "data": {
      "text/plain": [
       "20"
      ]
     },
     "execution_count": 18,
     "metadata": {},
     "output_type": "execute_result"
    }
   ],
   "source": [
    "z"
   ]
  },
  {
   "cell_type": "code",
   "execution_count": 19,
   "id": "6d4aac12-6807-4c12-8b08-4d20ef5d2689",
   "metadata": {},
   "outputs": [],
   "source": [
    "def sumFunc5 (num1, num2):\n",
    "    result = num1 + num2\n",
    "    print(result)\n",
    "    return result"
   ]
  },
  {
   "cell_type": "code",
   "execution_count": 22,
   "id": "922b20e7-e5db-4ba3-a014-bf643baf7f55",
   "metadata": {},
   "outputs": [
    {
     "name": "stdout",
     "output_type": "stream",
     "text": [
      "20\n"
     ]
    }
   ],
   "source": [
    "u = sumFunc5(10,10)"
   ]
  },
  {
   "cell_type": "markdown",
   "id": "d21fe8ae-bccf-4bbf-9e7a-b34eaae82015",
   "metadata": {},
   "source": [
    "args, kwargs (arguments, key word arguments)"
   ]
  },
  {
   "cell_type": "code",
   "execution_count": 1,
   "id": "552a8e89-b63c-4cdb-a988-7f28831d2260",
   "metadata": {},
   "outputs": [],
   "source": [
    "#fonksiyona istediğin kadar sayıda ek bilgi (argüman) verebilmeni sağlar,verdiğin isimli bilgileri list tutar\n",
    "def topla(*args):\n",
    "    toplam = 0\n",
    "    for num in args:\n",
    "        toplam += num\n",
    "    return toplam"
   ]
  },
  {
   "cell_type": "code",
   "execution_count": 3,
   "id": "dc073854-9bfc-4730-ba4e-fd104b3853b7",
   "metadata": {},
   "outputs": [],
   "source": [
    "x = topla(4,5,6,7)"
   ]
  },
  {
   "cell_type": "code",
   "execution_count": 4,
   "id": "0d0b7e32-7ddb-40a5-9348-2ea53c352970",
   "metadata": {},
   "outputs": [
    {
     "data": {
      "text/plain": [
       "22"
      ]
     },
     "execution_count": 4,
     "metadata": {},
     "output_type": "execute_result"
    }
   ],
   "source": [
    "x"
   ]
  },
  {
   "cell_type": "code",
   "execution_count": 5,
   "id": "6191ba15-0ac1-41c4-98e5-206d853752ba",
   "metadata": {},
   "outputs": [
    {
     "data": {
      "text/plain": [
       "int"
      ]
     },
     "execution_count": 5,
     "metadata": {},
     "output_type": "execute_result"
    }
   ],
   "source": [
    "type(x)"
   ]
  },
  {
   "cell_type": "code",
   "execution_count": 6,
   "id": "db0d14db-1f8c-4505-ba83-0386a9896fca",
   "metadata": {},
   "outputs": [],
   "source": [
    "def args_sum(*args):\n",
    "    return sum(args)"
   ]
  },
  {
   "cell_type": "code",
   "execution_count": 8,
   "id": "1fb8a0d3-c3c5-43ac-9df4-df7a19e4ddcd",
   "metadata": {},
   "outputs": [
    {
     "data": {
      "text/plain": [
       "30"
      ]
     },
     "execution_count": 8,
     "metadata": {},
     "output_type": "execute_result"
    }
   ],
   "source": [
    "args_sum(6,7,8,9)"
   ]
  },
  {
   "cell_type": "code",
   "execution_count": 9,
   "id": "a779a520-0423-4e04-b313-e7e1b7c8b659",
   "metadata": {},
   "outputs": [
    {
     "data": {
      "text/plain": [
       "function"
      ]
     },
     "execution_count": 9,
     "metadata": {},
     "output_type": "execute_result"
    }
   ],
   "source": [
    "type(args_sum)"
   ]
  },
  {
   "cell_type": "code",
   "execution_count": 10,
   "id": "198c3de4-66bd-4ef5-acfd-9f2fd9ceda8e",
   "metadata": {},
   "outputs": [],
   "source": [
    "#**kwargs istediğin kadar key-value verir, verdiğin isimli bilgileri dictionary tutar\n",
    "def kisi_bilgileri(**kwargs):\n",
    "    for anahtar, deger in kwargs.items():\n",
    "        print(f\"{anahtar}: {deger}\")"
   ]
  },
  {
   "cell_type": "code",
   "execution_count": 11,
   "id": "f0d9432d-716a-453d-ab81-1a64f0db5e78",
   "metadata": {},
   "outputs": [
    {
     "name": "stdout",
     "output_type": "stream",
     "text": [
      "isim: Ahmet\n",
      "soyisim: Yılmaz\n",
      "yas: 30\n"
     ]
    }
   ],
   "source": [
    "kisi_bilgileri(isim=\"Ahmet\", soyisim=\"Yılmaz\", yas=30)"
   ]
  },
  {
   "cell_type": "code",
   "execution_count": 12,
   "id": "84e511c9-cb88-4e8b-bb7c-6370df63878e",
   "metadata": {},
   "outputs": [],
   "source": [
    "def kwags_keys(**kwargs):\n",
    "    print(kwargs)"
   ]
  },
  {
   "cell_type": "code",
   "execution_count": 15,
   "id": "f80e33bf-93e3-48bb-a780-20e8127d3c2b",
   "metadata": {},
   "outputs": [
    {
     "name": "stdout",
     "output_type": "stream",
     "text": [
      "{'apple': 10, 'banana': 12}\n"
     ]
    }
   ],
   "source": [
    "kwags_keys(apple=10, banana=12) #dict oluşturdu"
   ]
  },
  {
   "cell_type": "markdown",
   "id": "8ad515e3-72ac-480e-8a48-056068540d0c",
   "metadata": {},
   "source": [
    "#Practical Function"
   ]
  },
  {
   "cell_type": "code",
   "execution_count": 40,
   "id": "75a1de48-fc90-446e-aad1-d10fe8cc9759",
   "metadata": {},
   "outputs": [],
   "source": [
    "def divide_number(number):\n",
    "    result = number / 2\n",
    "    return result"
   ]
  },
  {
   "cell_type": "code",
   "execution_count": 46,
   "id": "64b42d79-2990-4fc7-9379-56eaedb029dc",
   "metadata": {},
   "outputs": [
    {
     "data": {
      "text/plain": [
       "4.0"
      ]
     },
     "execution_count": 46,
     "metadata": {},
     "output_type": "execute_result"
    }
   ],
   "source": [
    "divide_number(8)"
   ]
  },
  {
   "cell_type": "code",
   "execution_count": 43,
   "id": "94d62275-f1fe-4ecb-978c-34c04db1675a",
   "metadata": {},
   "outputs": [],
   "source": [
    "my_list = [1,2,3,4,5]"
   ]
  },
  {
   "cell_type": "code",
   "execution_count": 44,
   "id": "a2988ce8-9c9f-43b6-a411-deba97f8d58e",
   "metadata": {},
   "outputs": [],
   "source": [
    "result_list = []\n",
    "for num in my_list:\n",
    "    result_list.append(divide_number(num))"
   ]
  },
  {
   "cell_type": "code",
   "execution_count": 48,
   "id": "5c6a3d89-511a-4ca2-b928-ad55cf5be5cb",
   "metadata": {},
   "outputs": [
    {
     "data": {
      "text/plain": [
       "[0.5, 1.0, 1.5, 2.0, 2.5]"
      ]
     },
     "execution_count": 48,
     "metadata": {},
     "output_type": "execute_result"
    }
   ],
   "source": [
    "result_list"
   ]
  },
  {
   "cell_type": "markdown",
   "id": "fa9a7bf5-3481-4cd2-842c-5ca881809d1a",
   "metadata": {},
   "source": [
    "#map"
   ]
  },
  {
   "cell_type": "code",
   "execution_count": 50,
   "id": "e2f9dc2f-15b2-48e8-9135-8c5f2e33a366",
   "metadata": {},
   "outputs": [
    {
     "name": "stdout",
     "output_type": "stream",
     "text": [
      "Help on class map in module builtins:\n",
      "\n",
      "class map(object)\n",
      " |  map(func, *iterables) --> map object\n",
      " |  \n",
      " |  Make an iterator that computes the function using arguments from\n",
      " |  each of the iterables.  Stops when the shortest iterable is exhausted.\n",
      " |  \n",
      " |  Methods defined here:\n",
      " |  \n",
      " |  __getattribute__(self, name, /)\n",
      " |      Return getattr(self, name).\n",
      " |  \n",
      " |  __iter__(self, /)\n",
      " |      Implement iter(self).\n",
      " |  \n",
      " |  __next__(self, /)\n",
      " |      Implement next(self).\n",
      " |  \n",
      " |  __reduce__(...)\n",
      " |      Return state information for pickling.\n",
      " |  \n",
      " |  ----------------------------------------------------------------------\n",
      " |  Static methods defined here:\n",
      " |  \n",
      " |  __new__(*args, **kwargs) from builtins.type\n",
      " |      Create and return a new object.  See help(type) for accurate signature.\n",
      "\n"
     ]
    }
   ],
   "source": [
    "help(map)"
   ]
  },
  {
   "cell_type": "code",
   "execution_count": 53,
   "id": "4c5950a3-0c62-4246-8adf-65cd255f1baf",
   "metadata": {},
   "outputs": [
    {
     "data": {
      "text/plain": [
       "<map at 0x1081f35b0>"
      ]
     },
     "execution_count": 53,
     "metadata": {},
     "output_type": "execute_result"
    }
   ],
   "source": [
    "map(divide_number, my_list) #çıktı kayıt yeri"
   ]
  },
  {
   "cell_type": "code",
   "execution_count": 54,
   "id": "44c1889a-c450-4213-b867-eb7b6c62f1c8",
   "metadata": {},
   "outputs": [
    {
     "data": {
      "text/plain": [
       "[0.5, 1.0, 1.5, 2.0, 2.5]"
      ]
     },
     "execution_count": 54,
     "metadata": {},
     "output_type": "execute_result"
    }
   ],
   "source": [
    "#\"map\" fonksiyonu, bir fonksiyonu ve bir listeyi alır ve bu fonksiyonu listenin her bir öğesine uygular\n",
    "#fonksiyonun uygulandığı yeni bir liste (veya başka bir iterable) oluşturur\n",
    "list(map(divide_number, my_list)) \n",
    "#divide_number fonksiyonunu my_list içindeki her öğeye uygular ve sonuçları bir map objesi olarak döndürür"
   ]
  },
  {
   "cell_type": "code",
   "execution_count": 2,
   "id": "d2939e34-15e2-46aa-be68-8138c4bddb67",
   "metadata": {},
   "outputs": [],
   "source": [
    "def control_str(string_ctrl):\n",
    "    return \"name\" in string_ctrl"
   ]
  },
  {
   "cell_type": "code",
   "execution_count": 3,
   "id": "71b4e1bf-bcd8-4979-af98-7fe58cd1785e",
   "metadata": {},
   "outputs": [
    {
     "data": {
      "text/plain": [
       "True"
      ]
     },
     "execution_count": 3,
     "metadata": {},
     "output_type": "execute_result"
    }
   ],
   "source": [
    "#map(function, iterable) iterable: işlem yapılacak iterable (liste, tuple, string, vb.)\n",
    "control_str(\"elif is my name\")"
   ]
  },
  {
   "cell_type": "code",
   "execution_count": 4,
   "id": "fa6bcac6-1a50-4b78-bb5b-cd4ee1b26867",
   "metadata": {},
   "outputs": [
    {
     "data": {
      "text/plain": [
       "True"
      ]
     },
     "execution_count": 4,
     "metadata": {},
     "output_type": "execute_result"
    }
   ],
   "source": [
    "control_str(\"turkay is my surname\")"
   ]
  },
  {
   "cell_type": "code",
   "execution_count": 12,
   "id": "fc3e568c-37bb-483d-8bcf-2c2ceed5f93c",
   "metadata": {},
   "outputs": [],
   "source": [
    "my_list = [\"a\",\"b\"]"
   ]
  },
  {
   "cell_type": "code",
   "execution_count": 6,
   "id": "d00352ed-76d4-497a-859a-288fb27baf58",
   "metadata": {},
   "outputs": [
    {
     "data": {
      "text/plain": [
       "<filter at 0x11040ce20>"
      ]
     },
     "execution_count": 6,
     "metadata": {},
     "output_type": "execute_result"
    }
   ],
   "source": [
    "filter(control_str, my_list) #listeyi filterledi"
   ]
  },
  {
   "cell_type": "code",
   "execution_count": 13,
   "id": "fe64e945-8fb2-44a6-a217-2a8f28db627c",
   "metadata": {},
   "outputs": [
    {
     "data": {
      "text/plain": [
       "[]"
      ]
     },
     "execution_count": 13,
     "metadata": {},
     "output_type": "execute_result"
    }
   ],
   "source": [
    "list(filter(control_str, my_list))"
   ]
  },
  {
   "cell_type": "markdown",
   "id": "027f1519-ad3f-4944-9d8e-6642f5eced8d",
   "metadata": {},
   "source": [
    "#lambda"
   ]
  },
  {
   "cell_type": "code",
   "execution_count": 14,
   "id": "4591e6bb-0c1f-447b-920f-c5a094223d8a",
   "metadata": {},
   "outputs": [],
   "source": [
    "# lambda parametre1, parametre2, ... : ifade\n",
    "multi_lambda = lambda num : num * 2"
   ]
  },
  {
   "cell_type": "code",
   "execution_count": 15,
   "id": "eb9dda48-84c9-4bd5-8fb9-affc080cabeb",
   "metadata": {},
   "outputs": [
    {
     "data": {
      "text/plain": [
       "200"
      ]
     },
     "execution_count": 15,
     "metadata": {},
     "output_type": "execute_result"
    }
   ],
   "source": [
    "multi_lambda(100)\n",
    "#def fonksiyonlardan farkı isim taşımazlar, kısa bir işlevi yerine getirir"
   ]
  },
  {
   "cell_type": "code",
   "execution_count": 17,
   "id": "73b6bcdf-ece5-4fec-9338-dbb5cf4ab120",
   "metadata": {},
   "outputs": [
    {
     "data": {
      "text/plain": [
       "function"
      ]
     },
     "execution_count": 17,
     "metadata": {},
     "output_type": "execute_result"
    }
   ],
   "source": [
    "type(multi_lambda)"
   ]
  },
  {
   "cell_type": "code",
   "execution_count": 18,
   "id": "40baee81-798b-4142-814f-7dad499550f7",
   "metadata": {},
   "outputs": [],
   "source": [
    "#muadili de şu:\n",
    "def multi_func(num):\n",
    "    return num * 2"
   ]
  },
  {
   "cell_type": "code",
   "execution_count": 20,
   "id": "a0d83113-2367-4710-94dc-cb901313e54e",
   "metadata": {},
   "outputs": [
    {
     "name": "stdout",
     "output_type": "stream",
     "text": [
      "200\n",
      "200\n"
     ]
    }
   ],
   "source": [
    "print(multi_func(100))\n",
    "print(multi_lambda(100))"
   ]
  },
  {
   "cell_type": "code",
   "execution_count": 22,
   "id": "e6fd432f-e77b-4905-a6b4-3b406fad2737",
   "metadata": {},
   "outputs": [
    {
     "data": {
      "text/plain": [
       "['aaaaa', 'bbbbb']"
      ]
     },
     "execution_count": 22,
     "metadata": {},
     "output_type": "execute_result"
    }
   ],
   "source": [
    "list(map(lambda x : x * 5, my_list))"
   ]
  },
  {
   "cell_type": "markdown",
   "id": "861ad127-abe8-4ab1-936a-789c444377aa",
   "metadata": {},
   "source": [
    "#scope (kapsam)"
   ]
  },
  {
   "cell_type": "code",
   "execution_count": 23,
   "id": "fda66543-39de-45bf-bf68-6ee80600be5e",
   "metadata": {},
   "outputs": [
    {
     "name": "stdout",
     "output_type": "stream",
     "text": [
      "I'm local\n"
     ]
    }
   ],
   "source": [
    "#fonksiyon içine tanımlanan değişken dışarda görülmez\n",
    "def my_function():\n",
    "    local_var = \"I'm local\"\n",
    "    print(local_var)\n",
    "\n",
    "my_function() "
   ]
  },
  {
   "cell_type": "code",
   "execution_count": 24,
   "id": "6831ae6a-2af9-423e-8935-0f9a8c937553",
   "metadata": {},
   "outputs": [
    {
     "ename": "NameError",
     "evalue": "name 'local_var' is not defined",
     "output_type": "error",
     "traceback": [
      "\u001b[0;31m---------------------------------------------------------------------------\u001b[0m",
      "\u001b[0;31mNameError\u001b[0m                                 Traceback (most recent call last)",
      "Cell \u001b[0;32mIn[24], line 1\u001b[0m\n\u001b[0;32m----> 1\u001b[0m \u001b[38;5;28mprint\u001b[39m(local_var)\n",
      "\u001b[0;31mNameError\u001b[0m: name 'local_var' is not defined"
     ]
    }
   ],
   "source": [
    "print(local_var)"
   ]
  },
  {
   "cell_type": "code",
   "execution_count": 26,
   "id": "6ae140fc-5085-41a6-9605-6638ccdfe445",
   "metadata": {},
   "outputs": [
    {
     "name": "stdout",
     "output_type": "stream",
     "text": [
      "I'm global\n",
      "I'm global\n"
     ]
    }
   ],
   "source": [
    "#fonksiyon/class dışına tanımlanan değişkene func içinden ulaşılabilir\n",
    "global_var = \"I'm global\"\n",
    "\n",
    "def my_function():\n",
    "    print(global_var)\n",
    "\n",
    "my_function()\n",
    "print(global_var)"
   ]
  },
  {
   "cell_type": "code",
   "execution_count": null,
   "id": "cee1329a-9215-4037-a6d9-4a0ac3743d7b",
   "metadata": {},
   "outputs": [],
   "source": []
  },
  {
   "cell_type": "code",
   "execution_count": null,
   "id": "1d6d3c05-db15-4f85-82a2-5a82907751c6",
   "metadata": {},
   "outputs": [],
   "source": []
  }
 ],
 "metadata": {
  "kernelspec": {
   "display_name": "Python 3 (ipykernel)",
   "language": "python",
   "name": "python3"
  },
  "language_info": {
   "codemirror_mode": {
    "name": "ipython",
    "version": 3
   },
   "file_extension": ".py",
   "mimetype": "text/x-python",
   "name": "python",
   "nbconvert_exporter": "python",
   "pygments_lexer": "ipython3",
   "version": "3.11.7"
  }
 },
 "nbformat": 4,
 "nbformat_minor": 5
}
