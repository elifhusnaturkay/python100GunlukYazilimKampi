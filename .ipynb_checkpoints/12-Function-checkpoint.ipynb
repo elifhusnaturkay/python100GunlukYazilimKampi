{
 "cells": [
  {
   "cell_type": "code",
   "execution_count": 1,
   "id": "949cd7bf-be24-467c-83f8-7c45f1272175",
   "metadata": {},
   "outputs": [],
   "source": [
    "my_name = \"elif\""
   ]
  },
  {
   "cell_type": "code",
   "execution_count": 2,
   "id": "f14a3cf5-00c9-4aa8-a101-79d6751ae624",
   "metadata": {},
   "outputs": [
    {
     "name": "stdout",
     "output_type": "stream",
     "text": [
      "The \"if\" statement\n",
      "******************\n",
      "\n",
      "The \"if\" statement is used for conditional execution:\n",
      "\n",
      "   if_stmt ::= \"if\" assignment_expression \":\" suite\n",
      "               (\"elif\" assignment_expression \":\" suite)*\n",
      "               [\"else\" \":\" suite]\n",
      "\n",
      "It selects exactly one of the suites by evaluating the expressions one\n",
      "by one until one is found to be true (see section Boolean operations\n",
      "for the definition of true and false); then that suite is executed\n",
      "(and no other part of the \"if\" statement is executed or evaluated).\n",
      "If all expressions are false, the suite of the \"else\" clause, if\n",
      "present, is executed.\n",
      "\n",
      "Related help topics: TRUTHVALUE\n",
      "\n"
     ]
    }
   ],
   "source": [
    "help(my_name)"
   ]
  },
  {
   "cell_type": "code",
   "execution_count": 3,
   "id": "ba48e2ca-c6b9-415d-a47e-cd2a5f55b48c",
   "metadata": {},
   "outputs": [
    {
     "data": {
      "text/plain": [
       "'ELIF'"
      ]
     },
     "execution_count": 3,
     "metadata": {},
     "output_type": "execute_result"
    }
   ],
   "source": [
    "my_name.upper()"
   ]
  },
  {
   "cell_type": "code",
   "execution_count": 5,
   "id": "381d9932-0fd6-41fd-9dd5-a010b79ff5a9",
   "metadata": {},
   "outputs": [
    {
     "name": "stdout",
     "output_type": "stream",
     "text": [
      "Help on built-in function upper:\n",
      "\n",
      "upper() method of builtins.str instance\n",
      "    Return a copy of the string converted to uppercase.\n",
      "\n"
     ]
    }
   ],
   "source": [
    "help(my_name.upper) #upper pythonun kendi sağladığı fonksiyondur"
   ]
  },
  {
   "cell_type": "markdown",
   "id": "4340adc9-3624-4d00-8097-a98d65d5ccd2",
   "metadata": {},
   "source": [
    "#fonksiyonlar"
   ]
  },
  {
   "cell_type": "code",
   "execution_count": 7,
   "id": "6b74a589-3d49-4143-9078-c0cb24b0e7e1",
   "metadata": {},
   "outputs": [],
   "source": [
    "def name_upper(name_entry):\n",
    "    print(name_entry.upper())\n",
    "    print(name_entry)"
   ]
  },
  {
   "cell_type": "code",
   "execution_count": 8,
   "id": "c3dc11cd-f3d2-429f-864f-19a46393d11e",
   "metadata": {},
   "outputs": [
    {
     "name": "stdout",
     "output_type": "stream",
     "text": [
      "ELIF\n",
      "elif\n"
     ]
    }
   ],
   "source": [
    "name_upper(\"elif\")"
   ]
  },
  {
   "cell_type": "code",
   "execution_count": 10,
   "id": "66995446-1ab1-4a6d-94c1-98355bf7b341",
   "metadata": {},
   "outputs": [],
   "source": [
    "#def fonksiyon_adi(parametreler):\n",
    "    # Fonksiyon gövdesi\n",
    "    # return sonuc "
   ]
  },
  {
   "cell_type": "code",
   "execution_count": 11,
   "id": "1ff18edc-73fb-4e7b-b1d5-8070938cab12",
   "metadata": {},
   "outputs": [],
   "source": [
    "def sumFunc(num1, num2):\n",
    "    print(num1+num2)"
   ]
  },
  {
   "cell_type": "code",
   "execution_count": 12,
   "id": "9a263792-93ad-4bed-ac68-be057284855c",
   "metadata": {},
   "outputs": [
    {
     "name": "stdout",
     "output_type": "stream",
     "text": [
      "10\n"
     ]
    }
   ],
   "source": [
    "sumFunc(4,6)"
   ]
  },
  {
   "cell_type": "code",
   "execution_count": 15,
   "id": "df0cb1a7-fd42-42dd-bb13-d1a7c7812e8f",
   "metadata": {},
   "outputs": [
    {
     "ename": "TypeError",
     "evalue": "sumFunc() missing 2 required positional arguments: 'num1' and 'num2'",
     "output_type": "error",
     "traceback": [
      "\u001b[0;31m---------------------------------------------------------------------------\u001b[0m",
      "\u001b[0;31mTypeError\u001b[0m                                 Traceback (most recent call last)",
      "Cell \u001b[0;32mIn[15], line 1\u001b[0m\n\u001b[0;32m----> 1\u001b[0m sumFunc()\n",
      "\u001b[0;31mTypeError\u001b[0m: sumFunc() missing 2 required positional arguments: 'num1' and 'num2'"
     ]
    }
   ],
   "source": [
    "sumFunc() #bu durumda illa parametre ister, parametre yerine hazır \n",
    "#taslak bırakmak hata mesajını engeller\n"
   ]
  },
  {
   "cell_type": "code",
   "execution_count": 21,
   "id": "653abc24-e624-4ccf-9c48-88b536b58144",
   "metadata": {},
   "outputs": [],
   "source": [
    "def name_upper2(name_entry = \"none\"):\n",
    "    name_output = name_entry.upper()\n",
    "    print(name_output)"
   ]
  },
  {
   "cell_type": "code",
   "execution_count": 22,
   "id": "72388a41-5173-4ba8-93c3-170b01553496",
   "metadata": {},
   "outputs": [
    {
     "name": "stdout",
     "output_type": "stream",
     "text": [
      "ELIF\n"
     ]
    }
   ],
   "source": [
    "name_upper2(\"elif\")"
   ]
  },
  {
   "cell_type": "code",
   "execution_count": 23,
   "id": "4f358925-f0b9-40ad-ab62-0cf431789f83",
   "metadata": {},
   "outputs": [
    {
     "name": "stdout",
     "output_type": "stream",
     "text": [
      "NONE\n"
     ]
    }
   ],
   "source": [
    "name_upper2()"
   ]
  },
  {
   "cell_type": "markdown",
   "id": "f1612705-5595-4d85-a1d9-1af7f8e50247",
   "metadata": {},
   "source": [
    "#return"
   ]
  },
  {
   "cell_type": "code",
   "execution_count": null,
   "id": "b611826c-d355-4d20-a6be-00316182b9ca",
   "metadata": {},
   "outputs": [],
   "source": []
  }
 ],
 "metadata": {
  "kernelspec": {
   "display_name": "Python 3 (ipykernel)",
   "language": "python",
   "name": "python3"
  },
  "language_info": {
   "codemirror_mode": {
    "name": "ipython",
    "version": 3
   },
   "file_extension": ".py",
   "mimetype": "text/x-python",
   "name": "python",
   "nbconvert_exporter": "python",
   "pygments_lexer": "ipython3",
   "version": "3.11.7"
  }
 },
 "nbformat": 4,
 "nbformat_minor": 5
}
