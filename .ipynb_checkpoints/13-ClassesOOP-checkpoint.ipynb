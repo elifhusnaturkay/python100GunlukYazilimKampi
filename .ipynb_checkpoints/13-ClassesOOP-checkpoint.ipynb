{
 "cells": [
  {
   "cell_type": "markdown",
   "id": "a10326d7-2d94-423a-a7f8-8f8e3d95dac3",
   "metadata": {},
   "source": [
    "#CLASSES "
   ]
  },
  {
   "cell_type": "code",
   "execution_count": 2,
   "id": "9093cfa3-0243-400b-9f29-738ed3924f8a",
   "metadata": {},
   "outputs": [
    {
     "data": {
      "text/plain": [
       "'\\nclass ClassName:\\n    #Constructor (Yapıcı Metot)\\n    def __init__(self, param1, param2):\\n        # Attribute Definition (Özellik Tanımı)\\n        self.attribute1 = param1\\n        self.attribute2 = param2\\n\\n    #Method Definition (Yöntem Tanımı)\\n    def method_name(self, param3):\\n        # Method implementation (Yöntemin uygulanması)\\n        pass\\n\\n#Creating an Instance of a Class (Sınıf Örneği Oluşturma)\\nobject_name = ClassName(param1_value, param2_value)\\n\\n#Using a Method (Yöntem Kullanımı)\\nobject_name.method_name(param3_value)\\n\\n'"
      ]
     },
     "execution_count": 2,
     "metadata": {},
     "output_type": "execute_result"
    }
   ],
   "source": [
    "'''\n",
    "class ClassName:\n",
    "    #Constructor (Yapıcı Metot)\n",
    "    def __init__(self, param1, param2):\n",
    "        # Attribute Definition (Özellik Tanımı)\n",
    "        self.attribute1 = param1\n",
    "        self.attribute2 = param2\n",
    "\n",
    "    #Method Definition (Yöntem Tanımı)\n",
    "    def method_name(self, param3):\n",
    "        # Method implementation (Yöntemin uygulanması)\n",
    "        pass\n",
    "\n",
    "#Creating an Instance of a Class (Sınıf Örneği Oluşturma)\n",
    "object_name = ClassName(param1_value, param2_value)\n",
    "\n",
    "#Using a Method (Yöntem Kullanımı)\n",
    "object_name.method_name(param3_value)\n",
    "\n",
    "'''"
   ]
  },
  {
   "cell_type": "code",
   "execution_count": 9,
   "id": "cf481c27-dcd6-45ae-9caf-7ecc3dfdae16",
   "metadata": {},
   "outputs": [],
   "source": [
    "class Person:\n",
    "    name = \" \" #class attribute (class özelliği)\n",
    "    age = 0\n",
    "    gender = \" \""
   ]
  },
  {
   "cell_type": "code",
   "execution_count": 10,
   "id": "e5a97f1a-3321-406f-900b-d4b9e2d9371f",
   "metadata": {},
   "outputs": [],
   "source": [
    "esma = Person()"
   ]
  },
  {
   "cell_type": "code",
   "execution_count": 11,
   "id": "179cf617-2299-42e8-b6d9-9ceb016fae36",
   "metadata": {},
   "outputs": [],
   "source": [
    "esma.name = \"esmanur turkay\""
   ]
  },
  {
   "cell_type": "code",
   "execution_count": 12,
   "id": "d37613c4-f9d8-4326-8cc8-8db78e34b63b",
   "metadata": {},
   "outputs": [],
   "source": [
    "esma.age = 18"
   ]
  },
  {
   "cell_type": "code",
   "execution_count": 13,
   "id": "81674dcf-0fad-45dd-9e18-fdf75bb3d2e8",
   "metadata": {},
   "outputs": [
    {
     "data": {
      "text/plain": [
       "<__main__.Person at 0x107c30e10>"
      ]
     },
     "execution_count": 13,
     "metadata": {},
     "output_type": "execute_result"
    }
   ],
   "source": [
    "esma"
   ]
  },
  {
   "cell_type": "code",
   "execution_count": 14,
   "id": "a872eddd-d2ff-4368-bbb4-adb9b77d97f6",
   "metadata": {},
   "outputs": [
    {
     "data": {
      "text/plain": [
       "__main__.Person"
      ]
     },
     "execution_count": 14,
     "metadata": {},
     "output_type": "execute_result"
    }
   ],
   "source": [
    "type(esma)"
   ]
  },
  {
   "cell_type": "code",
   "execution_count": 16,
   "id": "a0126643-879f-4764-8713-5a8abfab8a94",
   "metadata": {},
   "outputs": [],
   "source": [
    "class Person:\n",
    "    name = \" \" #class attribute (class özelliği)\n",
    "    age = 0\n",
    "    gender = \" \"\n",
    "\n",
    "    #methods initializer(başlatıcı), constructor\n",
    "    def __init__(self):\n",
    "        print(\"çalıştı vallah\")"
   ]
  },
  {
   "cell_type": "code",
   "execution_count": 17,
   "id": "2360a52f-20a9-4e0a-9122-04c56538084a",
   "metadata": {},
   "outputs": [
    {
     "name": "stdout",
     "output_type": "stream",
     "text": [
      "çalıştı vallah\n"
     ]
    }
   ],
   "source": [
    "salih = Person()"
   ]
  },
  {
   "cell_type": "code",
   "execution_count": 1,
   "id": "707e714a-7138-4ca6-811e-e9da1c13bb6e",
   "metadata": {},
   "outputs": [],
   "source": [
    "class Person:\n",
    "    name = \" \" #class attribute (class özelliği)\n",
    "    age = 0\n",
    "    gender = \" \"\n",
    "\n",
    "    #methods initializer(başlatıcı), constructor\n",
    "    def __init__(self, nameInp, ageInp, genderInp): #her çalıştığında paramların hepsini çalıştırır\n",
    "        name = nameInp #class attributeslerini çekiyor\n",
    "        age = ageInt\n",
    "        gender = genderInp"
   ]
  },
  {
   "cell_type": "code",
   "execution_count": 3,
   "id": "9f0faedf-b6aa-4b6c-8368-ad03b3d443dc",
   "metadata": {},
   "outputs": [],
   "source": [
    "salih = Person(\"Salih\",15, \"boy\") \n",
    "#self verdiğinde referans verip bu sınıftan oluşturunlan objectin özelliklerini değiştireceğini söyüyorsun"
   ]
  },
  {
   "cell_type": "code",
   "execution_count": 1,
   "id": "1a7ca0a4-9d28-4656-b049-ce1da9463925",
   "metadata": {},
   "outputs": [],
   "source": [
    "class Person:\n",
    "    name = \" \" #class attribute (class özelliği)\n",
    "    age = 0\n",
    "    gender = \" \"\n",
    "\n",
    "    #methods initializer(başlatıcı), constructor\n",
    "    def __init__(self, nameInp, ageInp, genderInp): #her çalıştığında paramların hepsini çalıştırır\n",
    "        self.name = nameInp #class attributeslerini çekiyor\n",
    "        self.age = ageInp\n",
    "        self.gender = genderInp\n",
    "\n",
    "#bu methodun içinden bir paramtere almak istiyorsak methodu çalıştırıken yazarız\n",
    "#gelen verileri de classın içindeki özelliklere eşitleriz\n",
    "#self javadaki thise eşit"
   ]
  },
  {
   "cell_type": "code",
   "execution_count": 2,
   "id": "8a50abe3-aa20-4277-a525-9ab3b61ba716",
   "metadata": {},
   "outputs": [],
   "source": [
    "salih = Person(\"Salih\",15, \"boy\")"
   ]
  },
  {
   "cell_type": "code",
   "execution_count": 3,
   "id": "b3996252-23ed-4688-8303-d5b37d65408f",
   "metadata": {},
   "outputs": [
    {
     "data": {
      "text/plain": [
       "<__main__.Person at 0x10433e950>"
      ]
     },
     "execution_count": 3,
     "metadata": {},
     "output_type": "execute_result"
    }
   ],
   "source": [
    "salih"
   ]
  },
  {
   "cell_type": "code",
   "execution_count": 6,
   "id": "e2b4d043-2523-446d-b333-a61b4abf2a7b",
   "metadata": {},
   "outputs": [
    {
     "name": "stdout",
     "output_type": "stream",
     "text": [
      "<__main__.Person object at 0x10433e950>\n",
      "Salih\n",
      "15\n",
      "boy\n"
     ]
    }
   ],
   "source": [
    "print(salih)\n",
    "print(salih.name)\n",
    "print(salih.age)\n",
    "print(salih.gender)"
   ]
  },
  {
   "cell_type": "code",
   "execution_count": 34,
   "id": "3d7f14c1-568b-4c1d-b116-30e1da12fe0c",
   "metadata": {},
   "outputs": [],
   "source": [
    "class Person:\n",
    "    #name = \" \" #class attribute (class özelliği)\n",
    "    #age = 0\n",
    "    #gender = \" \"\n",
    "    #bu özelliklerin(property) burada tanımlı olmasına gerek yok, self.name=name yazdırılınca\n",
    "    #bu sınıfın name diye bir özelliği olduğunu anlar\n",
    "\n",
    "    def __init__(self, nameInp, ageInp, genderInp): #her çalıştığında paramların hepsini çalıştırır\n",
    "        self.name = nameInp #class attributeslerini çekiyor\n",
    "        self.age = ageInp\n",
    "        self.gender = genderInp\n",
    "\n",
    "    def print_name(self):\n",
    "        print(self.name + \" \" + str(self.age) + \" yaşında.\" )"
   ]
  },
  {
   "cell_type": "code",
   "execution_count": 35,
   "id": "873baecd-9c71-4f0f-bd70-423ddab27c8a",
   "metadata": {},
   "outputs": [],
   "source": [
    "esma = Person(\"Esma\", 18, \"girl\")"
   ]
  },
  {
   "cell_type": "code",
   "execution_count": 36,
   "id": "80b144c9-3daa-4364-bc3f-a7c6062ea561",
   "metadata": {},
   "outputs": [
    {
     "name": "stdout",
     "output_type": "stream",
     "text": [
      "Esma 18 yaşında.\n"
     ]
    }
   ],
   "source": [
    "esma.print_name()"
   ]
  },
  {
   "cell_type": "code",
   "execution_count": 37,
   "id": "4bdeedbc-482a-4471-abac-f63dbc96e1b5",
   "metadata": {},
   "outputs": [],
   "source": [
    "salih = Person(\"Salih\",15, \"boy\")"
   ]
  },
  {
   "cell_type": "code",
   "execution_count": 38,
   "id": "3530caf8-2508-4676-92d0-0fa8066e67e8",
   "metadata": {},
   "outputs": [
    {
     "name": "stdout",
     "output_type": "stream",
     "text": [
      "Salih 15 yaşında.\n"
     ]
    }
   ],
   "source": [
    "salih.print_name()"
   ]
  },
  {
   "cell_type": "code",
   "execution_count": 44,
   "id": "39794c42-6213-4be6-a444-8e14ee2ef5c2",
   "metadata": {},
   "outputs": [],
   "source": [
    "class Person:\n",
    "    #name = \" \" #class attribute (class özelliği)\n",
    "    #age = 0\n",
    "    #gender = \" \"\n",
    "    job = \"\" #zorunlu olmayan seçenek olur değiştiriilebiliri, dışardan ekleme yapılabilir\n",
    "    \n",
    "\n",
    "    def __init__(self, nameInp, ageInp, genderInp): #her çalıştığında paramların hepsini çalıştırır\n",
    "        self.name = nameInp #class attributeslerini çekiyor\n",
    "        self.age = ageInp\n",
    "        self.gender = genderInp\n",
    "\n",
    "    def print_name(self):\n",
    "        print(f\"{self.name} {self.age} yaşında {self.job} işi yapıyor .\")"
   ]
  },
  {
   "cell_type": "code",
   "execution_count": 45,
   "id": "493c5149-3a0e-4cf4-bcbd-aaeba72c8a0f",
   "metadata": {},
   "outputs": [],
   "source": [
    "eht = Person(\"Elif\", 21, \"girl\")"
   ]
  },
  {
   "cell_type": "code",
   "execution_count": 46,
   "id": "5ae4501d-db59-4926-8349-6f197fd03e5a",
   "metadata": {},
   "outputs": [],
   "source": [
    "eht.job = \"developer\" #değiştirilebilir"
   ]
  },
  {
   "cell_type": "code",
   "execution_count": 47,
   "id": "993f760d-f016-4345-bd8b-cad3d47ca565",
   "metadata": {},
   "outputs": [
    {
     "name": "stdout",
     "output_type": "stream",
     "text": [
      "Elif 21 yaşında developer işi yapıyor .\n"
     ]
    }
   ],
   "source": [
    "eht.print_name()"
   ]
  },
  {
   "cell_type": "markdown",
   "id": "66cdbdad-9872-4f8c-8bbb-a6e88a0efcb2",
   "metadata": {},
   "source": [
    "#f-string"
   ]
  },
  {
   "cell_type": "code",
   "execution_count": 49,
   "id": "81e6d970-40ec-437c-93a7-8283fa0b596c",
   "metadata": {},
   "outputs": [
    {
     "data": {
      "text/plain": [
       "'\\n#f\"metin {degisken_adi} metin\"\\n#f-string\\'ler, string içinde değişkenlerin ve ifadelerin süslü parantez {} içinde yer almasını sağlar\\n\\nnum1 = 10\\nnum2 = 5\\nprint(f\"The sum is {num1 + num2}.\")\\n######################\\n\\n\\n#f\"metin {nesne_adi.nitelik} metin\"\\n#f\"metin {nesne_adi.metot()} metin\"\\n\\n#f\"metin {degisken_adi:format_spesifikasyonu} metin\"\\nprice = 1234.56789\\nf\"Price: ${price:,.2f}\"\\n# Output: \"Price: $1,234.57\"\\n######################\\n\\n\\nfrom datetime import datetime\\nnow = datetime.now()\\nf\"Current date and time: {now:%Y-%m-%d %H:%M:%S}\"\\n# Output: \"Current date and time: 2024-05-27 14:45:30\" (örnek)\\n######################\\n\\n\\n#f\"metin {\\'ifade\\' if sart else \\'baska ifade\\'} metin\"\\nis_open = True\\nf\"The store is {\\'open\\' if is_open else \\'closed\\'}.\"\\n# Output: \"The store is open.\"\\n######################\\n\\n\\nf\"metin {\\', \\'.join(liste_adi)} metin\"\\nitems = [\"apple\", \"banana\", \"cherry\"]\\nf\"Items: {\\', \\'.join(items)}\"\\n# Output: \"Items: apple, banana, cherry\" '"
      ]
     },
     "execution_count": 49,
     "metadata": {},
     "output_type": "execute_result"
    }
   ],
   "source": [
    "'''\n",
    "#f\"metin {degisken_adi} metin\"\n",
    "#f-string'ler, string içinde değişkenlerin ve ifadelerin süslü parantez {} içinde yer almasını sağlar\n",
    "\n",
    "num1 = 10\n",
    "num2 = 5\n",
    "print(f\"The sum is {num1 + num2}.\")\n",
    "######################\n",
    "\n",
    "\n",
    "#f\"metin {nesne_adi.nitelik} metin\"\n",
    "#f\"metin {nesne_adi.metot()} metin\"\n",
    "\n",
    "#f\"metin {degisken_adi:format_spesifikasyonu} metin\"\n",
    "price = 1234.56789\n",
    "f\"Price: ${price:,.2f}\"\n",
    "# Output: \"Price: $1,234.57\"\n",
    "######################\n",
    "\n",
    "\n",
    "from datetime import datetime\n",
    "now = datetime.now()\n",
    "f\"Current date and time: {now:%Y-%m-%d %H:%M:%S}\"\n",
    "# Output: \"Current date and time: 2024-05-27 14:45:30\" (örnek)\n",
    "######################\n",
    "\n",
    "\n",
    "#f\"metin {'ifade' if sart else 'baska ifade'} metin\"\n",
    "is_open = True\n",
    "f\"The store is {'open' if is_open else 'closed'}.\"\n",
    "# Output: \"The store is open.\"\n",
    "######################\n",
    "\n",
    "\n",
    "f\"metin {', '.join(liste_adi)} metin\"\n",
    "items = [\"apple\", \"banana\", \"cherry\"]\n",
    "f\"Items: {', '.join(items)}\"\n",
    "# Output: \"Items: apple, banana, cherry\" '''"
   ]
  },
  {
   "cell_type": "code",
   "execution_count": 85,
   "id": "187a268f-b460-4818-ab2a-e72327bb404a",
   "metadata": {},
   "outputs": [],
   "source": [
    "class Cat():\n",
    "\n",
    "    year = 14\n",
    "    \n",
    "    def __init__(self, name, age):\n",
    "        self.name = name\n",
    "        self.age = age\n",
    "\n",
    "    def human_age(self):\n",
    "        print(f\"{self.name} insan yaşına göre {self.age*14} yaşında!\")\n",
    "\n",
    "    #daha profesyonel hali\n",
    "    def human_age2(self):\n",
    "        human_age_transtor = 14\n",
    "        return (self.age * human_age_transtor)\n",
    "\n",
    "    def human_age3(self):\n",
    "        return (self.age * Cat.year) #Cat.year -> self.year\n",
    "\n",
    "    def human_age_contin(self):\n",
    "        human_age_str = str(self.human_age3())\n",
    "        print(f\"{self.name} insan yaşıyla {human_age_str} yaşında!\")"
   ]
  },
  {
   "cell_type": "code",
   "execution_count": 86,
   "id": "dbbcd282-1dd5-432a-9d11-2b9472498681",
   "metadata": {},
   "outputs": [],
   "source": [
    "my_cat = Cat(\"ÇıtÇıt\", 1)"
   ]
  },
  {
   "cell_type": "code",
   "execution_count": 87,
   "id": "f417e184-5b9e-49e4-bca8-481533e471bb",
   "metadata": {},
   "outputs": [
    {
     "name": "stdout",
     "output_type": "stream",
     "text": [
      "ÇıtÇıt insan yaşına göre 14 yaşında!\n",
      "ÇıtÇıt insan yaşıyla 14 yaşında!\n"
     ]
    }
   ],
   "source": [
    "my_cat.human_age()\n",
    "my_cat.human_age2()\n",
    "my_cat.human_age3()\n",
    "my_cat.human_age_contin()"
   ]
  },
  {
   "cell_type": "code",
   "execution_count": 92,
   "id": "389deae9-4ccf-4486-95f3-a005dc62766d",
   "metadata": {},
   "outputs": [
    {
     "name": "stdout",
     "output_type": "stream",
     "text": [
      "ÇıtÇıt\n",
      "1\n"
     ]
    }
   ],
   "source": [
    "my_cat\n",
    "print(my_cat.name)\n",
    "print(my_cat.age)"
   ]
  },
  {
   "cell_type": "code",
   "execution_count": 13,
   "id": "87d7926d-ee1c-497e-9a91-2ba61a59d856",
   "metadata": {},
   "outputs": [],
   "source": [
    "class Cat():\n",
    "\n",
    "    year = 14\n",
    "    \n",
    "    def __init__(self, name, age=3): #eğer değer doldurulduğunda hata görmek istemiyorsan defualt değer ata\n",
    "        self.name = name\n",
    "        self.age = age\n",
    "        self.cat_human_age = age * self.year\n",
    "        print(\"kedi girişi yapıldı\")"
   ]
  },
  {
   "cell_type": "code",
   "execution_count": 2,
   "id": "cce692bf-3a4b-4a40-99fd-1f61e39d86e1",
   "metadata": {},
   "outputs": [
    {
     "name": "stdout",
     "output_type": "stream",
     "text": [
      "kedi girişi yapıldı\n"
     ]
    }
   ],
   "source": [
    "my_pet = Cat(\"KıtKıt\", 4)"
   ]
  },
  {
   "cell_type": "code",
   "execution_count": 7,
   "id": "24fae817-1b72-445a-a768-94d24e423b08",
   "metadata": {},
   "outputs": [
    {
     "name": "stdout",
     "output_type": "stream",
     "text": [
      "<__main__.Cat object at 0x104c19350>\n"
     ]
    }
   ],
   "source": [
    "print(my_pet)"
   ]
  },
  {
   "cell_type": "code",
   "execution_count": 8,
   "id": "6b3cb4e8-91ad-4872-8829-b67817c7f22e",
   "metadata": {},
   "outputs": [
    {
     "data": {
      "text/plain": [
       "<__main__.Cat at 0x104c19350>"
      ]
     },
     "execution_count": 8,
     "metadata": {},
     "output_type": "execute_result"
    }
   ],
   "source": [
    "my_pet"
   ]
  },
  {
   "cell_type": "code",
   "execution_count": 11,
   "id": "0c5d3a2d-eed2-4c0c-b526-dc7641f24187",
   "metadata": {},
   "outputs": [
    {
     "name": "stdout",
     "output_type": "stream",
     "text": [
      "KıtKıt\n",
      "4\n"
     ]
    },
    {
     "data": {
      "text/plain": [
       "56"
      ]
     },
     "execution_count": 11,
     "metadata": {},
     "output_type": "execute_result"
    }
   ],
   "source": [
    "my_pet\n",
    "print(my_pet.name)\n",
    "print(my_pet.age)\n",
    "my_pet.cat_human_age"
   ]
  },
  {
   "cell_type": "code",
   "execution_count": 14,
   "id": "a2143704-3127-4dd2-927b-007840c9b120",
   "metadata": {},
   "outputs": [
    {
     "name": "stdout",
     "output_type": "stream",
     "text": [
      "kedi girişi yapıldı\n"
     ]
    }
   ],
   "source": [
    "my_pet2 = Cat(\"Gıtgıt\")"
   ]
  },
  {
   "cell_type": "code",
   "execution_count": 16,
   "id": "7bf1229e-5d20-4d25-a788-eecc5e972134",
   "metadata": {},
   "outputs": [
    {
     "name": "stdout",
     "output_type": "stream",
     "text": [
      "Gıtgıt\n",
      "3\n",
      "42\n"
     ]
    }
   ],
   "source": [
    "my_pet2\n",
    "print(my_pet2.name)\n",
    "print(my_pet2.age) #değer girmedik default değer atadı.\n",
    "print(my_pet2.cat_human_age)"
   ]
  },
  {
   "cell_type": "code",
   "execution_count": null,
   "id": "2fbbc932-7872-4867-aacb-3eeb0b24bbdd",
   "metadata": {},
   "outputs": [],
   "source": []
  }
 ],
 "metadata": {
  "kernelspec": {
   "display_name": "Python 3 (ipykernel)",
   "language": "python",
   "name": "python3"
  },
  "language_info": {
   "codemirror_mode": {
    "name": "ipython",
    "version": 3
   },
   "file_extension": ".py",
   "mimetype": "text/x-python",
   "name": "python",
   "nbconvert_exporter": "python",
   "pygments_lexer": "ipython3",
   "version": "3.11.7"
  }
 },
 "nbformat": 4,
 "nbformat_minor": 5
}
