{
 "cells": [
  {
   "cell_type": "code",
   "execution_count": 1,
   "id": "c67c6685-a5c4-4702-8275-73ce86879e8f",
   "metadata": {},
   "outputs": [],
   "source": [
    "my_list = [3.14, \"abscd\", 'a', 400]"
   ]
  },
  {
   "cell_type": "code",
   "execution_count": 2,
   "id": "289720d6-516f-4f88-9149-8aa687ed0898",
   "metadata": {},
   "outputs": [
    {
     "data": {
      "text/plain": [
       "3.14"
      ]
     },
     "execution_count": 2,
     "metadata": {},
     "output_type": "execute_result"
    }
   ],
   "source": [
    "my_list[0]"
   ]
  },
  {
   "cell_type": "code",
   "execution_count": 3,
   "id": "ccc9ffde-9d45-4ef0-8473-2d77a923d34c",
   "metadata": {},
   "outputs": [],
   "source": [
    "my_list[0] = 3.0"
   ]
  },
  {
   "cell_type": "code",
   "execution_count": 4,
   "id": "7e92b260-79e5-40d6-8dbe-4bf8f21ad9ea",
   "metadata": {},
   "outputs": [
    {
     "data": {
      "text/plain": [
       "[3.0, 'abscd', 'a', 400]"
      ]
     },
     "execution_count": 4,
     "metadata": {},
     "output_type": "execute_result"
    }
   ],
   "source": [
    "my_list"
   ]
  },
  {
   "cell_type": "code",
   "execution_count": 5,
   "id": "bed3bc79-cc33-4b88-a119-6f6ca6644bd5",
   "metadata": {},
   "outputs": [],
   "source": [
    "#bir kere tanımlandıktan sonra değiştirilemeyen verileri saklamak için tuple kullanılır\n",
    "my_tuple = (3.14, \"abscd\", 'a', 400)"
   ]
  },
  {
   "cell_type": "code",
   "execution_count": 6,
   "id": "5e03d609-2b5e-47ff-aa9c-d67c87e237b2",
   "metadata": {},
   "outputs": [
    {
     "data": {
      "text/plain": [
       "(3.14, 'abscd', 'a', 400)"
      ]
     },
     "execution_count": 6,
     "metadata": {},
     "output_type": "execute_result"
    }
   ],
   "source": [
    "my_tuple"
   ]
  },
  {
   "cell_type": "code",
   "execution_count": 7,
   "id": "35680de0-4533-4658-85ed-ceb497ad2459",
   "metadata": {},
   "outputs": [
    {
     "data": {
      "text/plain": [
       "3.14"
      ]
     },
     "execution_count": 7,
     "metadata": {},
     "output_type": "execute_result"
    }
   ],
   "source": [
    "my_tuple[0]"
   ]
  },
  {
   "cell_type": "code",
   "execution_count": 9,
   "id": "1c91675e-feda-4ee1-ace1-3dc72e5125f5",
   "metadata": {},
   "outputs": [],
   "source": [
    "#my_tuple[0] = 3.0  değişikliğe izin vermiyor"
   ]
  },
  {
   "cell_type": "code",
   "execution_count": 12,
   "id": "72857eb8-a58b-4d67-9eab-41c4a25bd8bd",
   "metadata": {},
   "outputs": [
    {
     "data": {
      "text/plain": [
       "2"
      ]
     },
     "execution_count": 12,
     "metadata": {},
     "output_type": "execute_result"
    }
   ],
   "source": [
    "my_tuple.index(\"a\") #tupleda sadece a kaçıncı indexte odluğunu öğrenebilirim "
   ]
  },
  {
   "cell_type": "code",
   "execution_count": 13,
   "id": "3e32c184-c00b-4785-ae1d-bfc4a5ed6204",
   "metadata": {},
   "outputs": [
    {
     "data": {
      "text/plain": [
       "1"
      ]
     },
     "execution_count": 13,
     "metadata": {},
     "output_type": "execute_result"
    }
   ],
   "source": [
    "my_tuple.count(\"a\") #ya da kaç tane a olduğunu öğrenebilrim"
   ]
  },
  {
   "cell_type": "code",
   "execution_count": null,
   "id": "aa8e58e3-0178-4bc1-a943-c7287c6fc30c",
   "metadata": {},
   "outputs": [],
   "source": []
  }
 ],
 "metadata": {
  "kernelspec": {
   "display_name": "Python 3 (ipykernel)",
   "language": "python",
   "name": "python3"
  },
  "language_info": {
   "codemirror_mode": {
    "name": "ipython",
    "version": 3
   },
   "file_extension": ".py",
   "mimetype": "text/x-python",
   "name": "python",
   "nbconvert_exporter": "python",
   "pygments_lexer": "ipython3",
   "version": "3.11.7"
  }
 },
 "nbformat": 4,
 "nbformat_minor": 5
}
