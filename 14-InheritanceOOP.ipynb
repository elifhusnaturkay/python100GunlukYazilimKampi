{
 "cells": [
  {
   "cell_type": "markdown",
   "id": "5a484dcd-61b1-4bab-9355-6cbf01e6eb88",
   "metadata": {},
   "source": [
    "#inheritence"
   ]
  },
  {
   "cell_type": "code",
   "execution_count": 1,
   "id": "0e9ce242-fe3e-4a29-bb95-5fc0238f6d5d",
   "metadata": {},
   "outputs": [],
   "source": [
    "#yeni sınıflar tanımlarken mevcut sınıfların özelliklerini ve metodlarını tekrar tanımlamak yerine onları devrala\n",
    "#subclasses - alt sınıflar) mevcut sınıflardan (superclasses - üst sınıflar) özellikler ve metodlar devralmasını sağlar.\n",
    "# super() fonksiyonu ise alt sınıfların üst sınıfların metodlarını veya özelliklerini çağırı\n",
    "#"
   ]
  },
  {
   "cell_type": "code",
   "execution_count": 7,
   "id": "012a7b88-384a-480a-a877-885351a016a5",
   "metadata": {},
   "outputs": [],
   "source": [
    "#single inheritance(tekli kalıtım)\n",
    "\n",
    "#Bir alt sınıf, tek bir üst sınıftan kalıtım alır.\n",
    "\n",
    "'''class SuperClass:\n",
    "    # Üst sınıfın özellikleri ve metodları\n",
    "\n",
    "class SubClass(SuperClass):\n",
    "    # Alt sınıfın özellikleri ve metodları\n",
    "'''\n",
    "\n",
    "class Animal:\n",
    "    def __init__(self, name):\n",
    "        self.name = name\n",
    "\n",
    "    def speak(self):\n",
    "        pass\n",
    "\n",
    "class Dog(Animal):\n",
    "    def speak(self):\n",
    "        return f\"{self.name} hav hav der!\""
   ]
  },
  {
   "cell_type": "code",
   "execution_count": 9,
   "id": "e88a721a-b357-41a2-94bc-a1bd58ac40c5",
   "metadata": {},
   "outputs": [],
   "source": [
    "dog = Dog(\"wolf\")"
   ]
  },
  {
   "cell_type": "code",
   "execution_count": 10,
   "id": "84a17280-783d-4738-9fba-f1ad82623081",
   "metadata": {},
   "outputs": [
    {
     "name": "stdout",
     "output_type": "stream",
     "text": [
      "wolf\n",
      "wolf hav hav der!\n"
     ]
    }
   ],
   "source": [
    "print(dog.name)\n",
    "print(dog.speak())"
   ]
  },
  {
   "cell_type": "code",
   "execution_count": 31,
   "id": "33e5a542-1ea9-4fc8-a42d-c87cf0b2814e",
   "metadata": {},
   "outputs": [],
   "source": [
    "#multi inheritance (çoklu kalıtım)\n",
    "\n",
    "#bir subclassın birden fazla superrclasstan kalıtım almasıdır\n",
    "'''class SuperClass1:\n",
    "    # Üst sınıfın özellikleri ve metodları\n",
    "\n",
    "class SuperClass2:\n",
    "    # Üst sınıfın özellikleri ve metodları\n",
    "\n",
    "class SubClass(SuperClass1, SuperClass2):\n",
    "    # Alt sınıfın özellikleri ve metodları\n",
    "'''\n",
    "\n",
    "class Flyer:\n",
    "    def fly(self):\n",
    "        return f\"{self.name} is flying\"\n",
    "\n",
    "class Swimmer:\n",
    "    def swim(self):\n",
    "        return f\"{self.name} is swimming\"\n",
    "\n",
    "class Duck(Flyer, Swimmer):\n",
    "    def __init__(self, name):\n",
    "        self.name = name"
   ]
  },
  {
   "cell_type": "code",
   "execution_count": 32,
   "id": "c36936c6-a2f9-4222-b2ab-d3da9ee22c00",
   "metadata": {},
   "outputs": [],
   "source": [
    "duck = Duck(\"Vakvak\")"
   ]
  },
  {
   "cell_type": "code",
   "execution_count": 34,
   "id": "89c2caee-97bb-4a59-b059-6bbef923f871",
   "metadata": {},
   "outputs": [
    {
     "name": "stdout",
     "output_type": "stream",
     "text": [
      "Vakvak\n",
      "Vakvak is flying\n",
      "Vakvak is swimming\n"
     ]
    }
   ],
   "source": [
    "print(duck.name)\n",
    "print(duck.fly())\n",
    "print(duck.swim())"
   ]
  },
  {
   "cell_type": "code",
   "execution_count": 50,
   "id": "784dc3b2-b713-41bc-8955-69deb2f63f05",
   "metadata": {},
   "outputs": [],
   "source": [
    "#multilevel inheritance(çok seviyeli kalıtım)\n",
    "\n",
    "#subclassın başka bir subclasstan kalıtım almasıdır. \n",
    "'''class SuperClass:\n",
    "    # Üst sınıfın özellikleri ve metodları\n",
    "\n",
    "class IntermediateClass(SuperClass):\n",
    "    # Ara sınıfın özellikleri ve metodları\n",
    "\n",
    "class SubClass(IntermediateClass):\n",
    "    # Alt sınıfın özellikleri ve metodları\n",
    "'''\n",
    "\n",
    "class Animal:\n",
    "    def __init__(self, name):\n",
    "        self.name = name\n",
    "\n",
    "    def move(self):\n",
    "        return f\"{self.name} hareket ediyo\"\n",
    "\n",
    "class Memeli(Animal):\n",
    "    def beslen(self):\n",
    "        return f\"{self.name} besleniyo\"\n",
    "\n",
    "class Dog1(Memeli):\n",
    "    def havla(self):\n",
    "        return f\"{self.name} havliyo\""
   ]
  },
  {
   "cell_type": "code",
   "execution_count": 52,
   "id": "ebb6251c-b32d-4627-aafb-ba39d191cee7",
   "metadata": {},
   "outputs": [],
   "source": [
    "dog = Dog1(\"wolf\")"
   ]
  },
  {
   "cell_type": "code",
   "execution_count": 53,
   "id": "7eb7fd3c-b251-4208-a46a-f7b883c13f57",
   "metadata": {},
   "outputs": [
    {
     "name": "stdout",
     "output_type": "stream",
     "text": [
      "wolf\n",
      "wolf hareket ediyo\n",
      "wolf besleniyo\n",
      "wolf havliyo\n"
     ]
    }
   ],
   "source": [
    "print(dog.name)\n",
    "print(dog.move())\n",
    "print(dog.beslen())\n",
    "print(dog.havla())"
   ]
  },
  {
   "cell_type": "code",
   "execution_count": 1,
   "id": "b9a41764-e2b5-43e3-8997-7b614df030cc",
   "metadata": {},
   "outputs": [],
   "source": [
    "#hierachial inheritance (hiyerarşik kalıtım)\n",
    "\n",
    "#birden fazla subclssın aynı üst sınıftan kalııtm almasıdır.\n",
    "'''class SuperClass:\n",
    "    # Üst sınıfın özellikleri ve metodları\n",
    "\n",
    "class SubClass1(SuperClass):\n",
    "    # Alt sınıfın özellikleri ve metodları\n",
    "\n",
    "class SubClass2(SuperClass):\n",
    "    # Alt sınıfın özellikleri ve metodları\n",
    "'''\n",
    "\n",
    "class Animal:\n",
    "    def __init__(self, name):\n",
    "        self.name = name\n",
    "\n",
    "    def speak(self):\n",
    "        return f\"{self.name} konuşabiliyor\"\n",
    "\n",
    "class Dog(Animal):\n",
    "    def speak(self):\n",
    "        return f\"{self.name} hav hav der!\"\n",
    "\n",
    "class Cat(Animal):\n",
    "    def speak(self):\n",
    "        return f\"{self.name} miyav der!\""
   ]
  },
  {
   "cell_type": "code",
   "execution_count": 2,
   "id": "e22f0d87-6684-4077-886d-cdd7eb429011",
   "metadata": {},
   "outputs": [],
   "source": [
    "dog = Dog(\"havhav\")\n",
    "cat = Cat(\"mırmır\")"
   ]
  },
  {
   "cell_type": "code",
   "execution_count": 3,
   "id": "2eb6486b-170a-40a5-82d8-e62f796ed982",
   "metadata": {},
   "outputs": [
    {
     "name": "stdout",
     "output_type": "stream",
     "text": [
      "havhav hav hav der!\n",
      "mırmır miyav der!\n"
     ]
    }
   ],
   "source": [
    "print(dog.speak())\n",
    "print(cat.speak())"
   ]
  },
  {
   "cell_type": "code",
   "execution_count": 4,
   "id": "59163f52-5ef9-4505-addc-40911c7939d6",
   "metadata": {},
   "outputs": [],
   "source": [
    "#SUPER()\n",
    "#super() bir fonksiyondur. subclassın, superclasstaki methodları ve özellikleini çağırır.\n",
    "\n",
    "'''super().method_name()'''\n",
    "\n",
    "class Animal:\n",
    "    def __init__(self, name):\n",
    "        self.name = name\n",
    "\n",
    "    def speak(self):\n",
    "        return \"Some sound\"\n",
    "\n",
    "class Dog(Animals):\n",
    "    def __init__(self, name, breed):\n",
    "        super().__init__(name)  # Üst sınıfın __init__ metodunu çağırır\n",
    "        self.breed = breed\n",
    "\n",
    "    def speak(self):\n",
    "        return f\"{self.name} hav hav der!\""
   ]
  },
  {
   "cell_type": "code",
   "execution_count": 6,
   "id": "a2c15ee2-3c36-4fbd-adfe-c2f06ae071b6",
   "metadata": {},
   "outputs": [],
   "source": [
    "dog1 = Dog(\"havhav\", \"golden\")"
   ]
  },
  {
   "cell_type": "code",
   "execution_count": 7,
   "id": "4570ca59-5185-481f-8827-bcce65191bf1",
   "metadata": {},
   "outputs": [
    {
     "name": "stdout",
     "output_type": "stream",
     "text": [
      "havhav\n",
      "golden\n",
      "havhav hav hav der!\n"
     ]
    }
   ],
   "source": [
    "print(dog1.name)\n",
    "print(dog1.breed)\n",
    "print(dog1.speak())"
   ]
  },
  {
   "cell_type": "code",
   "execution_count": null,
   "id": "b67c16c0-af6c-48aa-997f-e713ea4821b0",
   "metadata": {},
   "outputs": [],
   "source": []
  }
 ],
 "metadata": {
  "kernelspec": {
   "display_name": "Python 3 (ipykernel)",
   "language": "python",
   "name": "python3"
  },
  "language_info": {
   "codemirror_mode": {
    "name": "ipython",
    "version": 3
   },
   "file_extension": ".py",
   "mimetype": "text/x-python",
   "name": "python",
   "nbconvert_exporter": "python",
   "pygments_lexer": "ipython3",
   "version": "3.11.7"
  }
 },
 "nbformat": 4,
 "nbformat_minor": 5
}
