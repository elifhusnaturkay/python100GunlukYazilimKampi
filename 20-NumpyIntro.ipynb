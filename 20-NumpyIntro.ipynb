{
 "cells": [
  {
   "cell_type": "code",
   "execution_count": 1,
   "id": "fc26f4f7-6e15-45ae-8cad-86ca60eb1ad2",
   "metadata": {},
   "outputs": [
    {
     "name": "stdout",
     "output_type": "stream",
     "text": [
      "Channels:\n",
      " - defaults\n",
      "Platform: osx-arm64\n",
      "Collecting package metadata (repodata.json): done\n",
      "Solving environment: done\n",
      "\n",
      "## Package Plan ##\n",
      "\n",
      "  environment location: /opt/anaconda3\n",
      "\n",
      "  added / updated specs:\n",
      "    - numpy\n",
      "\n",
      "\n",
      "The following packages will be downloaded:\n",
      "\n",
      "    package                    |            build\n",
      "    ---------------------------|-----------------\n",
      "    archspec-0.2.3             |     pyhd3eb1b0_0          47 KB\n",
      "    ca-certificates-2024.9.24  |       hca03da5_0         131 KB\n",
      "    certifi-2024.8.30          |  py311hca03da5_0         165 KB\n",
      "    conda-24.9.2               |  py311hca03da5_0         1.2 MB\n",
      "    frozendict-2.4.2           |  py311hca03da5_0          38 KB\n",
      "    openssl-3.0.15             |       h80987f9_0         4.3 MB\n",
      "    ------------------------------------------------------------\n",
      "                                           Total:         5.9 MB\n",
      "\n",
      "The following NEW packages will be INSTALLED:\n",
      "\n",
      "  frozendict         pkgs/main/osx-arm64::frozendict-2.4.2-py311hca03da5_0 \n",
      "\n",
      "The following packages will be UPDATED:\n",
      "\n",
      "  archspec                               0.2.1-pyhd3eb1b0_0 --> 0.2.3-pyhd3eb1b0_0 \n",
      "  ca-certificates                     2023.12.12-hca03da5_0 --> 2024.9.24-hca03da5_0 \n",
      "  certifi                          2024.2.2-py311hca03da5_0 --> 2024.8.30-py311hca03da5_0 \n",
      "  conda                              24.1.2-py311hca03da5_0 --> 24.9.2-py311hca03da5_0 \n",
      "  openssl                                 3.0.13-h1a28f6b_0 --> 3.0.15-h80987f9_0 \n",
      "\n",
      "\n",
      "\n",
      "Downloading and Extracting Packages:\n",
      "openssl-3.0.15       | 4.3 MB    |                                       |   0% \n",
      "conda-24.9.2         | 1.2 MB    |                                       |   0% \u001b[A\n",
      "\n",
      "certifi-2024.8.30    | 165 KB    |                                       |   0% \u001b[A\u001b[A\n",
      "\n",
      "\n",
      "ca-certificates-2024 | 131 KB    |                                       |   0% \u001b[A\u001b[A\u001b[A\n",
      "\n",
      "\n",
      "\n",
      "archspec-0.2.3       | 47 KB     |                                       |   0% \u001b[A\u001b[A\u001b[A\u001b[A\n",
      "\n",
      "\n",
      "\n",
      "\n",
      "frozendict-2.4.2     | 38 KB     |                                       |   0% \u001b[A\u001b[A\u001b[A\u001b[A\u001b[A\n",
      "\n",
      "\n",
      "openssl-3.0.15       | 4.3 MB    | 1                                     |   0% \u001b[A\u001b[A\u001b[A\n",
      "\n",
      "\n",
      "\n",
      "archspec-0.2.3       | 47 KB     | ############6                         |  34% \u001b[A\u001b[A\u001b[A\u001b[A\n",
      "conda-24.9.2         | 1.2 MB    | 4                                     |   1% \u001b[A\n",
      "\n",
      "certifi-2024.8.30    | 165 KB    | ###5                                  |  10% \u001b[A\u001b[A\n",
      "\n",
      "\n",
      "\n",
      "archspec-0.2.3       | 47 KB     | ##################################### | 100% \u001b[A\u001b[A\u001b[A\u001b[A\n",
      "\n",
      "\n",
      "ca-certificates-2024 | 131 KB    | ####################################1 |  98% \u001b[A\u001b[A\u001b[A\n",
      "\n",
      "\n",
      "ca-certificates-2024 | 131 KB    | ##################################### | 100% \u001b[A\u001b[A\u001b[A\n",
      "\n",
      "\n",
      "\n",
      "\n",
      "openssl-3.0.15       | 4.3 MB    | ####1                                 |  11% \u001b[A\u001b[A\u001b[A\u001b[A\u001b[A\n",
      "\n",
      "\n",
      "\n",
      "\n",
      "frozendict-2.4.2     | 38 KB     | ##################################### | 100% \u001b[A\u001b[A\u001b[A\u001b[A\u001b[A\n",
      "openssl-3.0.15       | 4.3 MB    | ######5                               |  18% \u001b[A\n",
      "openssl-3.0.15       | 4.3 MB    | ##########7                           |  29% \u001b[A\n",
      "conda-24.9.2         | 1.2 MB    | ########################7             |  67% \u001b[A\n",
      "\n",
      "certifi-2024.8.30    | 165 KB    | ###################################9  |  97% \u001b[A\u001b[A\n",
      "\n",
      "openssl-3.0.15       | 4.3 MB    | ###########################           |  73% \u001b[A\u001b[A\n",
      "conda-24.9.2         | 1.2 MB    | ##################################### | 100% \u001b[A\n",
      "                                                                                \u001b[A\n",
      "                                                                                \u001b[A\n",
      "\n",
      "                                                                                \u001b[A\u001b[A\n",
      "\n",
      "\n",
      "                                                                                \u001b[A\u001b[A\u001b[A\n",
      "\n",
      "\n",
      "\n",
      "                                                                                \u001b[A\u001b[A\u001b[A\u001b[A\n",
      "\n",
      "\n",
      "\n",
      "\n",
      "                                                                                \u001b[A\u001b[A\u001b[A\u001b[A\u001b[A\n",
      "Preparing transaction: done\n",
      "Verifying transaction: done\n",
      "Executing transaction: done\n",
      "\n",
      "Note: you may need to restart the kernel to use updated packages.\n"
     ]
    }
   ],
   "source": [
    "conda install numpy"
   ]
  },
  {
   "cell_type": "code",
   "execution_count": 2,
   "id": "e3620b9c-43be-423c-8040-40670db2b818",
   "metadata": {},
   "outputs": [],
   "source": [
    "import numpy as np"
   ]
  },
  {
   "cell_type": "code",
   "execution_count": 3,
   "id": "b2b1bf6e-710a-4b2f-b3f9-d009f3389592",
   "metadata": {},
   "outputs": [],
   "source": [
    "my_list = [1,2,3,4,5]"
   ]
  },
  {
   "cell_type": "code",
   "execution_count": 4,
   "id": "0158bfd9-8591-49d6-8f1e-6785f24fbc72",
   "metadata": {},
   "outputs": [],
   "source": [
    "#numpy arrays"
   ]
  },
  {
   "cell_type": "code",
   "execution_count": 5,
   "id": "e1103c44-cde8-45b8-985c-aaa702405f08",
   "metadata": {},
   "outputs": [
    {
     "data": {
      "text/plain": [
       "array([1, 2, 3, 4, 5])"
      ]
     },
     "execution_count": 5,
     "metadata": {},
     "output_type": "execute_result"
    }
   ],
   "source": [
    " np.array(my_list) #listeyi array liste dönüştürür"
   ]
  },
  {
   "cell_type": "code",
   "execution_count": 6,
   "id": "45608711-de64-4bb8-9683-4aa71ead570b",
   "metadata": {},
   "outputs": [],
   "source": [
    "array_list = np.array(my_list)"
   ]
  },
  {
   "cell_type": "code",
   "execution_count": 7,
   "id": "8647d378-2fca-40fd-95d1-37f79f94d6bc",
   "metadata": {},
   "outputs": [
    {
     "data": {
      "text/plain": [
       "numpy.ndarray"
      ]
     },
     "execution_count": 7,
     "metadata": {},
     "output_type": "execute_result"
    }
   ],
   "source": [
    "type(array_list)"
   ]
  },
  {
   "cell_type": "code",
   "execution_count": 8,
   "id": "6907fe86-b3f5-4e74-9bed-9c43ab51204b",
   "metadata": {},
   "outputs": [
    {
     "data": {
      "text/plain": [
       "2"
      ]
     },
     "execution_count": 8,
     "metadata": {},
     "output_type": "execute_result"
    }
   ],
   "source": [
    "array_list[1] #index mantığıyla çalışıyor"
   ]
  },
  {
   "cell_type": "code",
   "execution_count": 10,
   "id": "3704a6b0-a75e-4905-930f-860f830704da",
   "metadata": {},
   "outputs": [],
   "source": [
    "array_list[4] = 6"
   ]
  },
  {
   "cell_type": "code",
   "execution_count": 11,
   "id": "bd8ac04d-1a07-4263-beb0-00e58aabf951",
   "metadata": {},
   "outputs": [
    {
     "name": "stdout",
     "output_type": "stream",
     "text": [
      "[1 2 3 4 6]\n"
     ]
    }
   ],
   "source": [
    "print(array_list)"
   ]
  },
  {
   "cell_type": "code",
   "execution_count": 15,
   "id": "b638bcba-c700-4dfa-a3e5-5eb602b4c416",
   "metadata": {},
   "outputs": [
    {
     "data": {
      "text/plain": [
       "6"
      ]
     },
     "execution_count": 15,
     "metadata": {},
     "output_type": "execute_result"
    }
   ],
   "source": [
    "array_list.max() #max değeri gösterir"
   ]
  },
  {
   "cell_type": "code",
   "execution_count": 16,
   "id": "1ebda291-bebd-4443-bee7-b7cabaa98158",
   "metadata": {},
   "outputs": [
    {
     "data": {
      "text/plain": [
       "1"
      ]
     },
     "execution_count": 16,
     "metadata": {},
     "output_type": "execute_result"
    }
   ],
   "source": [
    "array_list.min() #min değeri gösterir"
   ]
  },
  {
   "cell_type": "code",
   "execution_count": 17,
   "id": "06a14569-7c7e-42e4-b6be-4e738faf3c21",
   "metadata": {},
   "outputs": [
    {
     "data": {
      "text/plain": [
       "3.2"
      ]
     },
     "execution_count": 17,
     "metadata": {},
     "output_type": "execute_result"
    }
   ],
   "source": [
    "array_list.mean() #ortalama değeri gösterir"
   ]
  },
  {
   "cell_type": "code",
   "execution_count": 1,
   "id": "e1082aba-1cde-4a88-a17f-a91df00028d5",
   "metadata": {},
   "outputs": [],
   "source": [
    "matrix_list = [(1,1,1),(1,0,1),(1,0,0),(0,0,1)] "
   ]
  },
  {
   "cell_type": "code",
   "execution_count": 3,
   "id": "4a0e38a6-2516-420d-9c78-89f3f827b17e",
   "metadata": {},
   "outputs": [],
   "source": [
    "import numpy as np "
   ]
  },
  {
   "cell_type": "code",
   "execution_count": 6,
   "id": "b2d73eb6-80ee-42c6-98cd-593e0de64170",
   "metadata": {},
   "outputs": [],
   "source": [
    "np_matrix_list = np.array(matrix_list)"
   ]
  },
  {
   "cell_type": "code",
   "execution_count": 8,
   "id": "d7c6528b-3370-4dad-847b-7c36440bd5db",
   "metadata": {},
   "outputs": [
    {
     "data": {
      "text/plain": [
       "numpy.ndarray"
      ]
     },
     "execution_count": 8,
     "metadata": {},
     "output_type": "execute_result"
    }
   ],
   "source": [
    "type(np_matrix_list)"
   ]
  },
  {
   "cell_type": "code",
   "execution_count": 12,
   "id": "5f73c985-4149-4db9-ab95-d6ecb893fc5d",
   "metadata": {},
   "outputs": [
    {
     "data": {
      "text/plain": [
       "array([1, 1, 1])"
      ]
     },
     "execution_count": 12,
     "metadata": {},
     "output_type": "execute_result"
    }
   ],
   "source": [
    "np_matrix_list[0][0:] #index mantığıyla çalışır"
   ]
  },
  {
   "cell_type": "code",
   "execution_count": 13,
   "id": "0c7fceba-72c4-4699-8c78-77da6bddb9ab",
   "metadata": {},
   "outputs": [
    {
     "data": {
      "text/plain": [
       "(4, 3)"
      ]
     },
     "execution_count": 13,
     "metadata": {},
     "output_type": "execute_result"
    }
   ],
   "source": [
    "np_matrix_list.shape #ölçülerini gösterir(satır-sütun bazında)"
   ]
  },
  {
   "cell_type": "code",
   "execution_count": 14,
   "id": "e2add97e-50e1-491d-b7bc-3c68ded06500",
   "metadata": {},
   "outputs": [],
   "source": [
    "#arrange\n",
    "#nump kütüphanesinin ferdi\n",
    "#arrange ile range farkı çıktı türüdür arrange dönenleri liste olarak tutar\n",
    "\n",
    "#np.arange(start, stop, step)"
   ]
  },
  {
   "cell_type": "code",
   "execution_count": 15,
   "id": "43d0ec80-138c-4dbc-8ab1-c1bafc63f201",
   "metadata": {},
   "outputs": [
    {
     "data": {
      "text/plain": [
       "range(0, 10)"
      ]
     },
     "execution_count": 15,
     "metadata": {},
     "output_type": "execute_result"
    }
   ],
   "source": [
    "range(0,10) "
   ]
  },
  {
   "cell_type": "code",
   "execution_count": 16,
   "id": "7d4c35ab-6a39-4be2-b2d4-9c86f525460d",
   "metadata": {},
   "outputs": [
    {
     "data": {
      "text/plain": [
       "range"
      ]
     },
     "execution_count": 16,
     "metadata": {},
     "output_type": "execute_result"
    }
   ],
   "source": [
    "type(range(0,10))"
   ]
  },
  {
   "cell_type": "code",
   "execution_count": 17,
   "id": "dcae55ad-3ff5-4815-a5bb-2b7842ef7d02",
   "metadata": {},
   "outputs": [
    {
     "data": {
      "text/plain": [
       "[0, 1, 2, 3, 4, 5, 6, 7, 8, 9]"
      ]
     },
     "execution_count": 17,
     "metadata": {},
     "output_type": "execute_result"
    }
   ],
   "source": [
    "list(range(0,10))"
   ]
  },
  {
   "cell_type": "code",
   "execution_count": 18,
   "id": "e0fb99f9-dde0-49fd-8093-a7cd9958ddde",
   "metadata": {},
   "outputs": [
    {
     "data": {
      "text/plain": [
       "array([0, 1, 2, 3, 4, 5, 6, 7, 8, 9])"
      ]
     },
     "execution_count": 18,
     "metadata": {},
     "output_type": "execute_result"
    }
   ],
   "source": [
    "#aynı şeyi np kütüphanesi tanımlıyken daha kapsamlı yazdırabiliriz\n",
    "np.arange(0,10)"
   ]
  },
  {
   "cell_type": "code",
   "execution_count": 19,
   "id": "5f43132b-299c-4d4e-b98b-68f6c47a6099",
   "metadata": {},
   "outputs": [
    {
     "data": {
      "text/plain": [
       "numpy.ndarray"
      ]
     },
     "execution_count": 19,
     "metadata": {},
     "output_type": "execute_result"
    }
   ],
   "source": [
    "type(np.arange(0,10))"
   ]
  },
  {
   "cell_type": "code",
   "execution_count": 22,
   "id": "7f377f47-9190-4e1a-8c5e-a3eefd91a8ef",
   "metadata": {},
   "outputs": [
    {
     "data": {
      "text/plain": [
       "array([ 0,  5, 10, 15, 20, 25, 30, 35, 40, 45])"
      ]
     },
     "execution_count": 22,
     "metadata": {},
     "output_type": "execute_result"
    }
   ],
   "source": [
    "np.arange(0,50,5) #0dan başla 49a kadar 5er 5er "
   ]
  },
  {
   "cell_type": "code",
   "execution_count": 23,
   "id": "57c967f9-c5a2-46b5-94eb-a206bf39adc4",
   "metadata": {},
   "outputs": [
    {
     "name": "stdout",
     "output_type": "stream",
     "text": [
      "[0. 0. 0. 0. 0.]\n",
      "[1. 1. 1. 1. 1.]\n"
     ]
    }
   ],
   "source": [
    "print(np.zeros(5)) #0dan 5 tane yazırmak için\n",
    "print(np.ones(5)) # 1den 5 tane yazdırmak için"
   ]
  },
  {
   "cell_type": "code",
   "execution_count": 27,
   "id": "2b2a530c-eb4a-4c26-9eef-29c7017f6963",
   "metadata": {},
   "outputs": [
    {
     "data": {
      "text/plain": [
       "builtin_function_or_method"
      ]
     },
     "execution_count": 27,
     "metadata": {},
     "output_type": "execute_result"
    }
   ],
   "source": [
    "type(np.zeros)"
   ]
  },
  {
   "cell_type": "code",
   "execution_count": 31,
   "id": "5ed7b1da-6c75-45a9-817a-f829c7282128",
   "metadata": {},
   "outputs": [
    {
     "data": {
      "text/plain": [
       "array([[0., 0., 0., 0., 0.],\n",
       "       [0., 0., 0., 0., 0.],\n",
       "       [0., 0., 0., 0., 0.],\n",
       "       [0., 0., 0., 0., 0.],\n",
       "       [0., 0., 0., 0., 0.]])"
      ]
     },
     "execution_count": 31,
     "metadata": {},
     "output_type": "execute_result"
    }
   ],
   "source": [
    "#2li matrix şeklinde de kullanabiliriz\n",
    "np.zeros((5,5))"
   ]
  },
  {
   "cell_type": "code",
   "execution_count": 33,
   "id": "43bfd104-fff3-444b-8fc9-dac82b14688f",
   "metadata": {},
   "outputs": [
    {
     "data": {
      "text/plain": [
       "array([[[0., 0., 0., 0., 0.],\n",
       "        [0., 0., 0., 0., 0.],\n",
       "        [0., 0., 0., 0., 0.],\n",
       "        [0., 0., 0., 0., 0.],\n",
       "        [0., 0., 0., 0., 0.]],\n",
       "\n",
       "       [[0., 0., 0., 0., 0.],\n",
       "        [0., 0., 0., 0., 0.],\n",
       "        [0., 0., 0., 0., 0.],\n",
       "        [0., 0., 0., 0., 0.],\n",
       "        [0., 0., 0., 0., 0.]],\n",
       "\n",
       "       [[0., 0., 0., 0., 0.],\n",
       "        [0., 0., 0., 0., 0.],\n",
       "        [0., 0., 0., 0., 0.],\n",
       "        [0., 0., 0., 0., 0.],\n",
       "        [0., 0., 0., 0., 0.]],\n",
       "\n",
       "       [[0., 0., 0., 0., 0.],\n",
       "        [0., 0., 0., 0., 0.],\n",
       "        [0., 0., 0., 0., 0.],\n",
       "        [0., 0., 0., 0., 0.],\n",
       "        [0., 0., 0., 0., 0.]],\n",
       "\n",
       "       [[0., 0., 0., 0., 0.],\n",
       "        [0., 0., 0., 0., 0.],\n",
       "        [0., 0., 0., 0., 0.],\n",
       "        [0., 0., 0., 0., 0.],\n",
       "        [0., 0., 0., 0., 0.]]])"
      ]
     },
     "execution_count": 33,
     "metadata": {},
     "output_type": "execute_result"
    }
   ],
   "source": [
    "np.zeros((5,5,5))"
   ]
  },
  {
   "cell_type": "code",
   "execution_count": 44,
   "id": "be01f6e3-e4d8-449e-8044-bdeadcc43608",
   "metadata": {},
   "outputs": [
    {
     "data": {
      "text/plain": [
       "array([[[[0., 0.],\n",
       "         [0., 0.],\n",
       "         [0., 0.],\n",
       "         [0., 0.]],\n",
       "\n",
       "        [[0., 0.],\n",
       "         [0., 0.],\n",
       "         [0., 0.],\n",
       "         [0., 0.]],\n",
       "\n",
       "        [[0., 0.],\n",
       "         [0., 0.],\n",
       "         [0., 0.],\n",
       "         [0., 0.]]]])"
      ]
     },
     "execution_count": 44,
     "metadata": {},
     "output_type": "execute_result"
    }
   ],
   "source": [
    "np.zeros((1,3,4,2))"
   ]
  },
  {
   "cell_type": "code",
   "execution_count": 1,
   "id": "fd8a99d2-0b6b-4211-96a4-f6d75d3348c0",
   "metadata": {},
   "outputs": [],
   "source": [
    "import numpy as np "
   ]
  },
  {
   "cell_type": "code",
   "execution_count": 2,
   "id": "1666d032-0d79-450a-8de4-8cd331f541c0",
   "metadata": {},
   "outputs": [
    {
     "data": {
      "text/plain": [
       "array([1.  , 1.25, 1.5 , 1.75, 2.  ])"
      ]
     },
     "execution_count": 2,
     "metadata": {},
     "output_type": "execute_result"
    }
   ],
   "source": [
    "#linspace belirli başlangıç bitiş arasında eşit aralıklı sayılar üretmeye yarar\n",
    "#np.arange farkı adım değerini değil oluşturulacak eleman saysısını belritir\n",
    "\n",
    "#np.linspace(start, stop, num)\n",
    "#num: dizide kaç eleman olacağını belirtir\n",
    "\n",
    "\n",
    "np.linspace(1,2,5)"
   ]
  },
  {
   "cell_type": "code",
   "execution_count": 10,
   "id": "f7e284cd-b0d2-4773-a8c0-0acc1ce33968",
   "metadata": {},
   "outputs": [
    {
     "data": {
      "text/plain": [
       "array([1.  , 1.75, 2.5 , 3.25, 4.  ])"
      ]
     },
     "execution_count": 10,
     "metadata": {},
     "output_type": "execute_result"
    }
   ],
   "source": [
    "np.linspace(1, 4, 5)"
   ]
  },
  {
   "cell_type": "code",
   "execution_count": 18,
   "id": "43fca415-8cd9-42f8-8273-42bea8da1b05",
   "metadata": {},
   "outputs": [
    {
     "data": {
      "text/plain": [
       "array([[0.37388921, 0.41434136],\n",
       "       [0.26937761, 0.51861752],\n",
       "       [0.77814118, 0.72652411],\n",
       "       [0.76163347, 0.60909818]])"
      ]
     },
     "execution_count": 18,
     "metadata": {},
     "output_type": "execute_result"
    }
   ],
   "source": [
    "#random rastgele sayı ve dizi üretir.\n",
    "np.random.rand(4,2) #4x2 boyutunda rastgele sayılardan oluşan matris \n",
    "#0-1 arasında eşit dağılım rastgele üretir"
   ]
  },
  {
   "cell_type": "code",
   "execution_count": 19,
   "id": "e394556d-74f8-429f-b22d-c5e60d5c0695",
   "metadata": {},
   "outputs": [
    {
     "data": {
      "text/plain": [
       "array([-1.00645459,  0.13861849,  0.5156328 ])"
      ]
     },
     "execution_count": 19,
     "metadata": {},
     "output_type": "execute_result"
    }
   ],
   "source": [
    "np.random.randn(3) #5 elemanlı normal dağılım\n",
    "#ort 0, stan.sapma 1 rastgeel sayılar "
   ]
  },
  {
   "cell_type": "code",
   "execution_count": 22,
   "id": "44fb6912-dd7a-46b2-8706-69f933656867",
   "metadata": {},
   "outputs": [
    {
     "data": {
      "text/plain": [
       "array([3, 2, 4])"
      ]
     },
     "execution_count": 22,
     "metadata": {},
     "output_type": "execute_result"
    }
   ],
   "source": [
    "np.random.randint(2,5,size=3) #2-5 arasında 3 rastgele sayı\n",
    "#belirli aralıkta tam sayı üretir"
   ]
  },
  {
   "cell_type": "code",
   "execution_count": 23,
   "id": "24759684-aa7c-49e4-b6a5-0359a3061afa",
   "metadata": {},
   "outputs": [
    {
     "data": {
      "text/plain": [
       "array([4, 2])"
      ]
     },
     "execution_count": 23,
     "metadata": {},
     "output_type": "execute_result"
    }
   ],
   "source": [
    "np.random.choice([1,2,3,4,5], size=2) #başta tanımlanan diziden rastgele 2 değer seçer\n",
    "#veri setinden rastgele seçimler yaptırır"
   ]
  },
  {
   "cell_type": "code",
   "execution_count": 25,
   "id": "56e5ccee-cf63-4a37-b361-7d9ba06aeb31",
   "metadata": {},
   "outputs": [],
   "source": [
    "#np.array() = arr diye tanımlanır adetten gibi bir şey"
   ]
  },
  {
   "cell_type": "markdown",
   "id": "7277725b-b941-4417-8f6d-efe2c152e6fa",
   "metadata": {},
   "source": [
    "numpy arrays methods"
   ]
  },
  {
   "cell_type": "code",
   "execution_count": 26,
   "id": "441a22f3-8187-42f1-9f6e-e78d7b8ccedb",
   "metadata": {},
   "outputs": [],
   "source": [
    "np_list = np.arange(1,20)"
   ]
  },
  {
   "cell_type": "code",
   "execution_count": 28,
   "id": "6386bda5-44dc-47b9-a110-0500b1fb0363",
   "metadata": {},
   "outputs": [
    {
     "data": {
      "text/plain": [
       "array([ 1,  2,  3,  4,  5,  6,  7,  8,  9, 10, 11, 12, 13, 14, 15, 16, 17,\n",
       "       18, 19])"
      ]
     },
     "execution_count": 28,
     "metadata": {},
     "output_type": "execute_result"
    }
   ],
   "source": [
    "np_list"
   ]
  },
  {
   "cell_type": "code",
   "execution_count": 29,
   "id": "bdf09826-7593-4b85-b856-9442c0844284",
   "metadata": {},
   "outputs": [
    {
     "data": {
      "text/plain": [
       "6"
      ]
     },
     "execution_count": 29,
     "metadata": {},
     "output_type": "execute_result"
    }
   ],
   "source": [
    "np_list[5] #index mantığı var,"
   ]
  },
  {
   "cell_type": "code",
   "execution_count": 31,
   "id": "b571755a-1357-4a95-a104-4c4b45d47599",
   "metadata": {},
   "outputs": [
    {
     "data": {
      "text/plain": [
       "array([3, 4, 5, 6, 7, 8])"
      ]
     },
     "execution_count": 31,
     "metadata": {},
     "output_type": "execute_result"
    }
   ],
   "source": [
    "np_list[2:8] #2. elemendan 8.elemana getir"
   ]
  },
  {
   "cell_type": "code",
   "execution_count": 1,
   "id": "b4901047-a748-4066-9b2a-a2569a5e82df",
   "metadata": {},
   "outputs": [],
   "source": [
    "import numpy as np"
   ]
  },
  {
   "cell_type": "code",
   "execution_count": 2,
   "id": "d3fd0e6e-14a1-4245-82c3-caf24c27484e",
   "metadata": {},
   "outputs": [],
   "source": [
    "np_list1 = np.arange(1,15)"
   ]
  },
  {
   "cell_type": "code",
   "execution_count": 5,
   "id": "aa83c925-48fd-4e9c-808e-5802ea43168e",
   "metadata": {},
   "outputs": [],
   "source": [
    "np_list1[2:6] = -8 #belirli aralığı dönüştürür"
   ]
  },
  {
   "cell_type": "code",
   "execution_count": 6,
   "id": "bf08dd38-92f7-4b99-ba07-006bc7e85282",
   "metadata": {},
   "outputs": [
    {
     "data": {
      "text/plain": [
       "array([ 1,  2, -8, -8, -8, -8,  7,  8,  9, 10, 11, 12, 13, 14])"
      ]
     },
     "execution_count": 6,
     "metadata": {},
     "output_type": "execute_result"
    }
   ],
   "source": [
    "np_list1"
   ]
  },
  {
   "cell_type": "code",
   "execution_count": 11,
   "id": "c019c251-3620-4243-9eaa-3e77ffd0b557",
   "metadata": {},
   "outputs": [],
   "source": [
    "#np listlerinde olmaması ama bilinmesi gereken özellik\n",
    "np_list2 = np_list1[8:13]"
   ]
  },
  {
   "cell_type": "code",
   "execution_count": 12,
   "id": "faf1b5e6-8a2c-4b66-96fe-107d3c72597c",
   "metadata": {},
   "outputs": [
    {
     "data": {
      "text/plain": [
       "array([ 9, 10, 11, 12, 13])"
      ]
     },
     "execution_count": 12,
     "metadata": {},
     "output_type": "execute_result"
    }
   ],
   "source": [
    "np_list2"
   ]
  },
  {
   "cell_type": "code",
   "execution_count": 13,
   "id": "662c5cc0-8149-4154-a364-d0e51d72d960",
   "metadata": {},
   "outputs": [],
   "source": [
    "np_list2[:] = 0"
   ]
  },
  {
   "cell_type": "code",
   "execution_count": 14,
   "id": "b2f0353b-8516-491f-a44a-2adf70e1b583",
   "metadata": {},
   "outputs": [
    {
     "data": {
      "text/plain": [
       "array([0, 0, 0, 0, 0])"
      ]
     },
     "execution_count": 14,
     "metadata": {},
     "output_type": "execute_result"
    }
   ],
   "source": [
    "np_list2"
   ]
  },
  {
   "cell_type": "code",
   "execution_count": 15,
   "id": "26b44fc0-b61f-448c-a2ed-434679b5f787",
   "metadata": {},
   "outputs": [
    {
     "data": {
      "text/plain": [
       "array([ 1,  2, -8, -8, -8, -8,  7,  8,  0,  0,  0,  0,  0, 14])"
      ]
     },
     "execution_count": 15,
     "metadata": {},
     "output_type": "execute_result"
    }
   ],
   "source": [
    "#bunun değişmemiş olması gerekirdi\n",
    "np_list1"
   ]
  },
  {
   "cell_type": "code",
   "execution_count": 16,
   "id": "3982f033-3d6e-485c-9398-1f3fd311561f",
   "metadata": {},
   "outputs": [
    {
     "data": {
      "text/plain": [
       "array([False, False, False, False, False, False,  True,  True, False,\n",
       "       False, False, False, False,  True])"
      ]
     },
     "execution_count": 16,
     "metadata": {},
     "output_type": "execute_result"
    }
   ],
   "source": [
    "np_list1 > 3"
   ]
  },
  {
   "cell_type": "code",
   "execution_count": 17,
   "id": "3b8c8dfd-e2b6-4754-831f-c8451f74d1a3",
   "metadata": {},
   "outputs": [],
   "source": [
    " np_list3 = np_list1 > 3"
   ]
  },
  {
   "cell_type": "code",
   "execution_count": 18,
   "id": "64b7048e-6e22-4c87-9535-d7b9a3be51a0",
   "metadata": {},
   "outputs": [
    {
     "data": {
      "text/plain": [
       "array([False, False, False, False, False, False,  True,  True, False,\n",
       "       False, False, False, False,  True])"
      ]
     },
     "execution_count": 18,
     "metadata": {},
     "output_type": "execute_result"
    }
   ],
   "source": [
    "np_list3"
   ]
  },
  {
   "cell_type": "code",
   "execution_count": 19,
   "id": "30d70cf2-7f72-4fb7-b20f-be58d08f53d1",
   "metadata": {},
   "outputs": [
    {
     "data": {
      "text/plain": [
       "array([ 7,  8, 14])"
      ]
     },
     "execution_count": 19,
     "metadata": {},
     "output_type": "execute_result"
    }
   ],
   "source": [
    "np_list1[np_list3]"
   ]
  },
  {
   "cell_type": "code",
   "execution_count": 2,
   "id": "69bd9949-e8f7-4b96-bdac-b5cab19242e2",
   "metadata": {},
   "outputs": [],
   "source": [
    "import numpy as np"
   ]
  },
  {
   "cell_type": "code",
   "execution_count": 3,
   "id": "7e807085-9f3d-4dc1-a383-542aa0b746c8",
   "metadata": {},
   "outputs": [],
   "source": [
    "np_list = np.arange(0,21)"
   ]
  },
  {
   "cell_type": "code",
   "execution_count": 5,
   "id": "6d9e9297-b94c-4318-a790-94d12a07bfb3",
   "metadata": {},
   "outputs": [
    {
     "data": {
      "text/plain": [
       "array([ 0,  1,  2,  3,  4,  5,  6,  7,  8,  9, 10, 11, 12, 13, 14, 15, 16,\n",
       "       17, 18, 19, 20])"
      ]
     },
     "execution_count": 5,
     "metadata": {},
     "output_type": "execute_result"
    }
   ],
   "source": [
    "np_list"
   ]
  },
  {
   "cell_type": "code",
   "execution_count": 7,
   "id": "1d4917f4-5a7a-4db3-9bf0-0cfe54e788b9",
   "metadata": {},
   "outputs": [
    {
     "data": {
      "text/plain": [
       "array([ 0,  2,  4,  6,  8, 10, 12, 14, 16, 18, 20, 22, 24, 26, 28, 30, 32,\n",
       "       34, 36, 38, 40])"
      ]
     },
     "execution_count": 7,
     "metadata": {},
     "output_type": "execute_result"
    }
   ],
   "source": [
    "np_list + np_list #np list mantığında listeleri toplaya bilirsin"
   ]
  },
  {
   "cell_type": "code",
   "execution_count": 9,
   "id": "7887affd-9f8a-45e9-aecc-f7282db63622",
   "metadata": {},
   "outputs": [
    {
     "data": {
      "text/plain": [
       "array([  0,   1,   4,   9,  16,  25,  36,  49,  64,  81, 100, 121, 144,\n",
       "       169, 196, 225, 256, 289, 324, 361, 400])"
      ]
     },
     "execution_count": 9,
     "metadata": {},
     "output_type": "execute_result"
    }
   ],
   "source": [
    "np_list * np_list #çarpabilirsin"
   ]
  },
  {
   "cell_type": "code",
   "execution_count": 10,
   "id": "6664c3b4-1b77-4185-bbf8-fe34e2bc3022",
   "metadata": {},
   "outputs": [
    {
     "name": "stderr",
     "output_type": "stream",
     "text": [
      "/var/folders/2z/4s7ww8052797tq_0204m3t2r0000gn/T/ipykernel_3009/395153612.py:1: RuntimeWarning: invalid value encountered in divide\n",
      "  np_list / np_list #ama 0dan ötürü bölemezsin\n"
     ]
    },
    {
     "data": {
      "text/plain": [
       "array([nan,  1.,  1.,  1.,  1.,  1.,  1.,  1.,  1.,  1.,  1.,  1.,  1.,\n",
       "        1.,  1.,  1.,  1.,  1.,  1.,  1.,  1.])"
      ]
     },
     "execution_count": 10,
     "metadata": {},
     "output_type": "execute_result"
    }
   ],
   "source": [
    "np_list / np_list #ama 0dan ötürü bölemezsin"
   ]
  },
  {
   "cell_type": "code",
   "execution_count": null,
   "id": "e87b22cd-2d4c-4f13-9d49-5a717333f1d4",
   "metadata": {},
   "outputs": [],
   "source": []
  }
 ],
 "metadata": {
  "kernelspec": {
   "display_name": "Python 3 (ipykernel)",
   "language": "python",
   "name": "python3"
  },
  "language_info": {
   "codemirror_mode": {
    "name": "ipython",
    "version": 3
   },
   "file_extension": ".py",
   "mimetype": "text/x-python",
   "name": "python",
   "nbconvert_exporter": "python",
   "pygments_lexer": "ipython3",
   "version": "3.11.7"
  }
 },
 "nbformat": 4,
 "nbformat_minor": 5
}
