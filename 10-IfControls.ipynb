{
 "cells": [
  {
   "cell_type": "code",
   "execution_count": 1,
   "id": "f5c6aa4f-4e2d-4570-b878-cf9e819a3cb2",
   "metadata": {},
   "outputs": [],
   "source": [
    "x = 10\n",
    "y = 5"
   ]
  },
  {
   "cell_type": "code",
   "execution_count": 10,
   "id": "efb6bda7-e527-48c2-9685-0d1bfa865f2d",
   "metadata": {},
   "outputs": [
    {
     "data": {
      "text/plain": [
       "False"
      ]
     },
     "execution_count": 10,
     "metadata": {},
     "output_type": "execute_result"
    }
   ],
   "source": [
    "x > y #tek işaret boolean döndürü kontrol sağlar"
   ]
  },
  {
   "cell_type": "code",
   "execution_count": 4,
   "id": "28ce78bc-ef5d-4641-b3b9-c92965764852",
   "metadata": {},
   "outputs": [
    {
     "data": {
      "text/plain": [
       "False"
      ]
     },
     "execution_count": 4,
     "metadata": {},
     "output_type": "execute_result"
    }
   ],
   "source": [
    "x < y"
   ]
  },
  {
   "cell_type": "code",
   "execution_count": 5,
   "id": "3a0aab24-c625-476f-8f7b-e3518dbf944c",
   "metadata": {},
   "outputs": [
    {
     "data": {
      "text/plain": [
       "False"
      ]
     },
     "execution_count": 5,
     "metadata": {},
     "output_type": "execute_result"
    }
   ],
   "source": [
    "x == y #boolean kontrolü için çift = lazım tek = değer atar"
   ]
  },
  {
   "cell_type": "code",
   "execution_count": 6,
   "id": "95a3ce2a-c01a-4523-8be9-efe61f991fac",
   "metadata": {},
   "outputs": [],
   "source": [
    "x = y"
   ]
  },
  {
   "cell_type": "code",
   "execution_count": 7,
   "id": "84916fe2-160b-4524-afc2-16b6ee6342ce",
   "metadata": {},
   "outputs": [
    {
     "data": {
      "text/plain": [
       "5"
      ]
     },
     "execution_count": 7,
     "metadata": {},
     "output_type": "execute_result"
    }
   ],
   "source": [
    "y"
   ]
  },
  {
   "cell_type": "code",
   "execution_count": 8,
   "id": "cfa21876-530e-4466-8b85-0a8eedf4ef86",
   "metadata": {},
   "outputs": [
    {
     "data": {
      "text/plain": [
       "5"
      ]
     },
     "execution_count": 8,
     "metadata": {},
     "output_type": "execute_result"
    }
   ],
   "source": [
    "x"
   ]
  },
  {
   "cell_type": "code",
   "execution_count": 9,
   "id": "93ba1c38-780d-4c53-b3ea-c3dc464a0452",
   "metadata": {},
   "outputs": [
    {
     "data": {
      "text/plain": [
       "False"
      ]
     },
     "execution_count": 9,
     "metadata": {},
     "output_type": "execute_result"
    }
   ],
   "source": [
    "x != y #değildir ifaedsi"
   ]
  },
  {
   "cell_type": "code",
   "execution_count": 1,
   "id": "4f13357a-9fa0-4fbf-ab95-a72eb50f2034",
   "metadata": {},
   "outputs": [],
   "source": [
    " my_list = [10,20,30,40]"
   ]
  },
  {
   "cell_type": "code",
   "execution_count": 3,
   "id": "86711462-92fe-43ad-b249-5a74967a3dbf",
   "metadata": {},
   "outputs": [
    {
     "data": {
      "text/plain": [
       "True"
      ]
     },
     "execution_count": 3,
     "metadata": {},
     "output_type": "execute_result"
    }
   ],
   "source": [
    "10 in  my_list #my_listim iniçde 10 var mı diye sorgulama"
   ]
  },
  {
   "cell_type": "code",
   "execution_count": 4,
   "id": "1dc44a30-694c-4db0-b880-cb136a97c4b2",
   "metadata": {},
   "outputs": [
    {
     "data": {
      "text/plain": [
       "False"
      ]
     },
     "execution_count": 4,
     "metadata": {},
     "output_type": "execute_result"
    }
   ],
   "source": [
    "10 not in my_list"
   ]
  },
  {
   "cell_type": "code",
   "execution_count": 5,
   "id": "36e83a3e-be9e-4659-a568-e16f95938ce5",
   "metadata": {},
   "outputs": [],
   "source": [
    "my_superhero = \"batman\""
   ]
  },
  {
   "cell_type": "code",
   "execution_count": 7,
   "id": "fad73d7b-ae71-4070-91fd-5b30016a86f2",
   "metadata": {},
   "outputs": [
    {
     "data": {
      "text/plain": [
       "True"
      ]
     },
     "execution_count": 7,
     "metadata": {},
     "output_type": "execute_result"
    }
   ],
   "source": [
    "my_superhero == 'batman' #kontrol etti"
   ]
  },
  {
   "cell_type": "code",
   "execution_count": 10,
   "id": "92164024-d62c-42ac-bd8d-385a331ab13a",
   "metadata": {},
   "outputs": [
    {
     "name": "stdout",
     "output_type": "stream",
     "text": [
      "batman\n",
      "burası başka bir satır\n"
     ]
    }
   ],
   "source": [
    "if my_superhero == 'batman':\n",
    "    print(\"batman\")\n",
    "\n",
    "#---------------#\n",
    "print(\"burası başka bir satır\")"
   ]
  },
  {
   "cell_type": "code",
   "execution_count": 13,
   "id": "bb72b9df-bb93-483d-bcd3-92bf874d3110",
   "metadata": {},
   "outputs": [
    {
     "name": "stdout",
     "output_type": "stream",
     "text": [
      "batman\n"
     ]
    }
   ],
   "source": [
    "if my_superhero == 'superman':\n",
    "    print(\"superman\")\n",
    "elif my_superhero == 'aquaman': #else if kısaltması\n",
    "    print(\"aquaman\")\n",
    "else:\n",
    "    print('batman')"
   ]
  },
  {
   "cell_type": "code",
   "execution_count": 14,
   "id": "d825a4fb-0eb5-4d12-a696-df874f0058f6",
   "metadata": {},
   "outputs": [],
   "source": [
    "my_superhero_list = [\"Superman\", \"Batman\", \"Wonder Woman\", \"Spider-Man\", \"Iron Man\"]"
   ]
  },
  {
   "cell_type": "code",
   "execution_count": 16,
   "id": "a65af8e6-968f-4a43-9407-f25317483d6c",
   "metadata": {},
   "outputs": [
    {
     "name": "stdout",
     "output_type": "stream",
     "text": [
      "best hero is batman\n"
     ]
    }
   ],
   "source": [
    "if \"Batman\" in my_superhero_list:\n",
    "    print('best hero is batman')"
   ]
  },
  {
   "cell_type": "code",
   "execution_count": 17,
   "id": "c47758cd-a645-407f-95fb-bdb7ef97c697",
   "metadata": {},
   "outputs": [],
   "source": [
    "my_superhero = 'Wonder Woman'"
   ]
  },
  {
   "cell_type": "code",
   "execution_count": 18,
   "id": "f00d5c82-fd84-45a2-9cd0-06c5ea3badbe",
   "metadata": {},
   "outputs": [
    {
     "name": "stdout",
     "output_type": "stream",
     "text": [
      "batman best ever hero\n"
     ]
    }
   ],
   "source": [
    "if my_superhero in my_superhero_list:\n",
    "    print(\"batman best ever hero\")"
   ]
  },
  {
   "cell_type": "code",
   "execution_count": null,
   "id": "f4f99587-315c-4ee1-86aa-247abe4e4f77",
   "metadata": {},
   "outputs": [],
   "source": []
  }
 ],
 "metadata": {
  "kernelspec": {
   "display_name": "Python 3 (ipykernel)",
   "language": "python",
   "name": "python3"
  },
  "language_info": {
   "codemirror_mode": {
    "name": "ipython",
    "version": 3
   },
   "file_extension": ".py",
   "mimetype": "text/x-python",
   "name": "python",
   "nbconvert_exporter": "python",
   "pygments_lexer": "ipython3",
   "version": "3.11.7"
  }
 },
 "nbformat": 4,
 "nbformat_minor": 5
}
