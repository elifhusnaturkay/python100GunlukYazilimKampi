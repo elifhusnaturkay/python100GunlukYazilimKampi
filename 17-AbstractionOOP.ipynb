{
 "cells": [
  {
   "cell_type": "markdown",
   "id": "f6ead9b4-3e32-4500-87b1-0171d4579e7f",
   "metadata": {},
   "source": [
    "#abstraction (soyutlama)"
   ]
  },
  {
   "cell_type": "code",
   "execution_count": 1,
   "id": "82ccd5f7-046d-4182-96e5-4bcace096c73",
   "metadata": {},
   "outputs": [
    {
     "data": {
      "text/plain": [
       "'\\nfrom abc import ABC, abstractmethod\\n\\nclass AbstractClass(ABC):\\n    @abstractmethod\\n    def abstract_method(self):\\n        pass\\n'"
      ]
     },
     "execution_count": 1,
     "metadata": {},
     "output_type": "execute_result"
    }
   ],
   "source": [
    "'''\n",
    "from abc import ABC, abstractmethod\n",
    "\n",
    "class AbstractClass(ABC):\n",
    "    @abstractmethod\n",
    "    def abstract_method(self):\n",
    "        pass\n",
    "'''\n",
    "\n",
    "# abstract class(soyut sınıf) bir veya birden falza soyut method içeren classtır\n",
    "#diğer classlar tarafından miras alınabilier"
   ]
  },
  {
   "cell_type": "code",
   "execution_count": 2,
   "id": "a272c6da-cbfb-47de-a438-9defad9713b3",
   "metadata": {},
   "outputs": [],
   "source": [
    "from abc import ABC, abstractmethod\n",
    "\n",
    "class Sekil(ABC): #soyut sınıf tanımı\n",
    "    @abstractmethod\n",
    "    def alan(self):\n",
    "        pass\n",
    "\n",
    "    @abstractmethod\n",
    "    def cevre(self):\n",
    "        pass"
   ]
  },
  {
   "cell_type": "code",
   "execution_count": 16,
   "id": "d5a72f3c-8135-4774-91e3-0dd0becb5db2",
   "metadata": {},
   "outputs": [],
   "source": [
    "class Daire(Sekil):\n",
    "    def __init__(self, yaricap):\n",
    "        self.yaricap = yaricap\n",
    "\n",
    "    def alan(self):\n",
    "        alan1 = 3.14 * self.yaricap **2\n",
    "        print(f\"alan: {alan1}\")\n",
    "\n",
    "    def cevre(self):\n",
    "        cevre1= 2 * 3.14 * self.yaricap\n",
    "        print(f\"cevre: {cevre1}\")"
   ]
  },
  {
   "cell_type": "code",
   "execution_count": 18,
   "id": "22d311cf-6a0e-432e-8f1f-982baab819d5",
   "metadata": {},
   "outputs": [],
   "source": [
    "class Diktorgen(Sekil):\n",
    "    def __init__(self, genislik, yukseklik):\n",
    "        self.genislik = genislik\n",
    "        self.yukseklik = yukseklik\n",
    "\n",
    "    def alan(self):\n",
    "        alan1 = self.genislik * self.yukseklik\n",
    "        print(f\"alan: {alan1}\")\n",
    "\n",
    "    def cevre(self):\n",
    "        cevre1 = 2 * (self.genislik + self.yukseklik)\n",
    "        print(f\"cevre: {cevre1}\")"
   ]
  },
  {
   "cell_type": "code",
   "execution_count": 25,
   "id": "cc88bf8a-a229-4f73-ae06-d074da75292c",
   "metadata": {},
   "outputs": [],
   "source": [
    "daire1 = Daire(10)\n",
    "diktorgen1 = Diktorgen(10,20)"
   ]
  },
  {
   "cell_type": "code",
   "execution_count": 26,
   "id": "adf1700a-35a8-4c3c-a28a-28fc17d9bb6c",
   "metadata": {},
   "outputs": [
    {
     "name": "stdout",
     "output_type": "stream",
     "text": [
      "alan: 314.0\n",
      "None\n",
      "cevre: 62.800000000000004\n",
      "None\n"
     ]
    }
   ],
   "source": [
    "print(daire1.alan())\n",
    "print(daire1.cevre())"
   ]
  },
  {
   "cell_type": "code",
   "execution_count": 29,
   "id": "33392ea3-c599-42f3-bddb-05c08cde53dd",
   "metadata": {},
   "outputs": [
    {
     "name": "stdout",
     "output_type": "stream",
     "text": [
      "alan: 200\n",
      "None\n",
      "cevre: 60\n",
      "None\n"
     ]
    }
   ],
   "source": [
    "print(diktorgen1.alan())\n",
    "print(diktorgen1.cevre())"
   ]
  },
  {
   "cell_type": "code",
   "execution_count": null,
   "id": "137809f7-0e55-4e1d-b4b6-b75e6f1b1119",
   "metadata": {},
   "outputs": [],
   "source": []
  }
 ],
 "metadata": {
  "kernelspec": {
   "display_name": "Python 3 (ipykernel)",
   "language": "python",
   "name": "python3"
  },
  "language_info": {
   "codemirror_mode": {
    "name": "ipython",
    "version": 3
   },
   "file_extension": ".py",
   "mimetype": "text/x-python",
   "name": "python",
   "nbconvert_exporter": "python",
   "pygments_lexer": "ipython3",
   "version": "3.11.7"
  }
 },
 "nbformat": 4,
 "nbformat_minor": 5
}
