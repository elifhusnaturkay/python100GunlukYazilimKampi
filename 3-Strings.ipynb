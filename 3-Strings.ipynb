{
 "cells": [
  {
   "cell_type": "code",
   "execution_count": 9,
   "id": "2b76cdf0-12d3-4330-a799-03b09c467d88",
   "metadata": {},
   "outputs": [],
   "source": [
    "name = \"elif hüsna turkay\""
   ]
  },
  {
   "cell_type": "code",
   "execution_count": 3,
   "id": "1ee949ed-4bbd-46f7-bb62-700294139912",
   "metadata": {},
   "outputs": [
    {
     "name": "stdout",
     "output_type": "stream",
     "text": [
      "elif hüsna turkay\n"
     ]
    }
   ],
   "source": [
    "print(name)"
   ]
  },
  {
   "cell_type": "code",
   "execution_count": 6,
   "id": "02ef7624-7805-4d61-aa12-eace13c545dd",
   "metadata": {},
   "outputs": [
    {
     "name": "stdout",
     "output_type": "stream",
     "text": [
      "Help on built-in function capitalize:\n",
      "\n",
      "capitalize() method of builtins.str instance\n",
      "    Return a capitalized version of the string.\n",
      "    \n",
      "    More specifically, make the first character have upper case and the rest lower\n",
      "    case.\n",
      "\n"
     ]
    }
   ],
   "source": [
    "#ne olduğunu öğrenebilmek için help() kullanılıyormuş\n",
    "help(name.capitalize)"
   ]
  },
  {
   "cell_type": "code",
   "execution_count": 11,
   "id": "7ac8fcd1-77c8-41af-a46f-5d40cb8ae8ff",
   "metadata": {},
   "outputs": [
    {
     "data": {
      "text/plain": [
       "'Elif hüsna turkay'"
      ]
     },
     "execution_count": 11,
     "metadata": {},
     "output_type": "execute_result"
    }
   ],
   "source": [
    "name.capitalize()"
   ]
  },
  {
   "cell_type": "code",
   "execution_count": 14,
   "id": "e1a4670c-d853-4377-8054-f63386eae933",
   "metadata": {},
   "outputs": [
    {
     "data": {
      "text/plain": [
       "str"
      ]
     },
     "execution_count": 14,
     "metadata": {},
     "output_type": "execute_result"
    }
   ],
   "source": [
    "type(name)"
   ]
  },
  {
   "cell_type": "code",
   "execution_count": 16,
   "id": "5eb955e7-db6b-4736-9c23-11a787e03661",
   "metadata": {},
   "outputs": [
    {
     "data": {
      "text/plain": [
       "2"
      ]
     },
     "execution_count": 16,
     "metadata": {},
     "output_type": "execute_result"
    }
   ],
   "source": [
    "name.count(\"a\") "
   ]
  },
  {
   "cell_type": "code",
   "execution_count": 17,
   "id": "d0fca06e-c4b6-43c9-b102-148c8389f7e5",
   "metadata": {},
   "outputs": [
    {
     "name": "stdout",
     "output_type": "stream",
     "text": [
      "Help on built-in function translate:\n",
      "\n",
      "translate(table, /) method of builtins.str instance\n",
      "    Replace each character in the string using the given translation table.\n",
      "    \n",
      "      table\n",
      "        Translation table, which must be a mapping of Unicode ordinals to\n",
      "        Unicode ordinals, strings, or None.\n",
      "    \n",
      "    The table must implement lookup/indexing via __getitem__, for instance a\n",
      "    dictionary or list.  If this operation raises LookupError, the character is\n",
      "    left untouched.  Characters mapped to None are deleted.\n",
      "\n"
     ]
    }
   ],
   "source": [
    "help(name.translate)"
   ]
  },
  {
   "cell_type": "code",
   "execution_count": 22,
   "id": "35d0b8bc-3aba-4c05-ba80-6a3ce2939c54",
   "metadata": {},
   "outputs": [
    {
     "data": {
      "text/plain": [
       "'elif hüsna turkay'"
      ]
     },
     "execution_count": 22,
     "metadata": {},
     "output_type": "execute_result"
    }
   ],
   "source": [
    "name.translate(\"english\") "
   ]
  },
  {
   "cell_type": "markdown",
   "id": "6f4543e6-d071-4520-83ba-08453253bcdf",
   "metadata": {},
   "source": [
    "#index"
   ]
  },
  {
   "cell_type": "code",
   "execution_count": 2,
   "id": "fcd3cc78-7d57-4284-b5e7-abee0fa713cf",
   "metadata": {},
   "outputs": [],
   "source": [
    "name1 = \"elif hüsna turkay\""
   ]
  },
  {
   "cell_type": "code",
   "execution_count": 3,
   "id": "578b3ea1-de6e-4ff3-99e9-09a08da1c454",
   "metadata": {},
   "outputs": [
    {
     "data": {
      "text/plain": [
       "'s'"
      ]
     },
     "execution_count": 3,
     "metadata": {},
     "output_type": "execute_result"
    }
   ],
   "source": [
    "name1[7]"
   ]
  },
  {
   "cell_type": "code",
   "execution_count": 6,
   "id": "4c86d14f-d0f6-41be-9de8-3e1cd83e30f4",
   "metadata": {},
   "outputs": [
    {
     "data": {
      "text/plain": [
       "17"
      ]
     },
     "execution_count": 6,
     "metadata": {},
     "output_type": "execute_result"
    }
   ],
   "source": [
    "#len stringin kaç karakterli olduğunu söyler\n",
    "len(name1)"
   ]
  },
  {
   "cell_type": "code",
   "execution_count": 9,
   "id": "44866230-9ca4-42a2-8f8d-d89bcebdce4a",
   "metadata": {},
   "outputs": [
    {
     "data": {
      "text/plain": [
       "'17'"
      ]
     },
     "execution_count": 9,
     "metadata": {},
     "output_type": "execute_result"
    }
   ],
   "source": [
    "str(len(name1))"
   ]
  },
  {
   "cell_type": "code",
   "execution_count": 15,
   "id": "fd26817f-1b62-4688-97b3-da76d14b2e82",
   "metadata": {},
   "outputs": [
    {
     "data": {
      "text/plain": [
       "'y'"
      ]
     },
     "execution_count": 15,
     "metadata": {},
     "output_type": "execute_result"
    }
   ],
   "source": [
    "name1[len(name1)-1]"
   ]
  },
  {
   "cell_type": "code",
   "execution_count": 18,
   "id": "e5927193-b3cd-4c19-ba5f-77812a49e136",
   "metadata": {},
   "outputs": [
    {
     "name": "stdout",
     "output_type": "stream",
     "text": [
      "y\n",
      "a\n"
     ]
    }
   ],
   "source": [
    "print(name1[-1])\n",
    "print(name1[-2])"
   ]
  },
  {
   "cell_type": "code",
   "execution_count": 19,
   "id": "e7dd4835-3683-4924-98f1-d1d682fd8675",
   "metadata": {},
   "outputs": [],
   "source": [
    "#stringleri toplayabilir veya çarpabiliriz, toplamak \"a\" + \"b\"= ab verirken,\n",
    "# \"asdcadka\" * 2 =asdcadkaasdcadka değerini verir."
   ]
  },
  {
   "cell_type": "code",
   "execution_count": 21,
   "id": "25f024ad-dc3c-4ad7-9f16-b08cda2a0f86",
   "metadata": {},
   "outputs": [
    {
     "data": {
      "text/plain": [
       "16"
      ]
     },
     "execution_count": 21,
     "metadata": {},
     "output_type": "execute_result"
    }
   ],
   "source": [
    "len(name1)-1"
   ]
  },
  {
   "cell_type": "code",
   "execution_count": 22,
   "id": "af40b377-a0b3-447f-b340-75b24b3b0e87",
   "metadata": {},
   "outputs": [],
   "source": [
    "barcode = \"ABC123123123\""
   ]
  },
  {
   "cell_type": "code",
   "execution_count": 23,
   "id": "cac57be7-d81a-4e47-a714-03a75524658e",
   "metadata": {},
   "outputs": [
    {
     "data": {
      "text/plain": [
       "'ABC123123123'"
      ]
     },
     "execution_count": 23,
     "metadata": {},
     "output_type": "execute_result"
    }
   ],
   "source": [
    "barcode[::]"
   ]
  },
  {
   "cell_type": "code",
   "execution_count": 24,
   "id": "d70bf86c-16a5-4700-bd0f-5329c2a92b68",
   "metadata": {},
   "outputs": [
    {
     "data": {
      "text/plain": [
       "'C33'"
      ]
     },
     "execution_count": 24,
     "metadata": {},
     "output_type": "execute_result"
    }
   ],
   "source": [
    " barcode[2:10:3]"
   ]
  },
  {
   "cell_type": "code",
   "execution_count": 25,
   "id": "b13a7958-db3f-4027-aa72-b8ec1dfe311f",
   "metadata": {},
   "outputs": [
    {
     "data": {
      "text/plain": [
       "'C12312312'"
      ]
     },
     "execution_count": 25,
     "metadata": {},
     "output_type": "execute_result"
    }
   ],
   "source": [
    "barcode[2:-1:]"
   ]
  },
  {
   "cell_type": "code",
   "execution_count": 26,
   "id": "1d933e11-aec9-4145-a801-3278203a4fbf",
   "metadata": {},
   "outputs": [
    {
     "data": {
      "text/plain": [
       "''"
      ]
     },
     "execution_count": 26,
     "metadata": {},
     "output_type": "execute_result"
    }
   ],
   "source": [
    "barcode[0:-12:1]"
   ]
  },
  {
   "cell_type": "code",
   "execution_count": 41,
   "id": "b51230ad-f614-4992-b42d-6d7fd7b55f3a",
   "metadata": {},
   "outputs": [
    {
     "data": {
      "text/plain": [
       "'ABC123123123'"
      ]
     },
     "execution_count": 41,
     "metadata": {},
     "output_type": "execute_result"
    }
   ],
   "source": [
    "barcode[-12:12:]"
   ]
  },
  {
   "cell_type": "code",
   "execution_count": 43,
   "id": "dd06d0ff-5fc2-41fd-9c78-760c0bc337c9",
   "metadata": {},
   "outputs": [
    {
     "data": {
      "text/plain": [
       "'321321321CBA'"
      ]
     },
     "execution_count": 43,
     "metadata": {},
     "output_type": "execute_result"
    }
   ],
   "source": [
    "barcode[::-1] #sondan başlatır"
   ]
  },
  {
   "cell_type": "code",
   "execution_count": 44,
   "id": "72c935d2-5f4f-4299-80cf-4911c3e26a36",
   "metadata": {},
   "outputs": [
    {
     "data": {
      "text/plain": [
       "['elif', 'hüsna', 'turkay']"
      ]
     },
     "execution_count": 44,
     "metadata": {},
     "output_type": "execute_result"
    }
   ],
   "source": [
    "name1.split() #kelimeleri ayırır"
   ]
  },
  {
   "cell_type": "code",
   "execution_count": 45,
   "id": "d86c4a5a-6efd-4462-a133-da16fc42735f",
   "metadata": {},
   "outputs": [
    {
     "data": {
      "text/plain": [
       "list"
      ]
     },
     "execution_count": 45,
     "metadata": {},
     "output_type": "execute_result"
    }
   ],
   "source": [
    "type(name1.split())"
   ]
  },
  {
   "cell_type": "code",
   "execution_count": null,
   "id": "59695d39-c671-41d8-901d-048525321798",
   "metadata": {},
   "outputs": [],
   "source": []
  }
 ],
 "metadata": {
  "kernelspec": {
   "display_name": "Python 3 (ipykernel)",
   "language": "python",
   "name": "python3"
  },
  "language_info": {
   "codemirror_mode": {
    "name": "ipython",
    "version": 3
   },
   "file_extension": ".py",
   "mimetype": "text/x-python",
   "name": "python",
   "nbconvert_exporter": "python",
   "pygments_lexer": "ipython3",
   "version": "3.11.7"
  }
 },
 "nbformat": 4,
 "nbformat_minor": 5
}
