{
 "cells": [
  {
   "cell_type": "code",
   "execution_count": 3,
   "id": "d633d736-c137-4ba5-9755-e65aafd30e6b",
   "metadata": {},
   "outputs": [],
   "source": [
    "my_list = [1, 2, 3, 4, 3, 6, 7, 1, 9, 10]"
   ]
  },
  {
   "cell_type": "code",
   "execution_count": 4,
   "id": "f744e210-d28a-4fab-9461-e6d48f9e7d8a",
   "metadata": {},
   "outputs": [
    {
     "data": {
      "text/plain": [
       "10"
      ]
     },
     "execution_count": 4,
     "metadata": {},
     "output_type": "execute_result"
    }
   ],
   "source": [
    "len(my_list)"
   ]
  },
  {
   "cell_type": "code",
   "execution_count": 5,
   "id": "1be7f6ab-d7ea-4516-bafe-6934a0e6b297",
   "metadata": {},
   "outputs": [],
   "source": [
    "my_set = set(my_list)"
   ]
  },
  {
   "cell_type": "code",
   "execution_count": 6,
   "id": "416217b1-30f2-4758-9c5c-cad3d761a5eb",
   "metadata": {},
   "outputs": [
    {
     "data": {
      "text/plain": [
       "{1, 2, 3, 4, 6, 7, 9, 10}"
      ]
     },
     "execution_count": 6,
     "metadata": {},
     "output_type": "execute_result"
    }
   ],
   "source": [
    "my_set #sets her elemanın tek yazılmasına izin verir"
   ]
  },
  {
   "cell_type": "code",
   "execution_count": 7,
   "id": "4b864012-fb9a-4b8d-a3e2-f314abdb44b2",
   "metadata": {},
   "outputs": [],
   "source": [
    "#setleri küme olarak kullanabiliriz, \n",
    "my_set.add(1) # var olanı eklemeye izin vermez\n",
    "my_set.add(5) #olmayanı eklemeye yarayan fonks."
   ]
  },
  {
   "cell_type": "code",
   "execution_count": 8,
   "id": "63257207-f4e1-427b-81e7-d89a0d80d5ef",
   "metadata": {},
   "outputs": [
    {
     "data": {
      "text/plain": [
       "{1, 2, 3, 4, 5, 6, 7, 9, 10}"
      ]
     },
     "execution_count": 8,
     "metadata": {},
     "output_type": "execute_result"
    }
   ],
   "source": [
    "my_set"
   ]
  },
  {
   "cell_type": "code",
   "execution_count": 9,
   "id": "36d91c78-89eb-4234-a00b-65efed76b0e7",
   "metadata": {},
   "outputs": [],
   "source": [
    "my_set2 = [7, 8, 9, 10, 11, 12, 13]"
   ]
  },
  {
   "cell_type": "code",
   "execution_count": 10,
   "id": "c05a5922-2de8-42bd-9c68-86b12ffc2abb",
   "metadata": {},
   "outputs": [
    {
     "data": {
      "text/plain": [
       "{1, 2, 3, 4, 5, 6, 7, 8, 9, 10, 11, 12, 13}"
      ]
     },
     "execution_count": 10,
     "metadata": {},
     "output_type": "execute_result"
    }
   ],
   "source": [
    "my_set.union(my_set2) #sete set eklemeye yarar kesişim olmayacak"
   ]
  },
  {
   "cell_type": "code",
   "execution_count": 11,
   "id": "beb0a5e0-6b9a-4b55-b3d4-572554edfc1f",
   "metadata": {},
   "outputs": [
    {
     "data": {
      "text/plain": [
       "{7, 9, 10}"
      ]
     },
     "execution_count": 11,
     "metadata": {},
     "output_type": "execute_result"
    }
   ],
   "source": [
    "my_set.intersection(my_set2) #kesişimlerini gösterir"
   ]
  },
  {
   "cell_type": "code",
   "execution_count": 12,
   "id": "b144b824-f20d-4d34-ada2-68dbae3c2fe1",
   "metadata": {},
   "outputs": [
    {
     "data": {
      "text/plain": [
       "set"
      ]
     },
     "execution_count": 12,
     "metadata": {},
     "output_type": "execute_result"
    }
   ],
   "source": [
    "type(my_set.intersection(my_set2))"
   ]
  },
  {
   "cell_type": "code",
   "execution_count": 13,
   "id": "20c1bb2d-6229-406a-9823-4199d3343346",
   "metadata": {},
   "outputs": [],
   "source": [
    "city_list = [\"New York\", \"Paris\", \"Tokyo\", \"İstanbul\", \"London\"]"
   ]
  },
  {
   "cell_type": "code",
   "execution_count": 15,
   "id": "4a67a026-23b2-4015-b868-3525297aff3e",
   "metadata": {},
   "outputs": [],
   "source": [
    "empty_list = []\n",
    "empty_dict = {} #boş dict ve liste oluşturmak bu kadar ama boş seti bu şekilde oluşturamıyoruz"
   ]
  },
  {
   "cell_type": "code",
   "execution_count": 16,
   "id": "3d63d0d5-c203-4300-b346-b61de48a807a",
   "metadata": {},
   "outputs": [],
   "source": [
    "empty_set = set()"
   ]
  },
  {
   "cell_type": "code",
   "execution_count": 17,
   "id": "89e42367-f563-480d-9d39-70b203fcc59d",
   "metadata": {},
   "outputs": [
    {
     "data": {
      "text/plain": [
       "set"
      ]
     },
     "execution_count": 17,
     "metadata": {},
     "output_type": "execute_result"
    }
   ],
   "source": [
    "type(empty_set)"
   ]
  },
  {
   "cell_type": "code",
   "execution_count": 18,
   "id": "4939283c-a3e1-4ffc-aa94-9f227e1b240c",
   "metadata": {},
   "outputs": [
    {
     "data": {
      "text/plain": [
       "0"
      ]
     },
     "execution_count": 18,
     "metadata": {},
     "output_type": "execute_result"
    }
   ],
   "source": [
    "len(empty_set)"
   ]
  },
  {
   "cell_type": "code",
   "execution_count": 19,
   "id": "d4797919-1ed9-42a1-bcf0-d65218b05221",
   "metadata": {},
   "outputs": [],
   "source": [
    "empty_set.add(10)\n",
    "empty_set.add(10)\n",
    "empty_set.add(20)\n",
    "empty_set.add(30)"
   ]
  },
  {
   "cell_type": "code",
   "execution_count": 20,
   "id": "6be9e6ba-8ecb-4dc4-ae78-9143e7ca9ceb",
   "metadata": {},
   "outputs": [
    {
     "data": {
      "text/plain": [
       "{10, 20, 30}"
      ]
     },
     "execution_count": 20,
     "metadata": {},
     "output_type": "execute_result"
    }
   ],
   "source": [
    "empty_set"
   ]
  },
  {
   "cell_type": "code",
   "execution_count": 22,
   "id": "425325f9-3e13-40ab-b18c-c5d8109f0eac",
   "metadata": {},
   "outputs": [],
   "source": [
    "empty_list = []\n",
    "empty_dict = {} #bu şekilde gösterilebilidği gibi\n",
    "empty_list2 = list()\n",
    "empty_dict2 = dict() #şeklinde de gösterilebiliyor"
   ]
  },
  {
   "cell_type": "code",
   "execution_count": 23,
   "id": "4a4d640f-941a-41bf-b0f7-eaad7001897c",
   "metadata": {},
   "outputs": [],
   "source": [
    "empty_list.append(20)\n",
    "empty_list2.append(30)\n",
    "empty_dict[\"key1\"] = 10\n",
    "empty_dict2[\"key2\"] = 20"
   ]
  },
  {
   "cell_type": "code",
   "execution_count": 24,
   "id": "e5cbf9dd-0cf8-4c97-b445-357bfe3e2860",
   "metadata": {},
   "outputs": [
    {
     "name": "stdout",
     "output_type": "stream",
     "text": [
      "[20]\n",
      "[30]\n",
      "{'key1': 10}\n",
      "{'key2': 20}\n"
     ]
    }
   ],
   "source": [
    "print(empty_list)\n",
    "print(empty_list2)\n",
    "print(empty_dict)\n",
    "print(empty_dict2)"
   ]
  },
  {
   "cell_type": "code",
   "execution_count": 2,
   "id": "7885f871-586c-418f-ac0f-be209dfc2c0d",
   "metadata": {},
   "outputs": [],
   "source": [
    "my_list = [1, 1, 2, 2, 3, 4, 3, 6, 7, 1, 9, 10]"
   ]
  },
  {
   "cell_type": "raw",
   "id": "ddc958a4-2ae0-4ed6-bdae-4af2f2047832",
   "metadata": {},
   "source": [
    "print(len(set(my_list)))"
   ]
  },
  {
   "cell_type": "code",
   "execution_count": 4,
   "id": "7f4d1b6e-6415-4987-ba6b-67dcd8a02f6a",
   "metadata": {},
   "outputs": [],
   "source": [
    "aa = set(my_list)"
   ]
  },
  {
   "cell_type": "raw",
   "id": "2166ab0e-c3c4-461f-8252-862baad4e9a6",
   "metadata": {},
   "source": [
    "print(len(aa))"
   ]
  },
  {
   "cell_type": "code",
   "execution_count": null,
   "id": "3dc3e987-b264-49e5-a8a1-fd5010e3d501",
   "metadata": {},
   "outputs": [],
   "source": []
  }
 ],
 "metadata": {
  "kernelspec": {
   "display_name": "Python 3 (ipykernel)",
   "language": "python",
   "name": "python3"
  },
  "language_info": {
   "codemirror_mode": {
    "name": "ipython",
    "version": 3
   },
   "file_extension": ".py",
   "mimetype": "text/x-python",
   "name": "python",
   "nbconvert_exporter": "python",
   "pygments_lexer": "ipython3",
   "version": "3.11.7"
  }
 },
 "nbformat": 4,
 "nbformat_minor": 5
}
