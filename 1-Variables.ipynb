{
 "cells": [
  {
   "cell_type": "code",
   "execution_count": 1,
   "id": "e30efd24-e7c1-4ae8-ad88-1d71fb166964",
   "metadata": {},
   "outputs": [
    {
     "data": {
      "text/plain": [
       "11"
      ]
     },
     "execution_count": 1,
     "metadata": {},
     "output_type": "execute_result"
    }
   ],
   "source": [
    "3+8"
   ]
  },
  {
   "cell_type": "code",
   "execution_count": 10,
   "id": "5d7b8b84-9654-4155-ad4d-844660b159a9",
   "metadata": {},
   "outputs": [
    {
     "data": {
      "text/plain": [
       "1"
      ]
     },
     "execution_count": 10,
     "metadata": {},
     "output_type": "execute_result"
    }
   ],
   "source": [
    "1"
   ]
  },
  {
   "cell_type": "code",
   "execution_count": 4,
   "id": "353883b6-8bee-4a14-9e25-0c14ef848cd0",
   "metadata": {},
   "outputs": [],
   "source": [
    "age = 50"
   ]
  },
  {
   "cell_type": "code",
   "execution_count": 5,
   "id": "05290135-6324-481f-9b3f-5569a664579b",
   "metadata": {},
   "outputs": [
    {
     "data": {
      "text/plain": [
       "250"
      ]
     },
     "execution_count": 5,
     "metadata": {},
     "output_type": "execute_result"
    }
   ],
   "source": [
    "age * 5"
   ]
  },
  {
   "cell_type": "code",
   "execution_count": 6,
   "id": "aebd225e-569e-497f-8a03-4fb828bd816b",
   "metadata": {},
   "outputs": [
    {
     "data": {
      "text/plain": [
       "50"
      ]
     },
     "execution_count": 6,
     "metadata": {},
     "output_type": "execute_result"
    }
   ],
   "source": [
    "age"
   ]
  },
  {
   "cell_type": "code",
   "execution_count": 7,
   "id": "d856df2e-df58-4332-8330-ec30de66186b",
   "metadata": {},
   "outputs": [],
   "source": [
    "age = age * 3"
   ]
  },
  {
   "cell_type": "code",
   "execution_count": 8,
   "id": "425f40bd-d588-49a1-8f7c-a22e3422135f",
   "metadata": {},
   "outputs": [
    {
     "data": {
      "text/plain": [
       "150"
      ]
     },
     "execution_count": 8,
     "metadata": {},
     "output_type": "execute_result"
    }
   ],
   "source": [
    "age"
   ]
  },
  {
   "cell_type": "code",
   "execution_count": 12,
   "id": "69edaece-e9d1-4bb2-8ce6-5b19db454670",
   "metadata": {},
   "outputs": [],
   "source": [
    "#Variables"
   ]
  },
  {
   "cell_type": "code",
   "execution_count": 13,
   "id": "dd967af0-670a-4832-b414-89c2b382dc26",
   "metadata": {},
   "outputs": [],
   "source": [
    "# yorum satırı hashtag ile oluşturuluyor"
   ]
  },
  {
   "cell_type": "code",
   "execution_count": null,
   "id": "300c1dcc-b55a-409e-bc02-2675081daf87",
   "metadata": {},
   "outputs": [],
   "source": []
  }
 ],
 "metadata": {
  "kernelspec": {
   "display_name": "Python 3 (ipykernel)",
   "language": "python",
   "name": "python3"
  },
  "language_info": {
   "codemirror_mode": {
    "name": "ipython",
    "version": 3
   },
   "file_extension": ".py",
   "mimetype": "text/x-python",
   "name": "python",
   "nbconvert_exporter": "python",
   "pygments_lexer": "ipython3",
   "version": "3.11.7"
  }
 },
 "nbformat": 4,
 "nbformat_minor": 5
}
