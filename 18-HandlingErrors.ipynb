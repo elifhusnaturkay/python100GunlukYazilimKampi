{
 "cells": [
  {
   "cell_type": "code",
   "execution_count": 6,
   "id": "523e4f5c-d862-4148-863f-bf8797f7d6cf",
   "metadata": {},
   "outputs": [
    {
     "name": "stdin",
     "output_type": "stream",
     "text": [
      "enter your name elif\n",
      "enter your age 21\n"
     ]
    }
   ],
   "source": [
    "name = input(\"enter your name\")\n",
    "age = input(\"enter your age\")"
   ]
  },
  {
   "cell_type": "code",
   "execution_count": 5,
   "id": "83a9cff8-a97e-4349-8290-7f29dd814a8c",
   "metadata": {},
   "outputs": [
    {
     "data": {
      "text/plain": [
       "42"
      ]
     },
     "execution_count": 5,
     "metadata": {},
     "output_type": "execute_result"
    }
   ],
   "source": [
    "int(age) * 2"
   ]
  },
  {
   "cell_type": "code",
   "execution_count": 7,
   "id": "d95dade4-1abf-404a-85aa-0cc67f34ff7e",
   "metadata": {},
   "outputs": [
    {
     "name": "stdin",
     "output_type": "stream",
     "text": [
      "enter your name ahmet\n",
      "enter your age on bir\n"
     ]
    }
   ],
   "source": [
    "name1 = input(\"enter your name\")\n",
    "age1 = input(\"enter your age\")"
   ]
  },
  {
   "cell_type": "code",
   "execution_count": 9,
   "id": "2691daf1-290a-47c3-9465-6bd77e7f65e4",
   "metadata": {},
   "outputs": [
    {
     "ename": "ValueError",
     "evalue": "invalid literal for int() with base 10: 'on bir'",
     "output_type": "error",
     "traceback": [
      "\u001b[0;31m---------------------------------------------------------------------------\u001b[0m",
      "\u001b[0;31mValueError\u001b[0m                                Traceback (most recent call last)",
      "Cell \u001b[0;32mIn[9], line 1\u001b[0m\n\u001b[0;32m----> 1\u001b[0m \u001b[38;5;28mint\u001b[39m(age1) \u001b[38;5;241m*\u001b[39m \u001b[38;5;241m2\u001b[39m\n",
      "\u001b[0;31mValueError\u001b[0m: invalid literal for int() with base 10: 'on bir'"
     ]
    }
   ],
   "source": [
    "int(age1) * 2 "
   ]
  },
  {
   "cell_type": "code",
   "execution_count": 10,
   "id": "aa852ed8-d9cd-4945-b441-4bf4a4a48772",
   "metadata": {},
   "outputs": [],
   "source": [
    "#try - except"
   ]
  },
  {
   "cell_type": "code",
   "execution_count": 16,
   "id": "e81d56c8-10cb-4254-96d3-2d4a09e5f200",
   "metadata": {},
   "outputs": [
    {
     "data": {
      "text/plain": [
       "'\\ntry:\\n    #hata verebilecek kod (denetlenen)\\nexcept <ErrorType>:\\n    #hata gerçekleşirse çalışacak kod\\nfinally:\\n    ^ne olursa olsun çalışacak kod(opsiyonel)\\n'"
      ]
     },
     "execution_count": 16,
     "metadata": {},
     "output_type": "execute_result"
    }
   ],
   "source": [
    "'''\n",
    "try:\n",
    "    #hata verebilecek kod (denetlenen)\n",
    "except <ErrorType>:\n",
    "    #hata gerçekleşirse çalışacak kod\n",
    "finally:\n",
    "    ^ne olursa olsun çalışacak kod(opsiyonel)\n",
    "'''\n",
    "\n"
   ]
  },
  {
   "cell_type": "code",
   "execution_count": 17,
   "id": "bfbc1e8c-8237-42eb-ac64-2c03d4b4f652",
   "metadata": {},
   "outputs": [
    {
     "data": {
      "text/plain": [
       "'\\nError Type:\\n\\nTypeError: yanlış veri türüyle işlem yapılınca olur\\nnumber = 5\\ntext = \"Merhaba\"\\nprint(number + text)\\n\\nValueError: doğru tür geçersiz değer\\nnumber = int(\"Merhaba\")\\n\\nKeyError: dict içinde geçersiz key hatası\\nmy_dict = {\"isim\": \"Elif\"}\\nprint(my_dict[\"yas\"])\\n'"
      ]
     },
     "execution_count": 17,
     "metadata": {},
     "output_type": "execute_result"
    }
   ],
   "source": [
    "'''\n",
    "Error Type:\n",
    "\n",
    "TypeError: yanlış veri türüyle işlem yapılınca olur\n",
    "number = 5\n",
    "text = \"Merhaba\"\n",
    "print(number + text)\n",
    "\n",
    "ValueError: doğru tür geçersiz değer\n",
    "number = int(\"Merhaba\")\n",
    "\n",
    "KeyError: dict içinde geçersiz key hatası\n",
    "my_dict = {\"isim\": \"Elif\"}\n",
    "print(my_dict[\"yas\"])\n",
    "'''"
   ]
  },
  {
   "cell_type": "code",
   "execution_count": 1,
   "id": "ca2bdabb-7999-497a-b481-ee26bc315311",
   "metadata": {},
   "outputs": [
    {
     "name": "stdin",
     "output_type": "stream",
     "text": [
      "enter your age:  t\n"
     ]
    },
    {
     "name": "stdout",
     "output_type": "stream",
     "text": [
      "try again\n"
     ]
    },
    {
     "name": "stdin",
     "output_type": "stream",
     "text": [
      "enter your age:  eht\n"
     ]
    },
    {
     "name": "stdout",
     "output_type": "stream",
     "text": [
      "try again\n"
     ]
    },
    {
     "name": "stdin",
     "output_type": "stream",
     "text": [
      "enter your age:  21\n"
     ]
    },
    {
     "name": "stdout",
     "output_type": "stream",
     "text": [
      "21\n"
     ]
    }
   ],
   "source": [
    "while True: #bu sonsuz döngüye alır\n",
    "    try:\n",
    "        age1 = int(input(\"enter your age: \"))\n",
    "        print(age1)\n",
    "        break\n",
    "    except:\n",
    "        print(\"try again\")"
   ]
  },
  {
   "cell_type": "code",
   "execution_count": 1,
   "id": "8f050841-d36e-41bd-a903-cc5e9803dafe",
   "metadata": {},
   "outputs": [
    {
     "data": {
      "text/plain": [
       "'\\nfinally: hata varsa da yoksa da her zaman vardır\\n-> bir dosya açıp işlem yaptıktan sonra dosyanın MUTLAKA kapatılmasını istemek \\n\\n\\nelse: hiçbir hata yoksa çalışır.\\n\\ntry:\\n    #hata verebilecek kod\\nexcept <ErrorType>:\\n    ^hata gerçekleşitse çalışacak kod\\nfinally:\\n    #ne olursa olsun çalışacak kod\\nelse:\\n    #hata yoksa çalışır\\n\\n'"
      ]
     },
     "execution_count": 1,
     "metadata": {},
     "output_type": "execute_result"
    }
   ],
   "source": [
    "'''\n",
    "finally: hata varsa da yoksa da her zaman vardır\n",
    "-> bir dosya açıp işlem yaptıktan sonra dosyanın MUTLAKA kapatılmasını istemek \n",
    "\n",
    "\n",
    "else: hiçbir hata yoksa çalışır.\n",
    "\n",
    "try:\n",
    "    #hata verebilecek kod\n",
    "except <ErrorType>:\n",
    "    ^hata gerçekleşitse çalışacak kod\n",
    "finally:\n",
    "    #ne olursa olsun çalışacak kod\n",
    "else:\n",
    "    #hata yoksa çalışır\n",
    "\n",
    "'''"
   ]
  },
  {
   "cell_type": "code",
   "execution_count": 5,
   "id": "6968114a-1221-4b29-8960-39bd67ad7c93",
   "metadata": {},
   "outputs": [
    {
     "name": "stdin",
     "output_type": "stream",
     "text": [
      "sayı giriniz:  aaa\n"
     ]
    },
    {
     "name": "stdout",
     "output_type": "stream",
     "text": [
      "geçersiz giriş.\n",
      "program kapatılıyro\n"
     ]
    }
   ],
   "source": [
    "try: \n",
    "    num = int(input(\"sayı giriniz: \"))\n",
    "except ValueError:\n",
    "    print(\"geçersiz giriş.\")\n",
    "else:\n",
    "    print(f\"girdiğiniz sayının iki katı: {num * 2}\")\n",
    "finally:\n",
    "    print(\"program kapatılıyro\")"
   ]
  },
  {
   "cell_type": "code",
   "execution_count": 1,
   "id": "e5f8186d-7121-40a7-83f8-306178ecdc4d",
   "metadata": {},
   "outputs": [
    {
     "name": "stdin",
     "output_type": "stream",
     "text": [
      "sayı giriniz:  21\n"
     ]
    },
    {
     "name": "stdout",
     "output_type": "stream",
     "text": [
      "girdiğiniz sayının iki katı: 42\n",
      "program kapatılıyro.\n"
     ]
    }
   ],
   "source": [
    "    try: \n",
    "        num = int(input(\"sayı giriniz: \"))\n",
    "    except ValueError:\n",
    "        print(\"geçersiz giriş.\")\n",
    "    else:\n",
    "        print(f\"girdiğiniz sayının iki katı: {num * 2}\")\n",
    "    finally:\n",
    "        print(\"program kapatılıyro.\")"
   ]
  },
  {
   "cell_type": "code",
   "execution_count": null,
   "id": "0cb240a2-fb5a-4edc-be46-ef5e3b0a4786",
   "metadata": {},
   "outputs": [],
   "source": []
  },
  {
   "cell_type": "code",
   "execution_count": null,
   "id": "f029a185-ac20-49bc-b19a-5020d0c9730a",
   "metadata": {},
   "outputs": [],
   "source": []
  }
 ],
 "metadata": {
  "kernelspec": {
   "display_name": "Python 3 (ipykernel)",
   "language": "python",
   "name": "python3"
  },
  "language_info": {
   "codemirror_mode": {
    "name": "ipython",
    "version": 3
   },
   "file_extension": ".py",
   "mimetype": "text/x-python",
   "name": "python",
   "nbconvert_exporter": "python",
   "pygments_lexer": "ipython3",
   "version": "3.11.7"
  }
 },
 "nbformat": 4,
 "nbformat_minor": 5
}
