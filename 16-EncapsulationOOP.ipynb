{
 "cells": [
  {
   "cell_type": "markdown",
   "id": "1a308f88-c098-4891-ad20-864d1a7e0d44",
   "metadata": {},
   "source": [
    "#encapsualtion (kapsülleme)"
   ]
  },
  {
   "cell_type": "code",
   "execution_count": 1,
   "id": "01b128e6-308c-420f-9cee-0dfcb8b87f4d",
   "metadata": {},
   "outputs": [
    {
     "data": {
      "text/plain": [
       "'\\nPROTECTED MEMBERS (_)\\n\\nclass ClassName:\\n    def __init__(self, protected_var):\\n        self._protected_var = protected_var\\n\\n    def _protected_method(self):\\n        return self._protected_var\\n'"
      ]
     },
     "execution_count": 1,
     "metadata": {},
     "output_type": "execute_result"
    }
   ],
   "source": [
    "#nesnelerin iç durumlarının dışaırdan doğrudan erişime kapatılması \n",
    "#ve yalnızca belirli metotlar aracılığyla erişim sağlanması\n",
    "#veri bütünlüğü korunur kodun bakımı kolaylaşır.\n",
    "\n",
    "'''\n",
    "PUBLIC MEMBERS\n",
    "\n",
    "class ClassName:\n",
    "    def __init__(self, public_var):\n",
    "        self.public_var = public_var\n",
    "\n",
    "    def public_method(self):\n",
    "        return self.public_var\n",
    "'''\n",
    "\n",
    "\n",
    "'''\n",
    "PRIVATE MEMBERS (__)\n",
    "\n",
    "class ClassName:\n",
    "    def __init__(self, private_var):\n",
    "        self.__private_var = private_var\n",
    "\n",
    "    def __private_method(self):\n",
    "        return self.__private_var\n",
    "'''\n",
    "\n",
    "'''\n",
    "PROTECTED MEMBERS (_)\n",
    "\n",
    "class ClassName:\n",
    "    def __init__(self, protected_var):\n",
    "        self._protected_var = protected_var\n",
    "\n",
    "    def _protected_method(self):\n",
    "        return self._protected_var\n",
    "'''"
   ]
  },
  {
   "cell_type": "code",
   "execution_count": 13,
   "id": "49a08440-c0c0-4d9d-ab1c-ecc9c9525ccd",
   "metadata": {},
   "outputs": [],
   "source": [
    "#getter methods (alıcı yöntemler)\n",
    "\n",
    "#private attributes değerleri çağıran/döndüren fonksiyonları temsil eder.\n",
    "#class içindeki private attributes erişmek için kullanılır.\n",
    "\n",
    "class Deneme:\n",
    "    def __init__(self, name, age):\n",
    "        self.__name= name\n",
    "        self.__age = age\n",
    "\n",
    "    def __private_method(self, name, age):\n",
    "        self.name= name\n",
    "        self.age = age\n",
    "\n",
    "    def get_age(self):\n",
    "        return self.__age\n",
    "\n",
    "    def get_name(self):\n",
    "        return self.__name"
   ]
  },
  {
   "cell_type": "code",
   "execution_count": 14,
   "id": "bb834c3d-a05a-414d-a50f-b4d6220d8214",
   "metadata": {},
   "outputs": [],
   "source": [
    "deneme1 = Deneme('aaa', 111)"
   ]
  },
  {
   "cell_type": "code",
   "execution_count": 16,
   "id": "0cd0b949-781e-4c23-8a9e-1cbd68abf2c1",
   "metadata": {},
   "outputs": [
    {
     "name": "stdout",
     "output_type": "stream",
     "text": [
      "111\n",
      "aaa\n"
     ]
    }
   ],
   "source": [
    "print(deneme1.get_age())\n",
    "print(deneme1.get_name())"
   ]
  },
  {
   "cell_type": "code",
   "execution_count": 27,
   "id": "241e672c-be3c-4b8b-976c-e5d5b28e9b39",
   "metadata": {},
   "outputs": [],
   "source": [
    "#setter methods (ayarlayıcı yöntemler)\n",
    "\n",
    "#private attributes değerlerini ayarlar/değiştirir.\n",
    "#değerleri güvenli ve kontrollü bir şekilde değiştirmek için kullanılır\n",
    "\n",
    "class Deneme1(Deneme):\n",
    "    def set_name(self, name):\n",
    "        self._Deneme__name = name \n",
    "        \n",
    "    def set_age(self, age):\n",
    "        self._Deneme__age = age \n",
    "        \n",
    "    def get_name(self):\n",
    "        return super().get_name() \n",
    "        \n",
    "    def get_age(self):\n",
    "        return super().get_age()"
   ]
  },
  {
   "cell_type": "code",
   "execution_count": 28,
   "id": "8e2e5171-f4d7-47b3-ac25-2def882f72bc",
   "metadata": {},
   "outputs": [],
   "source": [
    "deneme2 = Deneme1('bbb', 222)"
   ]
  },
  {
   "cell_type": "code",
   "execution_count": 29,
   "id": "4a93e08c-73b5-432c-a2af-05b6c5cc95b9",
   "metadata": {},
   "outputs": [
    {
     "name": "stdout",
     "output_type": "stream",
     "text": [
      "bbb\n",
      "222\n"
     ]
    }
   ],
   "source": [
    "print(deneme2.get_name())\n",
    "print(deneme2.get_age())"
   ]
  },
  {
   "cell_type": "code",
   "execution_count": 30,
   "id": "77d08d2e-295d-4004-9787-f9e310774c19",
   "metadata": {},
   "outputs": [],
   "source": [
    "deneme2.set_name('ccc')"
   ]
  },
  {
   "cell_type": "code",
   "execution_count": 31,
   "id": "6bea6846-4407-47de-9a87-92719fc2dc2d",
   "metadata": {},
   "outputs": [],
   "source": [
    "deneme2.set_age(333)"
   ]
  },
  {
   "cell_type": "code",
   "execution_count": 32,
   "id": "362f08d7-6301-4633-bae6-2e55a3894d41",
   "metadata": {},
   "outputs": [
    {
     "name": "stdout",
     "output_type": "stream",
     "text": [
      "ccc\n",
      "333\n"
     ]
    }
   ],
   "source": [
    "print(deneme2.get_name())\n",
    "print(deneme2.get_age())"
   ]
  },
  {
   "cell_type": "code",
   "execution_count": null,
   "id": "e14de4c8-c83d-430d-883d-ae2f08fa5014",
   "metadata": {},
   "outputs": [],
   "source": []
  }
 ],
 "metadata": {
  "kernelspec": {
   "display_name": "Python 3 (ipykernel)",
   "language": "python",
   "name": "python3"
  },
  "language_info": {
   "codemirror_mode": {
    "name": "ipython",
    "version": 3
   },
   "file_extension": ".py",
   "mimetype": "text/x-python",
   "name": "python",
   "nbconvert_exporter": "python",
   "pygments_lexer": "ipython3",
   "version": "3.11.7"
  }
 },
 "nbformat": 4,
 "nbformat_minor": 5
}
