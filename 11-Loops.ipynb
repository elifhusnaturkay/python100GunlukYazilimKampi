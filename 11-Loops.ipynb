{
 "cells": [
  {
   "cell_type": "code",
   "execution_count": 1,
   "id": "5ade826b-adcc-4af3-bd8a-ebacad6d907f",
   "metadata": {},
   "outputs": [],
   "source": [
    "#for loop while loop"
   ]
  },
  {
   "cell_type": "code",
   "execution_count": 2,
   "id": "b31f797e-99ed-4953-a2a2-d129a88f6226",
   "metadata": {},
   "outputs": [],
   "source": [
    "my_list = [10,20,30,40,50,60]"
   ]
  },
  {
   "cell_type": "code",
   "execution_count": 4,
   "id": "999bb2cd-b4cb-485c-9ec0-e8150472bd6d",
   "metadata": {},
   "outputs": [
    {
     "name": "stdout",
     "output_type": "stream",
     "text": [
      "20\n",
      "3.3333333333333335\n",
      "40\n",
      "6.666666666666667\n",
      "60\n",
      "10.0\n",
      "80\n",
      "13.333333333333334\n",
      "100\n",
      "16.666666666666668\n",
      "120\n",
      "20.0\n"
     ]
    }
   ],
   "source": [
    "for i in my_list:\n",
    "    sum = i + i\n",
    "    print(sum)\n",
    "    ort = sum / len(my_list)\n",
    "    print(ort) "
   ]
  },
  {
   "cell_type": "code",
   "execution_count": 5,
   "id": "8fa7b3b7-34f1-4ac6-9ada-e6c9f44f2e4e",
   "metadata": {},
   "outputs": [],
   "source": [
    "# for degisken_adi in liste_adi:\n",
    "#     kod_blokları"
   ]
  },
  {
   "cell_type": "code",
   "execution_count": 6,
   "id": "ca66d141-5ee9-493b-9205-5d07301b1d53",
   "metadata": {},
   "outputs": [
    {
     "name": "stdout",
     "output_type": "stream",
     "text": [
      "30\n",
      "60\n"
     ]
    }
   ],
   "source": [
    "for num in my_list:\n",
    "    if num%6 == 0:\n",
    "        print (num)"
   ]
  },
  {
   "cell_type": "code",
   "execution_count": 21,
   "id": "6faad23d-2fc4-4bcd-82c0-efe7369523ac",
   "metadata": {},
   "outputs": [
    {
     "name": "stdout",
     "output_type": "stream",
     "text": [
      "<class 'dict'>\n",
      "<class 'list'>\n",
      "<class 'set'>\n",
      "<class 'tuple'>\n"
     ]
    }
   ],
   "source": [
    "#EXTRA\n",
    "\n",
    "my_dict = {\"Superman\": \"Clark Kent\", \"Batman\": \"Bruce Wayne\", \"Wonder Woman\": \"Diana Prince\", \"Spider-Man\": \"Peter Parker\", \"Iron Man\": \"Tony Stark\"}\n",
    "my_list = [\"Superman\", \"Batman\", \"Wonder Woman\", \"Spider-Man\", \"Iron Man\"]\n",
    "my_set = {\"Superman\", \"Batman\", \"Wonder Woman\", \"Spider-Man\", \"Iron Man\"}\n",
    "my_tuple = (\"Superman\", \"Batman\", \"Wonder Woman\", \"Spider-Man\", \"Iron Man\")\n",
    "\n",
    "print(type(my_dict))\n",
    "print(type(my_list))\n",
    "print(type(my_set))\n",
    "print(type(my_tuple))"
   ]
  },
  {
   "cell_type": "code",
   "execution_count": 9,
   "id": "b6d31a45-5189-44f3-8b0b-481a174492df",
   "metadata": {},
   "outputs": [],
   "source": [
    "my_list = [(\"Superman\", \"Clark Kent\"), (\"Batman\", \"Bruce Wayne\"), (\"Wonder Woman\", \"Diana Prince\"), (\"Spider-Man\", \"Peter Parker\")]"
   ]
  },
  {
   "cell_type": "code",
   "execution_count": 10,
   "id": "a7dff29e-44d4-46bb-83b0-d2b0a0200ac5",
   "metadata": {},
   "outputs": [
    {
     "data": {
      "text/plain": [
       "list"
      ]
     },
     "execution_count": 10,
     "metadata": {},
     "output_type": "execute_result"
    }
   ],
   "source": [
    "type(my_list)"
   ]
  },
  {
   "cell_type": "code",
   "execution_count": 11,
   "id": "d43aedcf-e804-4233-a6a7-e29a1111389b",
   "metadata": {},
   "outputs": [
    {
     "data": {
      "text/plain": [
       "tuple"
      ]
     },
     "execution_count": 11,
     "metadata": {},
     "output_type": "execute_result"
    }
   ],
   "source": [
    "type(my_list[0])"
   ]
  },
  {
   "cell_type": "code",
   "execution_count": 12,
   "id": "5a402138-a93a-42f8-8ee5-b2a26ea2cbd8",
   "metadata": {},
   "outputs": [
    {
     "name": "stdout",
     "output_type": "stream",
     "text": [
      "('Superman', 'Clark Kent')\n",
      "('Batman', 'Bruce Wayne')\n",
      "('Wonder Woman', 'Diana Prince')\n",
      "('Spider-Man', 'Peter Parker')\n"
     ]
    }
   ],
   "source": [
    "for hero in my_list:\n",
    "    print(hero)"
   ]
  },
  {
   "cell_type": "code",
   "execution_count": 17,
   "id": "df218b8a-515c-4770-abe7-af896734bcce",
   "metadata": {},
   "outputs": [
    {
     "name": "stdout",
     "output_type": "stream",
     "text": [
      "Superman\n",
      "Clark Kent\n",
      "Batman\n",
      "Bruce Wayne\n",
      "Wonder Woman\n",
      "Diana Prince\n",
      "Spider-Man\n",
      "Peter Parker\n"
     ]
    }
   ],
   "source": [
    "#tuple unboxing \n",
    "for (x,y) in my_list:\n",
    "    print(x)\n",
    "    print(y)"
   ]
  },
  {
   "cell_type": "code",
   "execution_count": 18,
   "id": "b5dc1bc1-591a-406c-b79c-b853a2fbf6f3",
   "metadata": {},
   "outputs": [],
   "source": [
    "my_list = [([1, 2, 3], [4, 5, 6], [7, 8, 9])]"
   ]
  },
  {
   "cell_type": "code",
   "execution_count": 20,
   "id": "23e8b69a-56c9-4952-a06e-9d515f173c70",
   "metadata": {},
   "outputs": [
    {
     "name": "stdout",
     "output_type": "stream",
     "text": [
      "[1, 2, 3]\n",
      "[4, 5, 6]\n",
      "[1, 2, 3, 7, 8, 9]\n"
     ]
    }
   ],
   "source": [
    "for (x,y,z) in my_list:\n",
    "    print(x)\n",
    "    print(y)\n",
    "    sum= x + z\n",
    "    print(sum)"
   ]
  },
  {
   "cell_type": "code",
   "execution_count": 22,
   "id": "a68002fa-093a-4864-8014-1236f2b347c3",
   "metadata": {},
   "outputs": [],
   "source": [
    "my_dict = {\"Superman\": \"Clark Kent\", \"Batman\": \"Bruce Wayne\", \"Wonder Woman\": \"Diana Prince\"}"
   ]
  },
  {
   "cell_type": "code",
   "execution_count": 24,
   "id": "cecacb26-dc27-4ee3-a0f5-ec6c940ac408",
   "metadata": {},
   "outputs": [
    {
     "name": "stdout",
     "output_type": "stream",
     "text": [
      "Superman\n",
      "Batman\n",
      "Wonder Woman\n"
     ]
    }
   ],
   "source": [
    "for hero in my_dict:\n",
    "    print(hero) #sadece keyleri verir"
   ]
  },
  {
   "cell_type": "code",
   "execution_count": 26,
   "id": "4cab47c1-314c-43dc-b4b0-5e32ef069408",
   "metadata": {},
   "outputs": [
    {
     "name": "stdout",
     "output_type": "stream",
     "text": [
      "('Superman', 'Clark Kent')\n",
      "('Batman', 'Bruce Wayne')\n",
      "('Wonder Woman', 'Diana Prince')\n"
     ]
    }
   ],
   "source": [
    "for hero in my_dict.items(): #item verir\n",
    "    print(hero) "
   ]
  },
  {
   "cell_type": "code",
   "execution_count": 27,
   "id": "06c8566a-a57d-47f6-ac08-71281efea0c0",
   "metadata": {},
   "outputs": [
    {
     "name": "stdout",
     "output_type": "stream",
     "text": [
      "Superman\n",
      "Batman\n",
      "Wonder Woman\n"
     ]
    }
   ],
   "source": [
    "for hero in my_dict.keys(): #key verir\n",
    "    print(hero) "
   ]
  },
  {
   "cell_type": "code",
   "execution_count": 28,
   "id": "8e8c5a3c-875f-40d5-bdbf-d0ceace0846b",
   "metadata": {},
   "outputs": [
    {
     "name": "stdout",
     "output_type": "stream",
     "text": [
      "Clark Kent\n",
      "Bruce Wayne\n",
      "Diana Prince\n"
     ]
    }
   ],
   "source": [
    "for hero in my_dict.values(): #value verir\n",
    "    print(hero) "
   ]
  },
  {
   "cell_type": "code",
   "execution_count": 30,
   "id": "da4d0b31-153a-4540-971b-108fcf34ae5a",
   "metadata": {},
   "outputs": [
    {
     "name": "stdout",
     "output_type": "stream",
     "text": [
      "Superman\n",
      "Clark Kent\n",
      "Batman\n",
      "Bruce Wayne\n",
      "Wonder Woman\n",
      "Diana Prince\n"
     ]
    }
   ],
   "source": [
    "for (key, value) in my_dict.items():\n",
    "    print(key)\n",
    "    print(value)"
   ]
  },
  {
   "cell_type": "code",
   "execution_count": 31,
   "id": "04bd2d7a-56c1-4aaf-9aa9-34a7e0b72ace",
   "metadata": {},
   "outputs": [],
   "source": [
    "# continue - break - pass"
   ]
  },
  {
   "cell_type": "code",
   "execution_count": 32,
   "id": "6d0d0773-a007-478b-be38-c542834d8d47",
   "metadata": {},
   "outputs": [
    {
     "data": {
      "text/plain": [
       "['Superman', 'Batman', 'Wonder Woman', 'Spider-Man', 'Iron Man']"
      ]
     },
     "execution_count": 32,
     "metadata": {},
     "output_type": "execute_result"
    }
   ],
   "source": [
    "my_list"
   ]
  },
  {
   "cell_type": "code",
   "execution_count": 33,
   "id": "50b1b769-391f-4367-a182-c28ec2aef9fe",
   "metadata": {},
   "outputs": [
    {
     "name": "stdout",
     "output_type": "stream",
     "text": [
      "Superman\n",
      "Batman\n",
      "Wonder Woman\n",
      "best ever hero\n",
      "Spider-Man\n",
      "Iron Man\n"
     ]
    }
   ],
   "source": [
    "for hero in my_list:\n",
    "    print(hero)\n",
    "    if hero == 'Wonder Woman':\n",
    "        print(\"best ever hero\")"
   ]
  },
  {
   "cell_type": "code",
   "execution_count": 40,
   "id": "bf6aafb3-08fc-49ca-848e-312bc050d657",
   "metadata": {},
   "outputs": [
    {
     "name": "stdout",
     "output_type": "stream",
     "text": [
      "Superman\n",
      "Batman\n",
      "Wonder Woman\n",
      "!\n"
     ]
    }
   ],
   "source": [
    "for hero in my_list:\n",
    "    print(hero)\n",
    "    if hero == 'Wonder Woman':\n",
    "        print(\"!\")\n",
    "        break #cevabı bulduktan sonra devam ettirmiyor"
   ]
  },
  {
   "cell_type": "code",
   "execution_count": 39,
   "id": "74cc3617-0565-4370-b2d0-53914572f5be",
   "metadata": {},
   "outputs": [
    {
     "name": "stdout",
     "output_type": "stream",
     "text": [
      "Superman\n",
      "Batman\n",
      "Wonder Woman\n",
      "!\n",
      "Spider-Man\n",
      "Iron Man\n"
     ]
    }
   ],
   "source": [
    "for hero in my_list:\n",
    "    print(hero)\n",
    "    if hero == 'Wonder Woman':\n",
    "        print(\"!\")\n",
    "        continue"
   ]
  },
  {
   "cell_type": "code",
   "execution_count": 36,
   "id": "2358be6e-a635-4dac-a362-622d353d6043",
   "metadata": {},
   "outputs": [
    {
     "name": "stdout",
     "output_type": "stream",
     "text": [
      "Superman\n",
      "Batman\n",
      "Wonder Woman\n",
      "Spider-Man\n",
      "Iron Man\n"
     ]
    }
   ],
   "source": [
    "for hero in my_list:\n",
    "    print(hero)\n",
    "    if hero == 'Wonder Woman':\n",
    "        continue\n",
    "        #continue burada dur bundan sonrasını çalıştırma\n",
    "        #bulduktan sonra kodun devamını yok saydı\n",
    "        print(\"best ever hero\")"
   ]
  },
  {
   "cell_type": "code",
   "execution_count": 38,
   "id": "aa104fb7-832a-4d45-a1e8-8cd0b30f3996",
   "metadata": {},
   "outputs": [
    {
     "name": "stdout",
     "output_type": "stream",
     "text": [
      "Superman\n",
      "a\n",
      "Batman\n",
      "a\n",
      "Wonder Woman\n",
      "Spider-Man\n",
      "a\n",
      "Iron Man\n",
      "a\n"
     ]
    }
   ],
   "source": [
    "for hero in my_list:\n",
    "    print(hero)\n",
    "    if hero == 'Wonder Woman':\n",
    "        continue\n",
    "    print(\"a\")"
   ]
  },
  {
   "cell_type": "code",
   "execution_count": 41,
   "id": "e0f14052-1546-4b23-90ed-32d9c2e322e4",
   "metadata": {},
   "outputs": [],
   "source": [
    "for hero in my_list:\n",
    "    pass #kardeş sen bi burada dur demek"
   ]
  },
  {
   "cell_type": "code",
   "execution_count": 43,
   "id": "4fd4997b-7c91-4e28-bf9c-6cabe4930beb",
   "metadata": {},
   "outputs": [],
   "source": [
    "#WHILE şu odluğu sürece şuna devam et"
   ]
  },
  {
   "cell_type": "code",
   "execution_count": null,
   "id": "06ddc48e-6aae-4d43-a40b-4823e4078472",
   "metadata": {},
   "outputs": [],
   "source": []
  }
 ],
 "metadata": {
  "kernelspec": {
   "display_name": "Python 3 (ipykernel)",
   "language": "python",
   "name": "python3"
  },
  "language_info": {
   "codemirror_mode": {
    "name": "ipython",
    "version": 3
   },
   "file_extension": ".py",
   "mimetype": "text/x-python",
   "name": "python",
   "nbconvert_exporter": "python",
   "pygments_lexer": "ipython3",
   "version": "3.11.7"
  }
 },
 "nbformat": 4,
 "nbformat_minor": 5
}
