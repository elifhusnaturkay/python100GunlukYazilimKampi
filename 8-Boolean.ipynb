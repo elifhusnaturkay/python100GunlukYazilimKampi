{
 "cells": [
  {
   "cell_type": "code",
   "execution_count": 1,
   "id": "c7ceac5f-5576-4f7e-b09b-6add87a7c99f",
   "metadata": {},
   "outputs": [],
   "source": [
    "#true or false"
   ]
  },
  {
   "cell_type": "code",
   "execution_count": 3,
   "id": "0ecfb9c0-ca42-44c5-8fca-7cba0347eff4",
   "metadata": {},
   "outputs": [],
   "source": [
    "my_boolean = True #büyük küçük harfe duyarlı"
   ]
  },
  {
   "cell_type": "code",
   "execution_count": 4,
   "id": "235ab8ec-4eeb-4a4b-94a5-8f5414d19389",
   "metadata": {},
   "outputs": [
    {
     "data": {
      "text/plain": [
       "bool"
      ]
     },
     "execution_count": 4,
     "metadata": {},
     "output_type": "execute_result"
    }
   ],
   "source": [
    "type(my_boolean)"
   ]
  },
  {
   "cell_type": "code",
   "execution_count": 5,
   "id": "a30e6cf3-ce09-498f-992c-c975ff04dac8",
   "metadata": {},
   "outputs": [
    {
     "data": {
      "text/plain": [
       "bool"
      ]
     },
     "execution_count": 5,
     "metadata": {},
     "output_type": "execute_result"
    }
   ],
   "source": [
    "type(5<3)"
   ]
  },
  {
   "cell_type": "code",
   "execution_count": null,
   "id": "a582a17d-702f-481c-b218-ed4dae2fbd57",
   "metadata": {},
   "outputs": [],
   "source": []
  }
 ],
 "metadata": {
  "kernelspec": {
   "display_name": "Python 3 (ipykernel)",
   "language": "python",
   "name": "python3"
  },
  "language_info": {
   "codemirror_mode": {
    "name": "ipython",
    "version": 3
   },
   "file_extension": ".py",
   "mimetype": "text/x-python",
   "name": "python",
   "nbconvert_exporter": "python",
   "pygments_lexer": "ipython3",
   "version": "3.11.7"
  }
 },
 "nbformat": 4,
 "nbformat_minor": 5
}
